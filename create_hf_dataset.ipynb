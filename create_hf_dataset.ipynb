{
 "cells": [
  {
   "cell_type": "code",
   "execution_count": 39,
   "id": "2614b8c9",
   "metadata": {},
   "outputs": [],
   "source": [
    "import os\n",
    "\n",
    "os.environ[\"JAX_PLATFORMS\"] = \"cpu\" \n",
    "\n",
    "\n",
    "from datasets import Dataset\n",
    "\n",
    "from gensbi_examples.tasks import get_task\n",
    "\n",
    "from jax import numpy as jnp\n",
    "\n",
    "import json\n",
    "from huggingface_hub import upload_file\n",
    "\n",
    "# Your dictionary with metadata\n"
   ]
  },
  {
   "cell_type": "code",
   "execution_count": 40,
   "id": "1879d71f",
   "metadata": {},
   "outputs": [],
   "source": [
    "tasks = [\"two_moons\", \"slcp\", \"gaussian_linear_uniform\", \"gaussian_linear\", \"gaussian_mixture\"]\n",
    "repo_name = \"aurelio-amerio/SBI-benchmarks\""
   ]
  },
  {
   "cell_type": "code",
   "execution_count": 41,
   "id": "52089a26",
   "metadata": {},
   "outputs": [
    {
     "name": "stdout",
     "output_type": "stream",
     "text": [
      "./task_data/data_two_moons.npz already exists, skipping download.\n",
      "./task_data/data_slcp.npz already exists, skipping download.\n",
      "./task_data/data_gaussian_linear_uniform.npz already exists, skipping download.\n",
      "./task_data/data_gaussian_linear.npz already exists, skipping download.\n",
      "./task_data/data_gaussian_mixture.npz already exists, skipping download.\n"
     ]
    }
   ],
   "source": [
    "metadata = {}\n",
    "\n",
    "for task_name in tasks:\n",
    "    task = get_task(task_name)\n",
    "    dim_data = task.data[\"dim_data\"].item()\n",
    "    dim_theta = task.data[\"dim_theta\"].item()\n",
    "\n",
    "    metadata[task_name] = {\"dim_data\": dim_data, \"dim_theta\": dim_theta}\n",
    "\n",
    "file_path = \"metadata.json\"\n",
    "with open(file_path, 'w') as f:\n",
    "    json.dump(metadata, f, indent=4)"
   ]
  },
  {
   "cell_type": "code",
   "execution_count": 42,
   "id": "b59107fd",
   "metadata": {},
   "outputs": [
    {
     "data": {
      "text/plain": [
       "CommitInfo(commit_url='https://huggingface.co/datasets/aurelio-amerio/SBI-benchmarks/commit/c764c682edf58b001210b1c453567b5989fe2a9d', commit_message='Upload metadata.json with huggingface_hub', commit_description='', oid='c764c682edf58b001210b1c453567b5989fe2a9d', pr_url=None, repo_url=RepoUrl('https://huggingface.co/datasets/aurelio-amerio/SBI-benchmarks', endpoint='https://huggingface.co', repo_type='dataset', repo_id='aurelio-amerio/SBI-benchmarks'), pr_revision=None, pr_num=None)"
      ]
     },
     "execution_count": 42,
     "metadata": {},
     "output_type": "execute_result"
    }
   ],
   "source": [
    "upload_file(\n",
    "    path_or_fileobj=file_path,\n",
    "    path_in_repo=\"metadata.json\",  # The name of the file in the repo\n",
    "    repo_id=repo_name,\n",
    "    repo_type=\"dataset\",\n",
    ")"
   ]
  },
  {
   "cell_type": "code",
   "execution_count": 43,
   "id": "87eff394",
   "metadata": {},
   "outputs": [],
   "source": [
    "# upload dataset function\n",
    "\n",
    "def upload_dataset(task_name: str, repo_name: str):\n",
    "    task = get_task(task_name)\n",
    "    data_dict = dict(task.data)\n",
    "\n",
    "    max_samples = int(1e6)\n",
    "    dtype = jnp.float32\n",
    "\n",
    "    xs = data_dict[\"xs\"][: max_samples]\n",
    "    xs = xs.astype(dtype)\n",
    "    thetas = data_dict[\"thetas\"][: max_samples]\n",
    "    thetas = thetas.astype(dtype)\n",
    "\n",
    "    xs_val = data_dict[\"xs\"][max_samples :]\n",
    "    xs_val = xs_val.astype(dtype)\n",
    "    thetas_val = data_dict[\"thetas\"][max_samples :]\n",
    "    thetas_val = thetas_val.astype(dtype)\n",
    "\n",
    "    observations = data_dict[\"observations\"]\n",
    "    observations = observations.astype(dtype)\n",
    "\n",
    "    reference_samples = data_dict[\"reference_samples\"]\n",
    "    reference_samples = reference_samples.astype(dtype)\n",
    "\n",
    "    true_parameters = data_dict[\"true_parameters\"]\n",
    "    true_parameters = true_parameters.astype(dtype)\n",
    "\n",
    "    dim_data = data_dict[\"dim_data\"]\n",
    "    dim_theta = data_dict[\"dim_theta\"]\n",
    "    # dim_joint = dim_data + dim_theta\n",
    "    # num_observations = data_dict[\"num_observations\"]\n",
    "\n",
    "    dataset_train = Dataset.from_dict({\"xs\": xs, \"thetas\": thetas})\n",
    "    dataset_val = Dataset.from_dict({\"xs\": xs_val, \"thetas\": thetas_val})\n",
    "    dataset_reference_posterior = Dataset.from_dict(\n",
    "        {\"reference_samples\": reference_samples, \"observations\": observations, \"true_parameters\": true_parameters}\n",
    "    )\n",
    "\n",
    "    dataset_train.push_to_hub(repo_name, config_name=task_name, split=\"train\", private=False)\n",
    "    dataset_val.push_to_hub(repo_name, config_name=task_name, split=\"validation\", private=False)\n",
    "    dataset_reference_posterior.push_to_hub(repo_name, config_name=f\"{task_name}_posterior\", split=\"reference_posterior\", private=False)\n",
    "\n",
    "    return"
   ]
  },
  {
   "cell_type": "markdown",
   "id": "daf0cdbd",
   "metadata": {},
   "source": [
    "# upload datasets"
   ]
  },
  {
   "cell_type": "code",
   "execution_count": 44,
   "id": "4bb6963a",
   "metadata": {},
   "outputs": [
    {
     "name": "stdout",
     "output_type": "stream",
     "text": [
      "./task_data/data_two_moons.npz already exists, skipping download.\n"
     ]
    },
    {
     "data": {
      "application/vnd.jupyter.widget-view+json": {
       "model_id": "963331a3962340bea733cf99aa16bd10",
       "version_major": 2,
       "version_minor": 0
      },
      "text/plain": [
       "Uploading the dataset shards:   0%|          | 0/1 [00:00<?, ? shards/s]"
      ]
     },
     "metadata": {},
     "output_type": "display_data"
    },
    {
     "data": {
      "application/vnd.jupyter.widget-view+json": {
       "model_id": "8eb32071384948868a53ed5f1e9460ef",
       "version_major": 2,
       "version_minor": 0
      },
      "text/plain": [
       "Creating parquet from Arrow format:   0%|          | 0/1 [00:00<?, ?ba/s]"
      ]
     },
     "metadata": {},
     "output_type": "display_data"
    },
    {
     "data": {
      "application/vnd.jupyter.widget-view+json": {
       "model_id": "eae837c882144c2c822e27dd367e0a7b",
       "version_major": 2,
       "version_minor": 0
      },
      "text/plain": [
       "Processing Files (0 / 0): |          |  0.00B /  0.00B            "
      ]
     },
     "metadata": {},
     "output_type": "display_data"
    },
    {
     "data": {
      "application/vnd.jupyter.widget-view+json": {
       "model_id": "3b79398be61942e884638793a904af48",
       "version_major": 2,
       "version_minor": 0
      },
      "text/plain": [
       "New Data Upload: |          |  0.00B /  0.00B            "
      ]
     },
     "metadata": {},
     "output_type": "display_data"
    },
    {
     "data": {
      "application/vnd.jupyter.widget-view+json": {
       "model_id": "5f8449b7c7be4173a66684e5d36e592a",
       "version_major": 2,
       "version_minor": 0
      },
      "text/plain": [
       "Uploading the dataset shards:   0%|          | 0/1 [00:00<?, ? shards/s]"
      ]
     },
     "metadata": {},
     "output_type": "display_data"
    },
    {
     "data": {
      "application/vnd.jupyter.widget-view+json": {
       "model_id": "079cf6f1a04944a0bc29a6d774df1170",
       "version_major": 2,
       "version_minor": 0
      },
      "text/plain": [
       "Creating parquet from Arrow format:   0%|          | 0/1 [00:00<?, ?ba/s]"
      ]
     },
     "metadata": {},
     "output_type": "display_data"
    },
    {
     "data": {
      "application/vnd.jupyter.widget-view+json": {
       "model_id": "dc691f293e044f5b915ee0468444a980",
       "version_major": 2,
       "version_minor": 0
      },
      "text/plain": [
       "Processing Files (0 / 0): |          |  0.00B /  0.00B            "
      ]
     },
     "metadata": {},
     "output_type": "display_data"
    },
    {
     "data": {
      "application/vnd.jupyter.widget-view+json": {
       "model_id": "07edc346a14e4bf393340c7ecfe203c0",
       "version_major": 2,
       "version_minor": 0
      },
      "text/plain": [
       "New Data Upload: |          |  0.00B /  0.00B            "
      ]
     },
     "metadata": {},
     "output_type": "display_data"
    },
    {
     "data": {
      "application/vnd.jupyter.widget-view+json": {
       "model_id": "c266b3e9e44a43369eb5ef78a00beef4",
       "version_major": 2,
       "version_minor": 0
      },
      "text/plain": [
       "README.md:   0%|          | 0.00/379 [00:00<?, ?B/s]"
      ]
     },
     "metadata": {},
     "output_type": "display_data"
    },
    {
     "data": {
      "application/vnd.jupyter.widget-view+json": {
       "model_id": "cf121568825149bbbace1f126699f24c",
       "version_major": 2,
       "version_minor": 0
      },
      "text/plain": [
       "Uploading the dataset shards:   0%|          | 0/1 [00:00<?, ? shards/s]"
      ]
     },
     "metadata": {},
     "output_type": "display_data"
    },
    {
     "data": {
      "application/vnd.jupyter.widget-view+json": {
       "model_id": "2f75aaa4e5404e9c9cf5f0300d87e20e",
       "version_major": 2,
       "version_minor": 0
      },
      "text/plain": [
       "Creating parquet from Arrow format:   0%|          | 0/1 [00:00<?, ?ba/s]"
      ]
     },
     "metadata": {},
     "output_type": "display_data"
    },
    {
     "data": {
      "application/vnd.jupyter.widget-view+json": {
       "model_id": "2fdf5fa6a9134507b64fbfe64b96bc3e",
       "version_major": 2,
       "version_minor": 0
      },
      "text/plain": [
       "Processing Files (0 / 0): |          |  0.00B /  0.00B            "
      ]
     },
     "metadata": {},
     "output_type": "display_data"
    },
    {
     "data": {
      "application/vnd.jupyter.widget-view+json": {
       "model_id": "fe4b441f5a054318971d35b37f40abcc",
       "version_major": 2,
       "version_minor": 0
      },
      "text/plain": [
       "New Data Upload: |          |  0.00B /  0.00B            "
      ]
     },
     "metadata": {},
     "output_type": "display_data"
    },
    {
     "data": {
      "application/vnd.jupyter.widget-view+json": {
       "model_id": "cfc0fef7615b47bbbf6413a937821dec",
       "version_major": 2,
       "version_minor": 0
      },
      "text/plain": [
       "README.md:   0%|          | 0.00/503 [00:00<?, ?B/s]"
      ]
     },
     "metadata": {},
     "output_type": "display_data"
    }
   ],
   "source": [
    "upload_dataset(\"two_moons\", \"aurelio-amerio/SBI-benchmarks\")"
   ]
  },
  {
   "cell_type": "code",
   "execution_count": 45,
   "id": "4b81aa06",
   "metadata": {},
   "outputs": [
    {
     "name": "stdout",
     "output_type": "stream",
     "text": [
      "./task_data/data_gaussian_linear.npz already exists, skipping download.\n"
     ]
    },
    {
     "data": {
      "application/vnd.jupyter.widget-view+json": {
       "model_id": "e7d16fc5a1ba451faae5d7893dd94e2a",
       "version_major": 2,
       "version_minor": 0
      },
      "text/plain": [
       "Uploading the dataset shards:   0%|          | 0/1 [00:00<?, ? shards/s]"
      ]
     },
     "metadata": {},
     "output_type": "display_data"
    },
    {
     "data": {
      "application/vnd.jupyter.widget-view+json": {
       "model_id": "33b528b77af74f4c907c1e79ff5a0d9d",
       "version_major": 2,
       "version_minor": 0
      },
      "text/plain": [
       "Creating parquet from Arrow format:   0%|          | 0/1 [00:00<?, ?ba/s]"
      ]
     },
     "metadata": {},
     "output_type": "display_data"
    },
    {
     "data": {
      "application/vnd.jupyter.widget-view+json": {
       "model_id": "5d2cd559d9e24a22b604bf7ccf0a3443",
       "version_major": 2,
       "version_minor": 0
      },
      "text/plain": [
       "Processing Files (0 / 0): |          |  0.00B /  0.00B            "
      ]
     },
     "metadata": {},
     "output_type": "display_data"
    },
    {
     "data": {
      "application/vnd.jupyter.widget-view+json": {
       "model_id": "eb311a1e39ca4dc3a6b224c9bff626bb",
       "version_major": 2,
       "version_minor": 0
      },
      "text/plain": [
       "New Data Upload: |          |  0.00B /  0.00B            "
      ]
     },
     "metadata": {},
     "output_type": "display_data"
    },
    {
     "data": {
      "application/vnd.jupyter.widget-view+json": {
       "model_id": "2230eb13e8f94f6f9a1a6ee44388d2b2",
       "version_major": 2,
       "version_minor": 0
      },
      "text/plain": [
       "README.md: 0.00B [00:00, ?B/s]"
      ]
     },
     "metadata": {},
     "output_type": "display_data"
    },
    {
     "data": {
      "application/vnd.jupyter.widget-view+json": {
       "model_id": "8147b6117d744475bedd2b4922f7bc05",
       "version_major": 2,
       "version_minor": 0
      },
      "text/plain": [
       "Uploading the dataset shards:   0%|          | 0/1 [00:00<?, ? shards/s]"
      ]
     },
     "metadata": {},
     "output_type": "display_data"
    },
    {
     "data": {
      "application/vnd.jupyter.widget-view+json": {
       "model_id": "628341edaa6841ae9928144eeee6d728",
       "version_major": 2,
       "version_minor": 0
      },
      "text/plain": [
       "Creating parquet from Arrow format:   0%|          | 0/1 [00:00<?, ?ba/s]"
      ]
     },
     "metadata": {},
     "output_type": "display_data"
    },
    {
     "data": {
      "application/vnd.jupyter.widget-view+json": {
       "model_id": "25c2f16d8f31474587462be8b6387120",
       "version_major": 2,
       "version_minor": 0
      },
      "text/plain": [
       "Processing Files (0 / 0): |          |  0.00B /  0.00B            "
      ]
     },
     "metadata": {},
     "output_type": "display_data"
    },
    {
     "data": {
      "application/vnd.jupyter.widget-view+json": {
       "model_id": "d2979687e1b04283a5514b78f864b2d3",
       "version_major": 2,
       "version_minor": 0
      },
      "text/plain": [
       "New Data Upload: |          |  0.00B /  0.00B            "
      ]
     },
     "metadata": {},
     "output_type": "display_data"
    },
    {
     "data": {
      "application/vnd.jupyter.widget-view+json": {
       "model_id": "4194f11e98bf442fb3f5d963aebb99bf",
       "version_major": 2,
       "version_minor": 0
      },
      "text/plain": [
       "README.md: 0.00B [00:00, ?B/s]"
      ]
     },
     "metadata": {},
     "output_type": "display_data"
    },
    {
     "data": {
      "application/vnd.jupyter.widget-view+json": {
       "model_id": "a079c52fd189464cbba0869959767d39",
       "version_major": 2,
       "version_minor": 0
      },
      "text/plain": [
       "Uploading the dataset shards:   0%|          | 0/1 [00:00<?, ? shards/s]"
      ]
     },
     "metadata": {},
     "output_type": "display_data"
    },
    {
     "data": {
      "application/vnd.jupyter.widget-view+json": {
       "model_id": "def84f387efb48888e7965d89e5a0aa6",
       "version_major": 2,
       "version_minor": 0
      },
      "text/plain": [
       "Creating parquet from Arrow format:   0%|          | 0/1 [00:00<?, ?ba/s]"
      ]
     },
     "metadata": {},
     "output_type": "display_data"
    },
    {
     "data": {
      "application/vnd.jupyter.widget-view+json": {
       "model_id": "a3021b07985b4ecd914a778f288a3dc3",
       "version_major": 2,
       "version_minor": 0
      },
      "text/plain": [
       "Processing Files (0 / 0): |          |  0.00B /  0.00B            "
      ]
     },
     "metadata": {},
     "output_type": "display_data"
    },
    {
     "data": {
      "application/vnd.jupyter.widget-view+json": {
       "model_id": "989f6109188745e284949ca2b5dab07b",
       "version_major": 2,
       "version_minor": 0
      },
      "text/plain": [
       "New Data Upload: |          |  0.00B /  0.00B            "
      ]
     },
     "metadata": {},
     "output_type": "display_data"
    },
    {
     "data": {
      "application/vnd.jupyter.widget-view+json": {
       "model_id": "44b3a5ec427346ce834c487e28a542e8",
       "version_major": 2,
       "version_minor": 0
      },
      "text/plain": [
       "README.md: 0.00B [00:00, ?B/s]"
      ]
     },
     "metadata": {},
     "output_type": "display_data"
    }
   ],
   "source": [
    "upload_dataset(\"gaussian_linear\", \"aurelio-amerio/SBI-benchmarks\")"
   ]
  },
  {
   "cell_type": "code",
   "execution_count": 46,
   "id": "9dd2d197",
   "metadata": {},
   "outputs": [
    {
     "name": "stdout",
     "output_type": "stream",
     "text": [
      "./task_data/data_gaussian_linear_uniform.npz already exists, skipping download.\n"
     ]
    },
    {
     "data": {
      "application/vnd.jupyter.widget-view+json": {
       "model_id": "ada15fd2a7c04356bd9a79b07611cf8f",
       "version_major": 2,
       "version_minor": 0
      },
      "text/plain": [
       "Uploading the dataset shards:   0%|          | 0/1 [00:00<?, ? shards/s]"
      ]
     },
     "metadata": {},
     "output_type": "display_data"
    },
    {
     "data": {
      "application/vnd.jupyter.widget-view+json": {
       "model_id": "4084012c9f0e4ce4b7388567921aea8d",
       "version_major": 2,
       "version_minor": 0
      },
      "text/plain": [
       "Creating parquet from Arrow format:   0%|          | 0/1 [00:00<?, ?ba/s]"
      ]
     },
     "metadata": {},
     "output_type": "display_data"
    },
    {
     "data": {
      "application/vnd.jupyter.widget-view+json": {
       "model_id": "97d2651e33f7443585b5bc2890770fcb",
       "version_major": 2,
       "version_minor": 0
      },
      "text/plain": [
       "Processing Files (0 / 0): |          |  0.00B /  0.00B            "
      ]
     },
     "metadata": {},
     "output_type": "display_data"
    },
    {
     "data": {
      "application/vnd.jupyter.widget-view+json": {
       "model_id": "68d55e125b6245169d680e8c0d311201",
       "version_major": 2,
       "version_minor": 0
      },
      "text/plain": [
       "New Data Upload: |          |  0.00B /  0.00B            "
      ]
     },
     "metadata": {},
     "output_type": "display_data"
    },
    {
     "data": {
      "application/vnd.jupyter.widget-view+json": {
       "model_id": "df1259617abf41b6ba48035fd8f71bb0",
       "version_major": 2,
       "version_minor": 0
      },
      "text/plain": [
       "README.md: 0.00B [00:00, ?B/s]"
      ]
     },
     "metadata": {},
     "output_type": "display_data"
    },
    {
     "data": {
      "application/vnd.jupyter.widget-view+json": {
       "model_id": "688d1af51b694e61a3a6c1e59b40cf5a",
       "version_major": 2,
       "version_minor": 0
      },
      "text/plain": [
       "Uploading the dataset shards:   0%|          | 0/1 [00:00<?, ? shards/s]"
      ]
     },
     "metadata": {},
     "output_type": "display_data"
    },
    {
     "data": {
      "application/vnd.jupyter.widget-view+json": {
       "model_id": "2ad9d6be5ca747faa750cdb9103a7c4e",
       "version_major": 2,
       "version_minor": 0
      },
      "text/plain": [
       "Creating parquet from Arrow format:   0%|          | 0/1 [00:00<?, ?ba/s]"
      ]
     },
     "metadata": {},
     "output_type": "display_data"
    },
    {
     "data": {
      "application/vnd.jupyter.widget-view+json": {
       "model_id": "d5152231f7fa486b8bece3fc15ede005",
       "version_major": 2,
       "version_minor": 0
      },
      "text/plain": [
       "Processing Files (0 / 0): |          |  0.00B /  0.00B            "
      ]
     },
     "metadata": {},
     "output_type": "display_data"
    },
    {
     "data": {
      "application/vnd.jupyter.widget-view+json": {
       "model_id": "7310da59e2f04826b2d1fea504a20979",
       "version_major": 2,
       "version_minor": 0
      },
      "text/plain": [
       "New Data Upload: |          |  0.00B /  0.00B            "
      ]
     },
     "metadata": {},
     "output_type": "display_data"
    },
    {
     "data": {
      "application/vnd.jupyter.widget-view+json": {
       "model_id": "f54a363e90904fd18894f8ccb5e266a8",
       "version_major": 2,
       "version_minor": 0
      },
      "text/plain": [
       "README.md: 0.00B [00:00, ?B/s]"
      ]
     },
     "metadata": {},
     "output_type": "display_data"
    },
    {
     "data": {
      "application/vnd.jupyter.widget-view+json": {
       "model_id": "5a13ee297f9b4ffa9fa14dc4a59b7434",
       "version_major": 2,
       "version_minor": 0
      },
      "text/plain": [
       "Uploading the dataset shards:   0%|          | 0/1 [00:00<?, ? shards/s]"
      ]
     },
     "metadata": {},
     "output_type": "display_data"
    },
    {
     "data": {
      "application/vnd.jupyter.widget-view+json": {
       "model_id": "634f85b2ee574b2aa56345aa2438e285",
       "version_major": 2,
       "version_minor": 0
      },
      "text/plain": [
       "Creating parquet from Arrow format:   0%|          | 0/1 [00:00<?, ?ba/s]"
      ]
     },
     "metadata": {},
     "output_type": "display_data"
    },
    {
     "data": {
      "application/vnd.jupyter.widget-view+json": {
       "model_id": "cc688880c9e94dd6a083cdeda067793a",
       "version_major": 2,
       "version_minor": 0
      },
      "text/plain": [
       "Processing Files (0 / 0): |          |  0.00B /  0.00B            "
      ]
     },
     "metadata": {},
     "output_type": "display_data"
    },
    {
     "data": {
      "application/vnd.jupyter.widget-view+json": {
       "model_id": "2d2c6fc9720d464b95ba93c41aaaa130",
       "version_major": 2,
       "version_minor": 0
      },
      "text/plain": [
       "New Data Upload: |          |  0.00B /  0.00B            "
      ]
     },
     "metadata": {},
     "output_type": "display_data"
    },
    {
     "data": {
      "application/vnd.jupyter.widget-view+json": {
       "model_id": "6eefbf9496114792903f02c6304786e4",
       "version_major": 2,
       "version_minor": 0
      },
      "text/plain": [
       "README.md: 0.00B [00:00, ?B/s]"
      ]
     },
     "metadata": {},
     "output_type": "display_data"
    }
   ],
   "source": [
    "upload_dataset(\"gaussian_linear_uniform\", \"aurelio-amerio/SBI-benchmarks\")"
   ]
  },
  {
   "cell_type": "code",
   "execution_count": 47,
   "id": "5b96f040",
   "metadata": {},
   "outputs": [
    {
     "name": "stdout",
     "output_type": "stream",
     "text": [
      "./task_data/data_gaussian_mixture.npz already exists, skipping download.\n"
     ]
    },
    {
     "data": {
      "application/vnd.jupyter.widget-view+json": {
       "model_id": "599f2c6594e74f80a4d1e81fa30f8cce",
       "version_major": 2,
       "version_minor": 0
      },
      "text/plain": [
       "Uploading the dataset shards:   0%|          | 0/1 [00:00<?, ? shards/s]"
      ]
     },
     "metadata": {},
     "output_type": "display_data"
    },
    {
     "data": {
      "application/vnd.jupyter.widget-view+json": {
       "model_id": "bab0f672a1fb40d4a8318b5f410be9cd",
       "version_major": 2,
       "version_minor": 0
      },
      "text/plain": [
       "Creating parquet from Arrow format:   0%|          | 0/1 [00:00<?, ?ba/s]"
      ]
     },
     "metadata": {},
     "output_type": "display_data"
    },
    {
     "data": {
      "application/vnd.jupyter.widget-view+json": {
       "model_id": "cf5b0f00a9ac45fb977be8d270386271",
       "version_major": 2,
       "version_minor": 0
      },
      "text/plain": [
       "Processing Files (0 / 0): |          |  0.00B /  0.00B            "
      ]
     },
     "metadata": {},
     "output_type": "display_data"
    },
    {
     "data": {
      "application/vnd.jupyter.widget-view+json": {
       "model_id": "fb4c85ce97f64751b69aadf67081ee35",
       "version_major": 2,
       "version_minor": 0
      },
      "text/plain": [
       "New Data Upload: |          |  0.00B /  0.00B            "
      ]
     },
     "metadata": {},
     "output_type": "display_data"
    },
    {
     "data": {
      "application/vnd.jupyter.widget-view+json": {
       "model_id": "70c4cd7b5ba643c29621a77c5cc383a3",
       "version_major": 2,
       "version_minor": 0
      },
      "text/plain": [
       "README.md: 0.00B [00:00, ?B/s]"
      ]
     },
     "metadata": {},
     "output_type": "display_data"
    },
    {
     "data": {
      "application/vnd.jupyter.widget-view+json": {
       "model_id": "ee49a5a342ed46778f2bc7902abdcd74",
       "version_major": 2,
       "version_minor": 0
      },
      "text/plain": [
       "Uploading the dataset shards:   0%|          | 0/1 [00:00<?, ? shards/s]"
      ]
     },
     "metadata": {},
     "output_type": "display_data"
    },
    {
     "data": {
      "application/vnd.jupyter.widget-view+json": {
       "model_id": "386e26199e41447dadb5555b71f7a191",
       "version_major": 2,
       "version_minor": 0
      },
      "text/plain": [
       "Creating parquet from Arrow format:   0%|          | 0/1 [00:00<?, ?ba/s]"
      ]
     },
     "metadata": {},
     "output_type": "display_data"
    },
    {
     "data": {
      "application/vnd.jupyter.widget-view+json": {
       "model_id": "8dd30fa1a77f44f78a6a7b229e61ed88",
       "version_major": 2,
       "version_minor": 0
      },
      "text/plain": [
       "Processing Files (0 / 0): |          |  0.00B /  0.00B            "
      ]
     },
     "metadata": {},
     "output_type": "display_data"
    },
    {
     "data": {
      "application/vnd.jupyter.widget-view+json": {
       "model_id": "5fea2bcd31b8491bbc27fb9009538220",
       "version_major": 2,
       "version_minor": 0
      },
      "text/plain": [
       "New Data Upload: |          |  0.00B /  0.00B            "
      ]
     },
     "metadata": {},
     "output_type": "display_data"
    },
    {
     "data": {
      "application/vnd.jupyter.widget-view+json": {
       "model_id": "0e3fea992377456b87dfd0f61114b11f",
       "version_major": 2,
       "version_minor": 0
      },
      "text/plain": [
       "README.md: 0.00B [00:00, ?B/s]"
      ]
     },
     "metadata": {},
     "output_type": "display_data"
    },
    {
     "data": {
      "application/vnd.jupyter.widget-view+json": {
       "model_id": "c2406be2169f41fc91b75785f9a7c31f",
       "version_major": 2,
       "version_minor": 0
      },
      "text/plain": [
       "Uploading the dataset shards:   0%|          | 0/1 [00:00<?, ? shards/s]"
      ]
     },
     "metadata": {},
     "output_type": "display_data"
    },
    {
     "data": {
      "application/vnd.jupyter.widget-view+json": {
       "model_id": "8212ef19f8424c4dac6b3e89f1647156",
       "version_major": 2,
       "version_minor": 0
      },
      "text/plain": [
       "Creating parquet from Arrow format:   0%|          | 0/1 [00:00<?, ?ba/s]"
      ]
     },
     "metadata": {},
     "output_type": "display_data"
    },
    {
     "data": {
      "application/vnd.jupyter.widget-view+json": {
       "model_id": "9d8a0bb8dce54056870ab7b2de80d181",
       "version_major": 2,
       "version_minor": 0
      },
      "text/plain": [
       "Processing Files (0 / 0): |          |  0.00B /  0.00B            "
      ]
     },
     "metadata": {},
     "output_type": "display_data"
    },
    {
     "data": {
      "application/vnd.jupyter.widget-view+json": {
       "model_id": "11a47f00f43043a6b91c3632c7d0bdef",
       "version_major": 2,
       "version_minor": 0
      },
      "text/plain": [
       "New Data Upload: |          |  0.00B /  0.00B            "
      ]
     },
     "metadata": {},
     "output_type": "display_data"
    },
    {
     "data": {
      "application/vnd.jupyter.widget-view+json": {
       "model_id": "fa58366b59974d15849ed5323b5c179a",
       "version_major": 2,
       "version_minor": 0
      },
      "text/plain": [
       "README.md: 0.00B [00:00, ?B/s]"
      ]
     },
     "metadata": {},
     "output_type": "display_data"
    }
   ],
   "source": [
    "upload_dataset(\"gaussian_mixture\", \"aurelio-amerio/SBI-benchmarks\")"
   ]
  },
  {
   "cell_type": "code",
   "execution_count": 48,
   "id": "0af3dd56",
   "metadata": {},
   "outputs": [
    {
     "name": "stdout",
     "output_type": "stream",
     "text": [
      "./task_data/data_slcp.npz already exists, skipping download.\n"
     ]
    },
    {
     "data": {
      "application/vnd.jupyter.widget-view+json": {
       "model_id": "c1fa5d17ca5e4ff5ae22be7b8f41ec80",
       "version_major": 2,
       "version_minor": 0
      },
      "text/plain": [
       "Uploading the dataset shards:   0%|          | 0/1 [00:00<?, ? shards/s]"
      ]
     },
     "metadata": {},
     "output_type": "display_data"
    },
    {
     "data": {
      "application/vnd.jupyter.widget-view+json": {
       "model_id": "40e05aa3bc8e48e7aad859daf78fdf43",
       "version_major": 2,
       "version_minor": 0
      },
      "text/plain": [
       "Creating parquet from Arrow format:   0%|          | 0/1 [00:00<?, ?ba/s]"
      ]
     },
     "metadata": {},
     "output_type": "display_data"
    },
    {
     "data": {
      "application/vnd.jupyter.widget-view+json": {
       "model_id": "4c196293f1b24418bed285bfe2c985d0",
       "version_major": 2,
       "version_minor": 0
      },
      "text/plain": [
       "Processing Files (0 / 0): |          |  0.00B /  0.00B            "
      ]
     },
     "metadata": {},
     "output_type": "display_data"
    },
    {
     "data": {
      "application/vnd.jupyter.widget-view+json": {
       "model_id": "235f33f10b4b477da020ff4a409eb459",
       "version_major": 2,
       "version_minor": 0
      },
      "text/plain": [
       "New Data Upload: |          |  0.00B /  0.00B            "
      ]
     },
     "metadata": {},
     "output_type": "display_data"
    },
    {
     "data": {
      "application/vnd.jupyter.widget-view+json": {
       "model_id": "ffe2239cc74f4270893247535f5f97aa",
       "version_major": 2,
       "version_minor": 0
      },
      "text/plain": [
       "README.md: 0.00B [00:00, ?B/s]"
      ]
     },
     "metadata": {},
     "output_type": "display_data"
    },
    {
     "data": {
      "application/vnd.jupyter.widget-view+json": {
       "model_id": "376ac27000b94f3fb37dcc8bc9f07455",
       "version_major": 2,
       "version_minor": 0
      },
      "text/plain": [
       "Uploading the dataset shards:   0%|          | 0/1 [00:00<?, ? shards/s]"
      ]
     },
     "metadata": {},
     "output_type": "display_data"
    },
    {
     "data": {
      "application/vnd.jupyter.widget-view+json": {
       "model_id": "f58e70afba2c403aa4d521b23f95b187",
       "version_major": 2,
       "version_minor": 0
      },
      "text/plain": [
       "Creating parquet from Arrow format:   0%|          | 0/1 [00:00<?, ?ba/s]"
      ]
     },
     "metadata": {},
     "output_type": "display_data"
    },
    {
     "data": {
      "application/vnd.jupyter.widget-view+json": {
       "model_id": "eda22863a8df493abafc54cc7492626f",
       "version_major": 2,
       "version_minor": 0
      },
      "text/plain": [
       "Processing Files (0 / 0): |          |  0.00B /  0.00B            "
      ]
     },
     "metadata": {},
     "output_type": "display_data"
    },
    {
     "data": {
      "application/vnd.jupyter.widget-view+json": {
       "model_id": "b3621d75dfa44b5bb8ba8ac306c4a279",
       "version_major": 2,
       "version_minor": 0
      },
      "text/plain": [
       "New Data Upload: |          |  0.00B /  0.00B            "
      ]
     },
     "metadata": {},
     "output_type": "display_data"
    },
    {
     "data": {
      "application/vnd.jupyter.widget-view+json": {
       "model_id": "e299d9867a6f4cf3bcefbd5c0ee7b738",
       "version_major": 2,
       "version_minor": 0
      },
      "text/plain": [
       "README.md: 0.00B [00:00, ?B/s]"
      ]
     },
     "metadata": {},
     "output_type": "display_data"
    },
    {
     "data": {
      "application/vnd.jupyter.widget-view+json": {
       "model_id": "1abb3adcb1a5424e80d22e18a714b2ce",
       "version_major": 2,
       "version_minor": 0
      },
      "text/plain": [
       "Uploading the dataset shards:   0%|          | 0/1 [00:00<?, ? shards/s]"
      ]
     },
     "metadata": {},
     "output_type": "display_data"
    },
    {
     "data": {
      "application/vnd.jupyter.widget-view+json": {
       "model_id": "0f977026f99d41e7b1bc4f90d07fa8b5",
       "version_major": 2,
       "version_minor": 0
      },
      "text/plain": [
       "Creating parquet from Arrow format:   0%|          | 0/1 [00:00<?, ?ba/s]"
      ]
     },
     "metadata": {},
     "output_type": "display_data"
    },
    {
     "data": {
      "application/vnd.jupyter.widget-view+json": {
       "model_id": "0058c51d45244d01a8938b366164489a",
       "version_major": 2,
       "version_minor": 0
      },
      "text/plain": [
       "Processing Files (0 / 0): |          |  0.00B /  0.00B            "
      ]
     },
     "metadata": {},
     "output_type": "display_data"
    },
    {
     "data": {
      "application/vnd.jupyter.widget-view+json": {
       "model_id": "ca2b865922e7431d96496aacff1363a8",
       "version_major": 2,
       "version_minor": 0
      },
      "text/plain": [
       "New Data Upload: |          |  0.00B /  0.00B            "
      ]
     },
     "metadata": {},
     "output_type": "display_data"
    },
    {
     "data": {
      "application/vnd.jupyter.widget-view+json": {
       "model_id": "fd34b50e57424320964b11d5655f0393",
       "version_major": 2,
       "version_minor": 0
      },
      "text/plain": [
       "README.md: 0.00B [00:00, ?B/s]"
      ]
     },
     "metadata": {},
     "output_type": "display_data"
    }
   ],
   "source": [
    "upload_dataset(\"slcp\", \"aurelio-amerio/SBI-benchmarks\")"
   ]
  },
  {
   "cell_type": "markdown",
   "id": "9ea9e12d",
   "metadata": {},
   "source": [
    "# read the dataset"
   ]
  },
  {
   "cell_type": "code",
   "execution_count": 6,
   "id": "bed7850b",
   "metadata": {},
   "outputs": [],
   "source": [
    "from datasets import load_dataset\n",
    "import grain"
   ]
  },
  {
   "cell_type": "code",
   "execution_count": 65,
   "id": "932b08e2",
   "metadata": {},
   "outputs": [],
   "source": [
    "dataset = load_dataset(\"aurelio-amerio/SBI-benchmarks\", \"two_moons\").with_format(\"jax\")\n",
    "datset_posteriors = load_dataset(\"aurelio-amerio/SBI-benchmarks\", \"two_moons_posterior\").with_format(\"jax\")"
   ]
  },
  {
   "cell_type": "code",
   "execution_count": 68,
   "id": "5248780a",
   "metadata": {},
   "outputs": [
    {
     "data": {
      "text/plain": [
       "Column([Array([-0.07232666,  0.15797222], dtype=float32), Array([ 0.06684327, -0.0785135 ], dtype=float32), Array([0.7485914 , 0.79264987], dtype=float32), Array([0.4217006 , 0.38446832], dtype=float32), Array([-0.53844297, -0.78507245], dtype=float32)])"
      ]
     },
     "execution_count": 68,
     "metadata": {},
     "output_type": "execute_result"
    }
   ],
   "source": [
    "dataset[\"train\"][\"thetas\"]"
   ]
  },
  {
   "cell_type": "code",
   "execution_count": 66,
   "id": "9a8fe403",
   "metadata": {},
   "outputs": [],
   "source": [
    "df_train, df_val = dataset[\"train\"], dataset[\"validation\"]"
   ]
  },
  {
   "cell_type": "code",
   "execution_count": 69,
   "id": "ce0f08be",
   "metadata": {},
   "outputs": [
    {
     "data": {
      "text/plain": [
       "Array([[ 0.281683  ,  0.2242634 ],\n",
       "       [ 0.2971876 , -0.03324421],\n",
       "       [-0.75120413,  0.08253357],\n",
       "       ...,\n",
       "       [-0.06863332,  0.00407624],\n",
       "       [-0.2576473 ,  0.0116563 ],\n",
       "       [-0.3101945 , -0.05234248]], dtype=float32)"
      ]
     },
     "execution_count": 69,
     "metadata": {},
     "output_type": "execute_result"
    }
   ],
   "source": [
    "df_train[:1000][\"xs\"]"
   ]
  },
  {
   "cell_type": "code",
   "execution_count": 54,
   "id": "69824067",
   "metadata": {},
   "outputs": [],
   "source": [
    "dataset_grain = (\n",
    "    grain.MapDataset.source(df_train)\n",
    "    .shuffle(seed=42)\n",
    "    .batch(30))"
   ]
  },
  {
   "cell_type": "code",
   "execution_count": 55,
   "id": "8cfe5345",
   "metadata": {},
   "outputs": [],
   "source": [
    "df_it = iter(dataset_grain)"
   ]
  },
  {
   "cell_type": "code",
   "execution_count": 56,
   "id": "2e92be7a",
   "metadata": {},
   "outputs": [
    {
     "data": {
      "text/plain": [
       "{'thetas': [array([ 0.467538  ,  0.88914347,  0.26116252, -0.52116048, -0.93691456,\n",
       "         -0.31210661,  0.65375125, -0.33742607,  0.06828678, -0.28487289,\n",
       "          0.20822608, -0.77626491, -0.05730355, -0.78603745,  0.10012674,\n",
       "          0.5670855 ,  0.95254672, -0.954916  , -0.31865442, -0.6957866 ,\n",
       "         -0.27683496, -0.2223177 , -0.49766672, -0.52744901,  0.39993548,\n",
       "          0.24547338,  0.03779721,  0.24671066,  0.96027672, -0.80480754]),\n",
       "  array([ 0.90814471,  0.32589257, -0.9304893 ,  0.7387073 ,  0.53239202,\n",
       "          0.38518476, -0.60087037, -0.83268023,  0.9578861 ,  0.11601651,\n",
       "          0.75384724, -0.02665102,  0.0180403 ,  0.20102799,  0.70654619,\n",
       "         -0.69085133,  0.32683408, -0.78483844,  0.18504393, -0.74988341,\n",
       "          0.91683877, -0.10444295,  0.60779667, -0.81385148,  0.8729471 ,\n",
       "         -0.23154068,  0.52339888, -0.95439363,  0.87607026,  0.24402499])],\n",
       " 'xs': [array([-0.6812014 , -0.5300777 , -0.12253505,  0.17347679,  0.02442998,\n",
       "          0.28448182,  0.25723591, -0.48054057, -0.45843908,  0.24195993,\n",
       "         -0.3866165 , -0.21552336,  0.30732575, -0.10439062, -0.2338464 ,\n",
       "          0.26456511, -0.57331514, -0.95766044,  0.24266571, -0.68292832,\n",
       "         -0.12980774,  0.06944174,  0.24745053, -0.59724098, -0.5591799 ,\n",
       "          0.29523689, -0.14591548, -0.21759844, -1.04253352, -0.06572351]),\n",
       "  array([ 0.40562662, -0.4757776 , -0.85898131,  0.95941603,  1.102525  ,\n",
       "          0.48866975, -0.97537458, -0.35939163,  0.53655142,  0.2862221 ,\n",
       "          0.28718492,  0.50253069,  0.03030293,  0.76451582,  0.38668266,\n",
       "         -0.86802572, -0.43916589,  0.18827507,  0.3061865 , -0.0128875 ,\n",
       "          0.91880304,  0.17157809,  0.84470958, -0.18721886,  0.27527544,\n",
       "         -0.25207317,  0.43038541, -0.91601527, -0.14165616,  0.76183063])]}"
      ]
     },
     "execution_count": 56,
     "metadata": {},
     "output_type": "execute_result"
    }
   ],
   "source": [
    "next(df_it)"
   ]
  },
  {
   "cell_type": "code",
   "execution_count": 31,
   "id": "c3ff727c",
   "metadata": {},
   "outputs": [],
   "source": [
    "from huggingface_hub import hf_hub_download"
   ]
  },
  {
   "cell_type": "code",
   "execution_count": 36,
   "id": "2590a244",
   "metadata": {},
   "outputs": [],
   "source": [
    "fname = hf_hub_download(repo_id=repo_name, filename=\"metadata.json\", repo_type=\"dataset\")\n",
    "with open(fname, 'r') as f:\n",
    "    metadata = json.load(f)"
   ]
  },
  {
   "cell_type": "code",
   "execution_count": 38,
   "id": "d914e4c7",
   "metadata": {},
   "outputs": [
    {
     "data": {
      "text/plain": [
       "{'two_moons': {'dim_data': 2, 'dim_theta': 2},\n",
       " 'slcp': {'dim_data': 8, 'dim_theta': 5},\n",
       " 'gaussian_linear_uniform': {'dim_data': 10, 'dim_theta': 10},\n",
       " 'gaussian_linear': {'dim_data': 10, 'dim_theta': 10},\n",
       " 'gaussian_mixture': {'dim_data': 2, 'dim_theta': 2}}"
      ]
     },
     "execution_count": 38,
     "metadata": {},
     "output_type": "execute_result"
    }
   ],
   "source": [
    "metadata"
   ]
  },
  {
   "cell_type": "code",
   "execution_count": null,
   "id": "d9fba508",
   "metadata": {},
   "outputs": [],
   "source": []
  }
 ],
 "metadata": {
  "kernelspec": {
   "display_name": "gensbi",
   "language": "python",
   "name": "python3"
  },
  "language_info": {
   "codemirror_mode": {
    "name": "ipython",
    "version": 3
   },
   "file_extension": ".py",
   "mimetype": "text/x-python",
   "name": "python",
   "nbconvert_exporter": "python",
   "pygments_lexer": "ipython3",
   "version": "3.12.11"
  }
 },
 "nbformat": 4,
 "nbformat_minor": 5
}
