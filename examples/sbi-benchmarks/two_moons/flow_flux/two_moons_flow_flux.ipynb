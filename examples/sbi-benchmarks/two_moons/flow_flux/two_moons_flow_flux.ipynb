{
 "cells": [
  {
   "cell_type": "markdown",
   "metadata": {},
   "source": [
    "# Two Moons Simformer Flux1 Flow Matching Example\n",
    "---\n",
    "This notebook demonstrates conditional flow-matching on the Two Moons task using JAX and Flax. \n",
    "\n",
    "**About Simulation-Based Inference (SBI):** SBI refers to a class of methods for inferring parameters of complex models when the likelihood function is intractable, but simulation is possible. SBI algorithms learn to approximate the posterior distribution over parameters given observed data, enabling inference in scientific and engineering domains where traditional methods fail.\n",
    "\n",
    "**The Two Moons Dataset:**\n",
    "The Two Moons dataset is a two-dimensional simulation-based inference benchmark designed to test an algorithm's ability to handle complex posterior distributions. Its posterior is both bimodal (two distinct peaks) and locally crescent-shaped, making it a challenging task for inference algorithms. The primary purpose of this benchmark is to evaluate how well different methods can capture and represent multimodality and intricate structure in the posterior.\n",
    "\n",
    "**Purpose of This Notebook:**\n",
    "This notebook trains and evaluates a Simformer flow-matching model on the Two Moons task. The goal is to assess the model's ability to learn and represent a non-trivial posterior distribution with both global (bimodal) and local (crescent-shaped) complexity.\n",
    "\n",
    "## Table of Contents\n",
    "| Section | Description |\n",
    "|---|---|\n",
    "| [1. Introduction & Setup](#1-introduction--setup) | Overview, environment, device, autoreload |\n",
    "| [2. Task & Data Preparation](#2-task--data-preparation) | Define task, visualize data, create datasets |\n",
    "| [3. Model Configuration & Definition](#3-model-configuration--definition) | Load config, set parameters, instantiate model |\n",
    "| [4. Training](#4-training) | Train or restore model, manage checkpoints |\n",
    "| [5. Evaluation & Visualization](#5-evaluation--visualization) | Visualize loss, sample posterior, compute log prob |\n",
    "| [6. Animations](#6-animations) | Create and display GIFs of results |\n",
    "\n",
    "## 1. Introduction & Setup\n",
    "---\n",
    "In this section, we introduce the problem, set up the computational environment, import required libraries, configure JAX for CPU or GPU usage, and enable autoreload for iterative development. Compatibility with Google Colab is also ensured."
   ]
  },
  {
   "cell_type": "code",
   "execution_count": 1,
   "metadata": {},
   "outputs": [],
   "source": [
    "# Check if running on Colab and install dependencies if needed\n",
    "try:\n",
    "    import google.colab\n",
    "    colab = True\n",
    "except ImportError:\n",
    "    colab = False\n",
    "\n",
    "if colab:\n",
    "    # Install required packages and clone the repository\n",
    "    %pip install \"gensbi_examples[cuda12] @ git+https://github.com/aurelio-amerio/GenSBI-examples\"\n",
    "    !git clone https://github.com/aurelio-amerio/GenSBI-examples\n",
    "    %cd GenSBI-examples/examples/sbi-benchmarks/two_moons"
   ]
  },
  {
   "cell_type": "code",
   "execution_count": 2,
   "metadata": {},
   "outputs": [],
   "source": [
    "# load autoreload extension\n",
    "%load_ext autoreload\n",
    "%autoreload 2"
   ]
  },
  {
   "cell_type": "code",
   "execution_count": 3,
   "metadata": {},
   "outputs": [],
   "source": [
    "import os\n",
    "# select device\n",
    "\n",
    "os.environ[\"JAX_PLATFORMS\"] = \"cuda\" \n",
    "# os.environ[\"JAX_PLATFORMS\"] = \"cpu\" "
   ]
  },
  {
   "cell_type": "markdown",
   "metadata": {},
   "source": [
    "## 2. Task & Data Preparation\n",
    "---\n",
    "In this section, we define the Two Moons task, visualize reference samples, and create the training and validation datasets required for model learning. Batch size and sample count are set for reproducibility and performance."
   ]
  },
  {
   "cell_type": "code",
   "execution_count": 4,
   "metadata": {},
   "outputs": [],
   "source": [
    "restore_model=True\n",
    "train_model=False"
   ]
  },
  {
   "cell_type": "code",
   "execution_count": 5,
   "metadata": {},
   "outputs": [],
   "source": [
    "import orbax.checkpoint as ocp\n",
    "# get the current notebook path\n",
    "notebook_path = os.getcwd()\n",
    "checkpoint_dir = os.path.join(notebook_path, \"checkpoints\")\n",
    "os.makedirs(checkpoint_dir, exist_ok=True)"
   ]
  },
  {
   "cell_type": "code",
   "execution_count": 6,
   "metadata": {},
   "outputs": [],
   "source": [
    "import matplotlib.pyplot as plt\n",
    "import jax\n",
    "import jax.numpy as jnp\n",
    "from flax import nnx\n",
    "\n",
    "from numpyro import distributions as dist\n",
    "import numpy as np\n"
   ]
  },
  {
   "cell_type": "code",
   "execution_count": 7,
   "metadata": {},
   "outputs": [],
   "source": [
    "from gensbi.utils.plotting import plot_marginals"
   ]
  },
  {
   "cell_type": "code",
   "execution_count": 8,
   "metadata": {},
   "outputs": [
    {
     "name": "stderr",
     "output_type": "stream",
     "text": [
      "/home/aure/miniforge3/envs/gensbi/lib/python3.12/site-packages/google/protobuf/runtime_version.py:98: UserWarning: Protobuf gencode version 5.28.3 is exactly one major version older than the runtime version 6.31.1 at grain/proto/execution_summary.proto. Please update the gencode to avoid compatibility violations in the next runtime release.\n",
      "  warnings.warn(\n"
     ]
    }
   ],
   "source": [
    "from gensbi_examples.tasks import TwoMoons\n",
    "task = TwoMoons()"
   ]
  },
  {
   "cell_type": "code",
   "execution_count": 9,
   "metadata": {},
   "outputs": [],
   "source": [
    "# reference posterior for an observation\n",
    "obs, reference_samples = task.get_reference(num_observation=8)"
   ]
  },
  {
   "cell_type": "code",
   "execution_count": 10,
   "metadata": {},
   "outputs": [
    {
     "data": {
      "image/png": "[encoded data removed]",
      "text/plain": [
       "<Figure size 500x500 with 4 Axes>"
      ]
     },
     "metadata": {},
     "output_type": "display_data"
    }
   ],
   "source": [
    "# plot the 2D posterior \n",
    "plot_marginals(np.asarray(reference_samples, dtype=np.float32), gridsize=50,range=[(-1,0),(0,1)], plot_levels=False, backend=\"seaborn\")\n",
    "plt.show()"
   ]
  },
  {
   "cell_type": "code",
   "execution_count": 11,
   "metadata": {},
   "outputs": [],
   "source": [
    "# make a dataset\n",
    "nsamples = int(1e5)"
   ]
  },
  {
   "cell_type": "code",
   "execution_count": 12,
   "metadata": {},
   "outputs": [],
   "source": [
    "# Set batch size for training. Larger batch sizes help prevent overfitting, but are limited by available GPU memory.\n",
    "batch_size = 4096\n",
    "# Create training and validation datasets using the Two Moons task object.\n",
    "train_dataset = task.get_train_dataset(batch_size)\n",
    "val_dataset = task.get_val_dataset()\n",
    "\n",
    "# Create iterators for the training and validation datasets.\n",
    "dataset_iter = iter(train_dataset)\n",
    "val_dataset_iter = iter(val_dataset)"
   ]
  },
  {
   "cell_type": "markdown",
   "metadata": {},
   "source": [
    "## 3. Model Configuration & Definition\n",
    "---\n",
    "In this section, we load the model and optimizer configuration, set all relevant parameters, and instantiate the Simformer model. Edge masks and marginalization functions are used for flexible inference and posterior estimation."
   ]
  },
  {
   "cell_type": "code",
   "execution_count": 13,
   "metadata": {},
   "outputs": [],
   "source": [
    "from gensbi.models import SimformerParams, Flux1Params\n",
    "from gensbi.recipes import SimformerFlowPipeline, SimformerDiffusionPipeline, Flux1FlowPipeline, Flux1DiffusionPipeline"
   ]
  },
  {
   "cell_type": "code",
   "execution_count": 14,
   "metadata": {},
   "outputs": [],
   "source": [
    "import yaml\n",
    "\n",
    "# Path to the Simformer flow-matching configuration file.\n",
    "config_path = f\"{notebook_path}/config/config_flow_flux.yaml\"\n",
    "\n",
    "# Load configuration parameters from YAML file.\n",
    "with open(config_path, \"r\") as f:\n",
    "    config = yaml.safe_load(f)"
   ]
  },
  {
   "cell_type": "code",
   "execution_count": 15,
   "metadata": {},
   "outputs": [],
   "source": [
    "# Extract dimensionality information from the task object.\n",
    "dim_theta = task.dim_theta  # Number of parameters to infer\n",
    "dim_data = task.dim_data    # Number of observed data dimensions\n",
    "\n",
    "dim_joint = task.dim_joint  # Joint dimension (for model input)"
   ]
  },
  {
   "cell_type": "code",
   "execution_count": 16,
   "metadata": {},
   "outputs": [],
   "source": [
    "pipeline = Flux1FlowPipeline.init_pipeline_from_config(\n",
    "        train_dataset,\n",
    "        val_dataset,\n",
    "        dim_theta,\n",
    "        dim_data,\n",
    "        config_path,\n",
    "        checkpoint_dir,\n",
    "    )"
   ]
  },
  {
   "cell_type": "code",
   "execution_count": 17,
   "metadata": {},
   "outputs": [
    {
     "name": "stderr",
     "output_type": "stream",
     "text": [
      "WARNING:absl:CheckpointManagerOptions.read_only=True, setting save_interval_steps=0.\n",
      "WARNING:absl:CheckpointManagerOptions.read_only=True, setting create=False.\n",
      "WARNING:absl:Given directory is read only=/mnt/c/Users/Aure/Documents/GitHub/GenSBI-examples/examples/sbi-benchmarks/two_moons/flow_flux/checkpoints\n",
      "WARNING:absl:CheckpointManagerOptions.read_only=True, setting save_interval_steps=0.\n",
      "WARNING:absl:CheckpointManagerOptions.read_only=True, setting create=False.\n",
      "WARNING:absl:Given directory is read only=/mnt/c/Users/Aure/Documents/GitHub/GenSBI-examples/examples/sbi-benchmarks/two_moons/flow_flux/checkpoints/ema\n"
     ]
    },
    {
     "name": "stdout",
     "output_type": "stream",
     "text": [
      "Restored model from checkpoint\n"
     ]
    }
   ],
   "source": [
    "pipeline.restore_model()"
   ]
  },
  {
   "cell_type": "markdown",
   "metadata": {},
   "source": [
    "## 5. Evaluation & Visualization\n",
    "---\n",
    "In this section, we evaluate the trained Simformer model by sampling from the posterior, and comparing results to reference data. We also compute and visualize the unnormalized log probability over a grid to assess model calibration and density estimation. These analyses provide insight into model performance and reliability."
   ]
  },
  {
   "cell_type": "markdown",
   "metadata": {},
   "source": [
    "### Section 5.1: Posterior Sampling\n",
    "---\n",
    "In this section, we sample from the posterior distribution using the trained model and visualize the results. Posterior samples are generated for a selected observation and compared to reference samples to assess model accuracy."
   ]
  },
  {
   "cell_type": "code",
   "execution_count": 18,
   "metadata": {},
   "outputs": [],
   "source": [
    "# we want to do conditional inference. We need an observation for which we want to ocmpute the posterior\n",
    "def get_samples(idx, nsamples=10_000, use_ema=False, rng=None):\n",
    "    observation, reference_samples = task.get_reference(idx)\n",
    "    true_param = jnp.array(task.get_true_parameters(idx))\n",
    "\n",
    "    if rng is None:\n",
    "        rng = jax.random.PRNGKey(42)\n",
    "\n",
    "    time_grid = jnp.linspace(0,1,100)\n",
    "\n",
    "    samples = pipeline.sample(rng, observation, nsamples, use_ema=use_ema, time_grid=time_grid)\n",
    "    return samples, true_param, reference_samples"
   ]
  },
  {
   "cell_type": "code",
   "execution_count": 19,
   "metadata": {},
   "outputs": [],
   "source": [
    "samples, true_param, reference_samples =  get_samples(8)"
   ]
  },
  {
   "cell_type": "code",
   "execution_count": 20,
   "metadata": {},
   "outputs": [
    {
     "data": {
      "text/plain": [
       "(100, 10000, 2)"
      ]
     },
     "execution_count": 20,
     "metadata": {},
     "output_type": "execute_result"
    }
   ],
   "source": [
    "samples.shape"
   ]
  },
  {
   "cell_type": "markdown",
   "metadata": {},
   "source": [
    "### Section 5.2: Visualize Posterior Samples\n",
    "---\n",
    "In this section, we plot the posterior samples as a 2D histogram to visualize the learned distribution and compare it to the ground truth."
   ]
  },
  {
   "cell_type": "code",
   "execution_count": 21,
   "metadata": {},
   "outputs": [],
   "source": [
    "from gensbi.utils.plotting import plot_marginals, plot_2d_dist_contour"
   ]
  },
  {
   "cell_type": "code",
   "execution_count": 22,
   "metadata": {},
   "outputs": [
    {
     "data": {
      "text/plain": [
       "<Figure size 640x480 with 0 Axes>"
      ]
     },
     "metadata": {},
     "output_type": "display_data"
    },
    {
     "data": {
      "image/png": "[encoded data removed]",
      "text/plain": [
       "<Figure size 550x550 with 4 Axes>"
      ]
     },
     "metadata": {},
     "output_type": "display_data"
    },
    {
     "data": {
      "image/png": "[encoded data removed]",
      "text/plain": [
       "<Figure size 500x500 with 4 Axes>"
      ]
     },
     "metadata": {},
     "output_type": "display_data"
    }
   ],
   "source": [
    "plot_marginals(samples[-1], plot_levels=False, gridsize=50, range=[(-1., 0), (0, 1.)])\n",
    "plt.show()\n",
    "\n",
    "# check how we set the ranges in the seaborn plot, it seems wrong\n",
    "plot_marginals(samples[-1], plot_levels=False, backend=\"seaborn\", gridsize=50, range =[(-1., 0), (0, 1.)])\n",
    "plt.text(1.05, 1.05, f\"t = {1.0}\", transform=plt.gca().transAxes)\n",
    "plt.show()"
   ]
  },
  {
   "cell_type": "markdown",
   "metadata": {},
   "source": [
    "### 5.4. Animations\n",
    "---\n",
    "In this section, we create and display animations of posterior samples and density contours over time. These visualizations illustrate the evolution of the learned distribution during the sampling process, providing dynamic insight into model behavior and convergence."
   ]
  },
  {
   "cell_type": "code",
   "execution_count": 40,
   "metadata": {},
   "outputs": [],
   "source": [
    "import imageio.v3 as imageio\n",
    "import io\n",
    "from tqdm import tqdm"
   ]
  },
  {
   "cell_type": "code",
   "execution_count": 41,
   "metadata": {},
   "outputs": [
    {
     "name": "stderr",
     "output_type": "stream",
     "text": [
      "100%|██████████| 100/100 [00:30<00:00,  3.29it/s]\n"
     ]
    }
   ],
   "source": [
    "# samples\n",
    "\n",
    "images = []\n",
    "\n",
    "for i in tqdm(range(len(samples))):\n",
    "    fig, axes = plot_marginals(\n",
    "        samples[i],\n",
    "        plot_levels=False,\n",
    "        gridsize=50,\n",
    "        range=[(-1.0, 0), (0, 1.0)],\n",
    "        backend=\"seaborn\",\n",
    "    )\n",
    "\n",
    "    # manually set the ticks to make a prettier plot\n",
    "   \n",
    "    axes[0,0].set_ylim(0,6)\n",
    "    axes[0,0].set_yticks([5])\n",
    "\n",
    "    axes[1,1].set_xlim(0,6)\n",
    "    axes[1,1].set_xticks([5])\n",
    "\n",
    "    axes[1,1].text(0, 1.03, f\"t = {(i+1)/len(samples):.2f}\", transform=plt.gca().transAxes)\n",
    "\n",
    "    buf = io.BytesIO()\n",
    "    plt.savefig(buf, format=\"png\", dpi=300)\n",
    "    buf.seek(0)\n",
    "    image = imageio.imread(buf)\n",
    "    buf.close()\n",
    "    if i == 0:\n",
    "        images = []\n",
    "    images.append(image)\n",
    "    plt.close()"
   ]
  },
  {
   "cell_type": "code",
   "execution_count": 42,
   "metadata": {},
   "outputs": [],
   "source": [
    "# repeat the last frame 10 times to make the gif pause at the end\n",
    "images += [images[-1]] * 20"
   ]
  },
  {
   "cell_type": "code",
   "execution_count": 43,
   "metadata": {},
   "outputs": [],
   "source": [
    "imageio.imwrite(\n",
    "    'animated_plot_samples_flux1.gif', \n",
    "    images, \n",
    "    duration=5000/len(images), \n",
    "    loop=0  # 0 means loop indefinitely\n",
    ")"
   ]
  },
  {
   "cell_type": "markdown",
   "metadata": {},
   "source": [
    "<img src=\"./animated_plot_samples_flux1.gif\" alt=\"two-moons posterior sampling\" width=\"500\">"
   ]
  }
 ],
 "metadata": {
  "kernelspec": {
   "display_name": "gensbi",
   "language": "python",
   "name": "python3"
  },
  "language_info": {
   "codemirror_mode": {
    "name": "ipython",
    "version": 3
   },
   "file_extension": ".py",
   "mimetype": "text/x-python",
   "name": "python",
   "nbconvert_exporter": "python",
   "pygments_lexer": "ipython3",
   "version": "3.12.0"
  }
 },
 "nbformat": 4,
 "nbformat_minor": 2
}
