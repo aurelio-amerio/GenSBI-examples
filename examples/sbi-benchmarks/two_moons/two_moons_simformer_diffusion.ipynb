{
 "cells": [
  {
   "cell_type": "markdown",
   "metadata": {},
   "source": [
    "# Setup"
   ]
  },
  {
   "cell_type": "code",
   "execution_count": 1,
   "metadata": {},
   "outputs": [],
   "source": [
    "# load autoreload extension\n",
    "%load_ext autoreload\n",
    "%autoreload 2\n"
   ]
  },
  {
   "cell_type": "code",
   "execution_count": 2,
   "metadata": {},
   "outputs": [],
   "source": [
    "import os\n",
    "# os.environ['JAX_PLATFORMS']=\"cpu\"\n",
    "os.environ['JAX_PLATFORMS']=\"cuda\""
   ]
  },
  {
   "cell_type": "code",
   "execution_count": 3,
   "metadata": {},
   "outputs": [],
   "source": [
    "restore_model=False\n",
    "train_model=True"
   ]
  },
  {
   "cell_type": "code",
   "execution_count": 4,
   "metadata": {},
   "outputs": [
    {
     "name": "stdout",
     "output_type": "stream",
     "text": [
      "root: /lhome/ific/a/aamerio/github/cfm-jax\n"
     ]
    }
   ],
   "source": [
    "import sys \n",
    "import os \n",
    "import pathlib\n",
    "# get the directory of the current notebook\n",
    "fdir = pathlib.Path().parent.resolve()\n",
    "# this file is located at /home/aure/Documents/GitHub/GenSBI/examples/sbi-benchmarks/two_moons/two_moons_jflux.ipynb, the root directory is GenSBI, how do I get there?\n",
    "root = fdir#.parent.parent.parent\n",
    "print(f\"root: {root}\")\n",
    "sys.path.append(f\"{root}/examples/sbi-benchmarks\")\n",
    "sys.path.append(f\"{root}/src\")"
   ]
  },
  {
   "cell_type": "code",
   "execution_count": 5,
   "metadata": {},
   "outputs": [],
   "source": [
    "import orbax.checkpoint as ocp\n",
    "# get the current notebook path\n",
    "notebook_path = f\"{root}/examples/sbi-benchmarks/two_moons\"\n",
    "checkpoint_dir = f\"{notebook_path}/checkpoints/two_moons_simformer_diffusion\"\n",
    "\n",
    "os.makedirs(checkpoint_dir, exist_ok=True)"
   ]
  },
  {
   "cell_type": "code",
   "execution_count": 6,
   "metadata": {},
   "outputs": [
    {
     "name": "stderr",
     "output_type": "stream",
     "text": [
      "/lhome/ific/a/aamerio/miniforge3/envs/cfm/lib/python3.12/site-packages/tqdm/auto.py:21: TqdmWarning: IProgress not found. Please update jupyter and ipywidgets. See https://ipywidgets.readthedocs.io/en/stable/user_install.html\n",
      "  from .autonotebook import tqdm as notebook_tqdm\n"
     ]
    }
   ],
   "source": [
    "import matplotlib.pyplot as plt\n",
    "import jax\n",
    "import jax.numpy as jnp\n",
    "from flax import nnx\n",
    "import optax\n",
    "from optax.contrib import reduce_on_plateau\n",
    "\n",
    "import grain.python as grain\n",
    "\n",
    "from numpyro import distributions as dist\n",
    "\n",
    "from corner import corner\n",
    "\n",
    "import numpy as np\n",
    "\n",
    "from tqdm.auto import tqdm\n",
    "\n",
    "from functools import partial\n"
   ]
  },
  {
   "cell_type": "code",
   "execution_count": 7,
   "metadata": {},
   "outputs": [],
   "source": [
    "PATIENCE = 10  # @param{type:\"integer\"}\n",
    "# @markdown Number of epochs to wait before resuming normal operation after the learning rate reduction:\n",
    "COOLDOWN = 5  # @param{type:\"integer\"}\n",
    "# @markdown Factor by which to reduce the learning rate:\n",
    "FACTOR = 0.5  # @param{type:\"number\"}\n",
    "# @markdown Relative tolerance for measuring the new optimum:\n",
    "RTOL = 1e-4  # @param{type:\"number\"}\n",
    "# @markdown Number of iterations to accumulate an average value:\n",
    "ACCUMULATION_SIZE = 100\n",
    "# max LR\n",
    "MAX_LR = 1e-3  # @param{type:\"number\"}\n",
    "# Min scale for the learning rate:\n",
    "MIN_LR = 0  # @param{type:\"number\"}\n",
    "MIN_SCALE = MIN_LR / MAX_LR  # @param{type:\"number\"}"
   ]
  },
  {
   "cell_type": "code",
   "execution_count": null,
   "metadata": {},
   "outputs": [],
   "source": [
    "from sbi_utils.sbi_tasks import TwoMoons\n",
    "from gensbi.diffusion.path import EDMPath\n",
    "from gensbi.diffusion.path.scheduler import EDMScheduler, VEScheduler\n",
    "from gensbi.diffusion.solver import SDESolver"
   ]
  },
  {
   "cell_type": "markdown",
   "metadata": {},
   "source": [
    "define the task"
   ]
  },
  {
   "cell_type": "code",
   "execution_count": 9,
   "metadata": {},
   "outputs": [],
   "source": [
    "twomoons = TwoMoons()\n",
    "task = twomoons.task\n",
    "prior = twomoons.get_prior()\n",
    "simulator = twomoons.get_simulator()"
   ]
  },
  {
   "cell_type": "code",
   "execution_count": 10,
   "metadata": {},
   "outputs": [],
   "source": [
    "@partial(jax.jit, static_argnames=[\"size\"])\n",
    "def sample_prior(size):\n",
    "    return jnp.array(prior.sample((size,)))"
   ]
  },
  {
   "cell_type": "code",
   "execution_count": 11,
   "metadata": {},
   "outputs": [],
   "source": [
    "reference_samples = task.get_reference_posterior_samples(num_observation=8)"
   ]
  },
  {
   "cell_type": "code",
   "execution_count": 12,
   "metadata": {},
   "outputs": [
    {
     "data": {
      "image/png": "[encoded data removed]",
      "text/plain": [
       "<Figure size 640x480 with 1 Axes>"
      ]
     },
     "metadata": {},
     "output_type": "display_data"
    }
   ],
   "source": [
    "plt.hist2d(reference_samples[:, 0], reference_samples[:, 1], bins=(200,200), range=[(-1, 1), (-1, 1)], density=True)\n",
    "plt.xlim((-1,1))\n",
    "plt.ylim((-1,1))\n",
    "plt.gca().set_aspect('equal', adjustable='box')\n",
    "plt.show()"
   ]
  },
  {
   "cell_type": "markdown",
   "metadata": {},
   "source": [
    "# dataset"
   ]
  },
  {
   "cell_type": "code",
   "execution_count": 13,
   "metadata": {},
   "outputs": [],
   "source": [
    "# make a dataset\n",
    "nsamples = int(1e5)\n",
    "val_size = 512\n",
    "theta = prior.sample((nsamples+val_size,))\n",
    "xs = jnp.array(simulator(theta))\n",
    "node_ids = jnp.array(twomoons.get_node_id())\n",
    "dim_theta = twomoons.get_theta_dim()\n",
    "dim_x = twomoons.get_x_dim()\n",
    "\n",
    "# turn them into jax arrays\n",
    "theta = jnp.array(theta)\n",
    "xs = jnp.array(xs)\n",
    "\n",
    "# concatenate the data, theta and xs\n",
    "data = jnp.concatenate((theta, xs), axis=-1)\n",
    "\n",
    "\n",
    "train_data = data[:nsamples]\n",
    "val_data = data[nsamples:]\n"
   ]
  },
  {
   "cell_type": "code",
   "execution_count": 14,
   "metadata": {},
   "outputs": [],
   "source": [
    "batch_size = 8*1024 # the model greatly benefits from larger batch sizes to avoid overfitting, but this is limited by the GPU memory"
   ]
  },
  {
   "cell_type": "code",
   "execution_count": 15,
   "metadata": {},
   "outputs": [],
   "source": [
    "dataset_grain = (\n",
    "    grain.MapDataset.source(np.array(train_data))\n",
    "    .shuffle(42)\n",
    "    .to_iter_dataset(grain.ReadOptions(num_threads=16, prefetch_buffer_size=batch_size*5))\n",
    "    .batch(batch_size=batch_size)  # Batches consecutive elements.\n",
    ")"
   ]
  },
  {
   "cell_type": "code",
   "execution_count": 16,
   "metadata": {},
   "outputs": [],
   "source": [
    "dataset_iter = iter(dataset_grain)"
   ]
  },
  {
   "cell_type": "markdown",
   "metadata": {},
   "source": [
    "# Define the path"
   ]
  },
  {
   "cell_type": "code",
   "execution_count": 17,
   "metadata": {},
   "outputs": [],
   "source": [
    "from models import Simformer, SimformerParams, SimformerConditioner\n",
    "path = EDMPath(scheduler=VEScheduler(1e-4, 15)) # define the probability path"
   ]
  },
  {
   "cell_type": "markdown",
   "metadata": {},
   "source": [
    "# utils"
   ]
  },
  {
   "cell_type": "code",
   "execution_count": 18,
   "metadata": {},
   "outputs": [],
   "source": [
    "from utils.model_wrapping import ModelWrapper, GuidedModelWrapper\n",
    "class SimWrapper(ModelWrapper):\n",
    "    def __init__(self, model):\n",
    "        super().__init__(model)\n",
    "\n",
    "    def _call_model(self, x, t, args, **kwargs):\n",
    "        return self.model(obs=x, timesteps=t, **kwargs)\n",
    "\n",
    "class GuidedSimWrapper(GuidedModelWrapper):\n",
    "    def __init__(self, model, cfg_scale):\n",
    "        super().__init__(model, cfg_scale)\n",
    "\n",
    "    def _call_model(self, x, t, args, **kwargs):\n",
    "        return self.model(obs=x, timesteps=t, **kwargs)\n",
    "    \n",
    "obs_ids = jnp.array([0, 1])\n",
    "cond_ids = jnp.array([2, 3])\n",
    "nsteps = 30\n",
    "\n",
    "# conditional sampling\n",
    "def get_samples(score_wrapped, idx, nsamples=10_000, edge_mask=None):\n",
    "    observation =  jnp.array(twomoons.get_observation(idx))\n",
    "    true_param = jnp.array(task.get_true_parameters(idx))\n",
    "    reference_samples = task.get_reference_posterior_samples(num_observation=idx)\n",
    "\n",
    "    rng = jax.random.PRNGKey(45)\n",
    "\n",
    "    key1,key2 = jax.random.split(rng, 2)\n",
    "\n",
    "\n",
    "    cond = jnp.broadcast_to(observation[...,None], (1, dim_x, 1)) # n, dim_theta, 1\n",
    "\n",
    "    solver = SDESolver(score_model=score_wrapped, path=path)  # create an ODESolver class\n",
    "    model_extras = {\"cond\": cond, \"obs_ids\": obs_ids, \"cond_ids\": cond_ids, \"edge_mask\": edge_mask}\n",
    "\n",
    "    x_init = path.sample_prior(key1, (nsamples,2) )  # sample initial points from the prior distribution\n",
    "    samples = solver.sample(key2, x_init, nsteps=nsteps, model_extras=model_extras)\n",
    "\n",
    "    return samples, true_param, reference_samples\n",
    "\n",
    "def plot_samples(samples, true_param):\n",
    "    plt.hist2d(samples[:,0], samples[:,1], bins=(200,200), range=[(-1, 1), (-1, 1)], density=True)\n",
    "    # same ratio on axis \n",
    "    plt.scatter(true_param[0,0], true_param[0,1], s=100, color='red', alpha=0.5, marker='x')\n",
    "    plt.gca().set_aspect('equal', adjustable='box')\n",
    "    plt.xlim((-1,1))\n",
    "    plt.ylim((-1,1))\n",
    "    plt.show()"
   ]
  },
  {
   "cell_type": "markdown",
   "metadata": {},
   "source": [
    "# define the CFM model"
   ]
  },
  {
   "cell_type": "code",
   "execution_count": 19,
   "metadata": {},
   "outputs": [],
   "source": [
    "from models import Simformer, SimformerParams, SimformerConditioner"
   ]
  },
  {
   "cell_type": "code",
   "execution_count": 20,
   "metadata": {},
   "outputs": [],
   "source": [
    "loss_fn_diff = path.get_loss_fn() #loss_fn(F, batch, loss_mask=None, *args, **kwargs)"
   ]
  },
  {
   "cell_type": "code",
   "execution_count": 21,
   "metadata": {},
   "outputs": [],
   "source": [
    "dim_joint = len(twomoons.get_node_id())"
   ]
  },
  {
   "cell_type": "code",
   "execution_count": 22,
   "metadata": {},
   "outputs": [],
   "source": [
    "params = SimformerParams(\n",
    "    rngs = nnx.Rngs(0),\n",
    "    dim_value = 40,\n",
    "    dim_id = 40, \n",
    "    dim_condition = 10, \n",
    "    dim_joint= dim_joint,\n",
    "    fourier_features = 128,\n",
    "    num_heads = 4,\n",
    "    num_layers = 6,\n",
    "    widening_factor = 3,\n",
    "    qkv_features = 40, # this bottlenecks the transformer features to 40, instead of the token dimension\n",
    "    num_hidden_layers = 1,\n",
    "    dropout_rate = 0.0)"
   ]
  },
  {
   "cell_type": "code",
   "execution_count": 23,
   "metadata": {},
   "outputs": [],
   "source": [
    "def marginalize(rng: jax.random.PRNGKey, edge_mask: jax.Array):\n",
    "    # Simple function that marginializes out a single node from a adjacency matrix of a graph.\n",
    "    idx = jax.random.choice(rng, jnp.arange(edge_mask.shape[0]), shape=(1,), replace=False)\n",
    "    edge_mask = edge_mask.at[idx, :].set(False)\n",
    "    edge_mask = edge_mask.at[:, idx].set(False)\n",
    "    edge_mask = edge_mask.at[idx, idx].set(True)\n",
    "    return edge_mask"
   ]
  },
  {
   "cell_type": "code",
   "execution_count": 24,
   "metadata": {},
   "outputs": [],
   "source": [
    "undirected_edge_mask = twomoons.get_edge_mask_fn(\"undirected\")(node_ids, None)\n",
    "posterior_faithfull = twomoons.get_edge_mask_fn(\"faithfull\")(node_ids, condition_mask=jnp.array([0,0,1,1]))"
   ]
  },
  {
   "cell_type": "code",
   "execution_count": 25,
   "metadata": {},
   "outputs": [],
   "source": [
    "@partial(jax.jit, static_argnames=[\"nsamples\"])\n",
    "def get_random_condition_mask(rng: jax.random.PRNGKey, nsamples):\n",
    "    mask_joint = jnp.zeros((5*nsamples, dim_joint ), dtype=jnp.bool_)\n",
    "    mask_posterior = jnp.concatenate([jnp.zeros((nsamples, dim_theta), dtype=jnp.bool_), jnp.ones((nsamples, dim_x), dtype=jnp.bool_)], axis=-1)\n",
    "    # mask_likelihood = jnp.concatenate([jnp.ones((nsamples, dim_theta), dtype=jnp.bool_), jnp.zeros((nsamples, dim_x), dtype=jnp.bool_)], axis=-1)\n",
    "    \n",
    "    mask1 = jax.random.bernoulli(rng, p=0.3, shape=(nsamples, dim_joint))\n",
    "    filter = ~jnp.all(mask1, axis=-1)\n",
    "    mask1 = jnp.logical_and(mask1, filter.reshape(-1,1))\n",
    "\n",
    "    # masks = jnp.concatenate([mask_joint, mask1, mask_posterior, mask_likelihood], axis=0)\n",
    "    masks = jnp.concatenate([mask_joint, mask1, mask_posterior], axis=0)\n",
    "    return  jax.random.choice(rng, masks, shape=(nsamples,), replace=False, axis=0)\n",
    "    "
   ]
  },
  {
   "cell_type": "code",
   "execution_count": 26,
   "metadata": {},
   "outputs": [],
   "source": [
    "def loss_fn_(F_model, x_1, key: jax.random.PRNGKey):\n",
    "\n",
    "    batch_size = x_1.shape[0]\n",
    "\n",
    "    rng_path, rng_sigma, rng_condition, rng_edge_mask1, rng_edge_mask2 = jax.random.split(key, 5)\n",
    "    \n",
    "    # Generate data and random times\n",
    "    sigma = path.sample_sigma(rng_sigma, x_1.shape[0])  # sample noise levels\n",
    "    path_sample = path.sample(rng_path, x_1, sigma)\n",
    "    batch = path_sample.get_batch()\n",
    "    \n",
    "    # Condition mask -> randomly condition on some data. Here you can choose between the different condition masks, and you should specify the conditionals you may want to compute afterwards.\n",
    "    condition_mask = get_random_condition_mask(rng_condition, batch_size)\n",
    "\n",
    "    # undirected_edge_mask \n",
    "    undirected_edge_mask_ = jnp.repeat(undirected_edge_mask[None,...], 3*batch_size, axis=0) # Dense default mask\n",
    "    \n",
    "    # faithfull posterior mask\n",
    "    faithfull_edge_mask_ = jnp.repeat(posterior_faithfull[None,...], 3*batch_size, axis=0) # Dense default mask\n",
    "    \n",
    "    # Include marginal consistency\n",
    "    marginal_mask = jax.vmap(marginalize, in_axes=(0,None))(jax.random.split(rng_edge_mask1, (batch_size,)), undirected_edge_mask)\n",
    "    edge_masks = jnp.concatenate([undirected_edge_mask_, faithfull_edge_mask_, marginal_mask], axis=0)\n",
    "    edge_masks = jax.random.choice(rng_edge_mask2, edge_masks, shape=(batch_size,), axis=0) # Randomly choose between dense and marginal mask\n",
    "\n",
    "    model_extras = {\n",
    "        \"edge_mask\": edge_masks,\n",
    "        \"condition_mask\": condition_mask,\n",
    "        \"node_ids\": node_ids,\n",
    "    }\n",
    "\n",
    "    # Forward diffusion, do not perturb conditioned data\n",
    "    # Will use the condition mask to mask to prevent adding noise for nodes that are conditioned.\n",
    "    loss = loss_fn_diff(F_model, batch, loss_mask=condition_mask, model_extras=model_extras) \n",
    "\n",
    "    return loss"
   ]
  },
  {
   "cell_type": "code",
   "execution_count": 27,
   "metadata": {},
   "outputs": [],
   "source": [
    "@nnx.jit\n",
    "def train_loss(F_model, key: jax.random.PRNGKey):\n",
    "    x_1 = next(dataset_iter) # n, T_max, 1\n",
    "    return loss_fn_(F_model, x_1, key)"
   ]
  },
  {
   "cell_type": "code",
   "execution_count": 28,
   "metadata": {},
   "outputs": [],
   "source": [
    "@nnx.jit\n",
    "def val_loss(F_model, key):\n",
    "    x_1 = val_data\n",
    "    return loss_fn_(F_model, x_1, key)"
   ]
  },
  {
   "cell_type": "code",
   "execution_count": 29,
   "metadata": {},
   "outputs": [],
   "source": [
    "@nnx.jit\n",
    "def train_step(model, optimizer, rng):\n",
    "    loss_fn = lambda model: train_loss(model, rng)\n",
    "    loss, grads = nnx.value_and_grad(loss_fn)(model)\n",
    "    optimizer.update(grads, value=loss)  # In place updates.\n",
    "    return loss"
   ]
  },
  {
   "cell_type": "code",
   "execution_count": 30,
   "metadata": {},
   "outputs": [],
   "source": [
    "F_model = Simformer(params)"
   ]
  },
  {
   "cell_type": "code",
   "execution_count": 31,
   "metadata": {},
   "outputs": [],
   "source": [
    "# restore the model\n",
    "if restore_model:\n",
    "    model_state = nnx.state(F_model)\n",
    "    graphdef, abstract_state = nnx.split(F_model)\n",
    "\n",
    "    with ocp.CheckpointManager(\n",
    "        checkpoint_dir, options=ocp.CheckpointManagerOptions(read_only=True)\n",
    "    ) as read_mgr:\n",
    "        restored = read_mgr.restore(\n",
    "            1,\n",
    "            # pass in the model_state to restore the exact same State type\n",
    "            args=ocp.args.Composite(state=ocp.args.PyTreeRestore(item=model_state))\n",
    "        )\n",
    "\n",
    "    F_model= nnx.merge(graphdef, restored[\"state\"])\n",
    "    print(\"Restored model from checkpoint\")"
   ]
  },
  {
   "cell_type": "code",
   "execution_count": 32,
   "metadata": {},
   "outputs": [],
   "source": [
    "# # linear learning rate schedule\n",
    "# nsteps = 10_000 \n",
    "# nepochs = 5\n",
    "\n",
    "\n",
    "# schedule = optax.schedules.linear_schedule(1e-3, 1e-6, 40000, 10000)\n",
    "\n",
    "# opt = optax.chain(optax.adaptive_grad_clip(10.0), optax.adamw(schedule))\n",
    "\n",
    "# # opt = optax.MultiSteps(opt, 2)\n",
    "\n",
    "# optimizer = nnx.Optimizer(F_model, opt)"
   ]
  },
  {
   "cell_type": "code",
   "execution_count": 33,
   "metadata": {},
   "outputs": [],
   "source": [
    "# reduce on plateau schedule\n",
    "nsteps = 10_000\n",
    "nepochs = 5\n",
    "\n",
    "multistep = 1 # if the GPU cannot support batch sizes of at least 4k, adjust this value accordingly to get the desired effective batch size\n",
    "\n",
    "opt = optax.chain(\n",
    "    optax.adaptive_grad_clip(10.0),\n",
    "    optax.adamw(MAX_LR),\n",
    "    reduce_on_plateau(\n",
    "        patience=PATIENCE,\n",
    "        cooldown=COOLDOWN,\n",
    "        factor=FACTOR,\n",
    "        rtol=RTOL,\n",
    "        accumulation_size=ACCUMULATION_SIZE,\n",
    "        min_scale=MIN_SCALE,\n",
    "    ),\n",
    ")\n",
    "if multistep > 1:\n",
    "    opt = optax.MultiSteps(opt, multistep)\n",
    "optimizer = nnx.Optimizer(F_model, opt)"
   ]
  },
  {
   "cell_type": "code",
   "execution_count": 34,
   "metadata": {},
   "outputs": [],
   "source": [
    "rngs = nnx.Rngs(0)"
   ]
  },
  {
   "cell_type": "code",
   "execution_count": 35,
   "metadata": {},
   "outputs": [],
   "source": [
    "best_state = nnx.state(F_model)\n",
    "best_val_loss_value = val_loss(F_model, jax.random.PRNGKey(0))\n",
    "val_error_ratio = 1.1\n",
    "counter = 0\n",
    "cmax = 10\n",
    "print_every = 100\n",
    "\n",
    "loss_array = []\n",
    "val_loss_array = []\n",
    "\n",
    "early_stopping = True"
   ]
  },
  {
   "cell_type": "code",
   "execution_count": 36,
   "metadata": {},
   "outputs": [
    {
     "name": "stderr",
     "output_type": "stream",
     "text": [
      "  0%|          | 0/10000 [00:00<?, ?it/s]"
     ]
    },
    {
     "name": "stderr",
     "output_type": "stream",
     "text": [
      "100%|██████████| 10000/10000 [08:02<00:00, 20.74it/s, counter=0, loss=2.1099, ratio=1.0039, val_loss=2.1182]\n",
      "100%|██████████| 10000/10000 [07:19<00:00, 22.74it/s, counter=0, loss=2.0758, ratio=1.0361, val_loss=2.1507]\n",
      " 33%|███▎      | 3301/10000 [02:26<04:57, 22.51it/s, counter=11, loss=2.0502, ratio=1.1131, val_loss=2.2821]\n"
     ]
    },
    {
     "name": "stdout",
     "output_type": "stream",
     "text": [
      "Early stopping\n"
     ]
    },
    {
     "name": "stderr",
     "output_type": "stream",
     "text": [
      "  0%|          | 0/10000 [00:00<?, ?it/s]\n"
     ]
    },
    {
     "name": "stdout",
     "output_type": "stream",
     "text": [
      "Early stopping\n"
     ]
    },
    {
     "name": "stderr",
     "output_type": "stream",
     "text": [
      "  0%|          | 0/10000 [00:00<?, ?it/s]"
     ]
    },
    {
     "name": "stdout",
     "output_type": "stream",
     "text": [
      "Early stopping\n"
     ]
    },
    {
     "name": "stderr",
     "output_type": "stream",
     "text": [
      "\n"
     ]
    }
   ],
   "source": [
    "if train_model:\n",
    "    F_model.train()\n",
    "\n",
    "    for ep in range(nepochs):\n",
    "        pbar = tqdm(range(nsteps))\n",
    "        l = 0\n",
    "        v_l = 0\n",
    "        for j in pbar:\n",
    "            if counter > cmax and early_stopping:\n",
    "                print(\"Early stopping\")\n",
    "                # restore the model state\n",
    "                graphdef, abstract_state = nnx.split(F_model)\n",
    "\n",
    "                F_model = nnx.merge(graphdef, best_state)\n",
    "                break\n",
    "\n",
    "            loss = train_step(F_model, optimizer, rngs.train_step())\n",
    "            l += loss.item()\n",
    "            \n",
    "            v_loss = val_loss(F_model, rngs.val_step())\n",
    "            v_l += v_loss.item()\n",
    "\n",
    "            if j > 0 and j % 100 == 0:\n",
    "                loss_ = l / 100\n",
    "                val_ = v_l / 100\n",
    "\n",
    "                ratio1 = val_ / loss_\n",
    "                ratio2 = val_ / best_val_loss_value\n",
    "\n",
    "                # if ratio1 < val_error_ratio and ratio2 < 1.05:\n",
    "                if ratio1 < val_error_ratio:\n",
    "                    if val_ < best_val_loss_value:\n",
    "                        best_val_loss_value = val_\n",
    "                        best_state = nnx.state(F_model)\n",
    "                    counter = 0\n",
    "                else:\n",
    "                    counter += 1\n",
    "\n",
    "                # scale = tree_get(optimizer.opt_state, \"ReduceLROnPlateauState\").scale.value\n",
    "                # pbar.set_postfix(loss=f\"{l/(100):.4f}\", ratio=f\"{ratio:.4f}\", counter=counter, lr_scale=scale, val_loss = f\"{val_:.4f}\" )\n",
    "                pbar.set_postfix(\n",
    "                    loss=f\"{loss_:.4f}\",\n",
    "                    ratio=f\"{ratio1:.4f}\",\n",
    "                    counter=counter,\n",
    "                    val_loss=f\"{val_:.4f}\",\n",
    "                )\n",
    "                loss_array.append(loss_)\n",
    "                val_loss_array.append(val_)\n",
    "                l = 0\n",
    "                v_l = 0\n",
    "\n",
    "            \n",
    "        # idx = 8\n",
    "        # F_cond = SimformerConditioner(F_model)\n",
    "        # F_wrapped = SimWrapper(F_cond)          \n",
    "        # samples, true_param, reference_samples = get_samples(F_wrapped, idx)\n",
    "        # plot_samples(samples, true_param)\n",
    "        # print(l)\n",
    "\n",
    "    F_model.eval()"
   ]
  },
  {
   "cell_type": "code",
   "execution_count": 50,
   "metadata": {},
   "outputs": [
    {
     "name": "stderr",
     "output_type": "stream",
     "text": [
      "WARNING:absl:Missing metrics for step 1\n",
      "ERROR:absl:File /lhome/ific/a/aamerio/github/cfm-jax/examples/sbi-benchmarks/two_moons/checkpoints/two_moons_simformer_diffusion/1/metrics/metrics not found.\n",
      "WARNING:absl:Missing metrics for step 2\n",
      "ERROR:absl:File /lhome/ific/a/aamerio/github/cfm-jax/examples/sbi-benchmarks/two_moons/checkpoints/two_moons_simformer_diffusion/2/metrics/metrics not found.\n"
     ]
    }
   ],
   "source": [
    "# save the model\n",
    "if train_model:\n",
    "    checkpoint_manager = ocp.CheckpointManager(checkpoint_dir,\n",
    "        options=ocp.CheckpointManagerOptions(\n",
    "            max_to_keep=2,\n",
    "            keep_checkpoints_without_metrics=True,\n",
    "            create=True,\n",
    "        ),\n",
    "    )\n",
    "    model_state = nnx.state(F_model)\n",
    "    checkpoint_manager.save(\n",
    "        2, args=ocp.args.Composite(state=ocp.args.PyTreeSave(model_state))\n",
    "    )\n",
    "\n",
    "    checkpoint_manager.close()"
   ]
  },
  {
   "cell_type": "code",
   "execution_count": 38,
   "metadata": {},
   "outputs": [
    {
     "data": {
      "image/png": "[encoded data removed]",
      "text/plain": [
       "<Figure size 640x480 with 1 Axes>"
      ]
     },
     "metadata": {},
     "output_type": "display_data"
    }
   ],
   "source": [
    "if train_model:\n",
    "    plt.plot(loss_array, label=\"train loss\")\n",
    "    plt.plot(val_loss_array, label=\"val loss\")\n",
    "    plt.xlabel(\"steps\")\n",
    "    plt.ylabel(\"loss\")\n",
    "    plt.legend()\n",
    "    plt.show()"
   ]
  },
  {
   "attachments": {
    "image.png": {
     "image/png": "[encoded data removed]"
    }
   },
   "cell_type": "markdown",
   "metadata": {},
   "source": [
    "![image.png](attachment:image.png)"
   ]
  },
  {
   "cell_type": "markdown",
   "metadata": {},
   "source": [
    "# sample the posterior"
   ]
  },
  {
   "cell_type": "code",
   "execution_count": 39,
   "metadata": {},
   "outputs": [],
   "source": [
    "F_cond = SimformerConditioner(F_model)\n",
    "F_wrapped = SimWrapper(F_cond)"
   ]
  },
  {
   "cell_type": "code",
   "execution_count": 40,
   "metadata": {},
   "outputs": [],
   "source": [
    "# we want to do conditional inference. We need an observation for which we want to ocmpute the posterior\n",
    "idx=8\n",
    "observation = jnp.array(twomoons.get_observation(idx))\n",
    "reference_samples = task.get_reference_posterior_samples(num_observation=idx)"
   ]
  },
  {
   "cell_type": "code",
   "execution_count": 41,
   "metadata": {},
   "outputs": [],
   "source": [
    "samples = get_samples(F_wrapped, idx, nsamples=10_000)[0]\n",
    "# samples, true_param, reference_samples = get_samples(vf_wrapped, idx, nsamples=10)"
   ]
  },
  {
   "cell_type": "code",
   "execution_count": 42,
   "metadata": {},
   "outputs": [
    {
     "data": {
      "image/png": "[encoded data removed]",
      "text/plain": [
       "<Figure size 640x480 with 1 Axes>"
      ]
     },
     "metadata": {},
     "output_type": "display_data"
    }
   ],
   "source": [
    "posterior_samples = samples\n",
    "\n",
    "plt.hist2d(posterior_samples[:,0], posterior_samples[:,1], bins=100, range=[(-1, 1), (-1, 1)], density=True)\n",
    "# same ratio on axis \n",
    "# plt.scatter(reference_samples[:,0], reference_samples[:,1], s=0.1, color='red', alpha=0.1, marker='x')\n",
    "plt.gca().set_aspect('equal', adjustable='box')\n",
    "# plt.xlim((-1,1))\n",
    "# plt.ylim((-1,1))\n",
    "plt.show()"
   ]
  },
  {
   "cell_type": "code",
   "execution_count": 43,
   "metadata": {},
   "outputs": [
    {
     "data": {
      "image/png": "[encoded data removed]",
      "text/plain": [
       "<Figure size 550x550 with 4 Axes>"
      ]
     },
     "metadata": {},
     "output_type": "display_data"
    }
   ],
   "source": [
    "corner(np.array(posterior_samples), bins=100, smooth=True, range=[(-1, 1), (-1, 1)], labels=['$\\\\theta_1$', '$\\\\theta_2$'])\n",
    "plt.show()"
   ]
  },
  {
   "cell_type": "code",
   "execution_count": 44,
   "metadata": {},
   "outputs": [
    {
     "name": "stderr",
     "output_type": "stream",
     "text": [
      "/tmp/ipykernel_78660/1071246627.py:1: DeprecationWarning: __array__ implementation doesn't accept a copy keyword, so passing copy=False failed. __array__ must implement 'dtype' and 'copy' keyword arguments. To learn more, see the migration guide https://numpy.org/devdocs/numpy_2_0_migration_guide.html#adapting-to-changes-in-the-copy-keyword\n",
      "  corner(np.array(reference_samples), bins=100, smooth=True, range=[(-1, 1), (-1, 1)], labels=['$\\\\theta_1$', '$\\\\theta_2$'])\n"
     ]
    },
    {
     "data": {
      "image/png": "[encoded data removed]",
      "text/plain": [
       "<Figure size 550x550 with 4 Axes>"
      ]
     },
     "metadata": {},
     "output_type": "display_data"
    }
   ],
   "source": [
    "corner(np.array(reference_samples), bins=100, smooth=True, range=[(-1, 1), (-1, 1)], labels=['$\\\\theta_1$', '$\\\\theta_2$'])\n",
    "plt.show()"
   ]
  },
  {
   "cell_type": "markdown",
   "metadata": {},
   "source": [
    "# C2ST test"
   ]
  },
  {
   "cell_type": "code",
   "execution_count": 45,
   "metadata": {},
   "outputs": [],
   "source": [
    "from sbibm.metrics import c2st"
   ]
  },
  {
   "cell_type": "code",
   "execution_count": 46,
   "metadata": {},
   "outputs": [],
   "source": [
    "# convert posterior samples to a torch array\n",
    "import torch\n",
    "idx = 2\n",
    "reference_samples = task.get_reference_posterior_samples(num_observation=idx)\n",
    "posterior_samples = get_samples(F_wrapped, idx, nsamples=reference_samples.shape[0])[0]\n",
    "posterior_samples_torch = torch.tensor(np.array(posterior_samples), dtype=torch.float32)"
   ]
  },
  {
   "cell_type": "code",
   "execution_count": 47,
   "metadata": {},
   "outputs": [],
   "source": [
    "c2st_accuracy = c2st(reference_samples, posterior_samples_torch)"
   ]
  },
  {
   "cell_type": "code",
   "execution_count": 48,
   "metadata": {},
   "outputs": [
    {
     "data": {
      "text/plain": [
       "tensor([0.5842])"
      ]
     },
     "execution_count": 48,
     "metadata": {},
     "output_type": "execute_result"
    }
   ],
   "source": [
    "c2st_accuracy"
   ]
  },
  {
   "cell_type": "code",
   "execution_count": null,
   "metadata": {},
   "outputs": [],
   "source": []
  }
 ],
 "metadata": {
  "kernelspec": {
   "display_name": "cfm",
   "language": "python",
   "name": "python3"
  },
  "language_info": {
   "codemirror_mode": {
    "name": "ipython",
    "version": 3
   },
   "file_extension": ".py",
   "mimetype": "text/x-python",
   "name": "python",
   "nbconvert_exporter": "python",
   "pygments_lexer": "ipython3",
   "version": "3.12.10"
  }
 },
 "nbformat": 4,
 "nbformat_minor": 2
}
