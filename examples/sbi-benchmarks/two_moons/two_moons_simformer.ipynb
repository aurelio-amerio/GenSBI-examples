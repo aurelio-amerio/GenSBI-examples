{
 "cells": [
  {
   "cell_type": "markdown",
   "metadata": {},
   "source": [
    "# Two Moons Simformer Conditional Flow Matching Example\n",
    "\n",
    "This notebook demonstrates how to train and sample from a conditional flow-matching model on the Two Moons task using JAX and Flax. We cover environment setup, data generation, model definition, training, sampling, and evaluation."
   ]
  },
  {
   "cell_type": "markdown",
   "metadata": {},
   "source": [
    "## 1. Environment Setup\n",
    "\n",
    "We set up the notebook environment, import required libraries, and configure JAX for CPU or GPU usage. This section also ensures compatibility with Google Colab."
   ]
  },
  {
   "cell_type": "code",
   "execution_count": null,
   "metadata": {},
   "outputs": [],
   "source": [
    "# Check if running on Colab and install dependencies if needed\n",
    "try:\n",
    "    import google.colab\n",
    "    colab = True\n",
    "except ImportError:\n",
    "    colab = False\n",
    "\n",
    "if colab:\n",
    "    # Install required packages and clone the repository\n",
    "    %pip install \"gensbi_examples[cuda12] @ git+https://github.com/aurelio-amerio/GenSBI-examples\"\n",
    "    !git clone https://github.com/aurelio-amerio/GenSBI-examples\n",
    "    %cd GenSBI-examples/examples/sbi-benchmarks/two_moons"
   ]
  },
  {
   "cell_type": "code",
   "execution_count": null,
   "metadata": {},
   "outputs": [],
   "source": [
    "# load autoreload extension\n",
    "%load_ext autoreload\n",
    "%autoreload 2"
   ]
  },
  {
   "cell_type": "code",
   "execution_count": null,
   "metadata": {},
   "outputs": [],
   "source": [
    "# Set JAX backend (use 'cuda' for GPU, 'cpu' otherwise)\n",
    "import os\n",
    "os.environ['JAX_PLATFORMS']=\"cuda\"\n",
    "# os.environ['JAX_PLATFORMS']=\"cpu\""
   ]
  },
  {
   "cell_type": "markdown",
   "metadata": {},
   "source": [
    "### Set Training and Model Restoration Flags\n",
    "\n",
    "Configure whether to restore a pretrained model or train from scratch."
   ]
  },
  {
   "cell_type": "code",
   "execution_count": null,
   "metadata": {},
   "outputs": [],
   "source": [
    "restore_model=True\n",
    "train_model=False"
   ]
  },
  {
   "cell_type": "markdown",
   "metadata": {},
   "source": [
    "### Set Checkpoint Directory\n",
    "\n",
    "Specify the directory for saving and restoring model checkpoints."
   ]
  },
  {
   "cell_type": "code",
   "execution_count": 5,
   "metadata": {},
   "outputs": [],
   "source": [
    "import orbax.checkpoint as ocp\n",
    "# get the current notebook path\n",
    "notebook_path = os.getcwd()\n",
    "checkpoint_dir = f\"{notebook_path}/checkpoints/two_moons_simformer\"\n",
    "\n",
    "os.makedirs(checkpoint_dir, exist_ok=True)"
   ]
  },
  {
   "cell_type": "markdown",
   "metadata": {},
   "source": [
    "## 2. Library Imports and JAX Mesh Setup\n",
    "\n",
    "Import required libraries and set up the JAX mesh for sharding."
   ]
  },
  {
   "cell_type": "code",
   "execution_count": 6,
   "metadata": {},
   "outputs": [],
   "source": [
    "import orbax.checkpoint as ocp"
   ]
  },
  {
   "cell_type": "code",
   "execution_count": 7,
   "metadata": {},
   "outputs": [
    {
     "name": "stderr",
     "output_type": "stream",
     "text": [
      "/lhome/ific/a/aamerio/miniforge3/envs/gensbi/lib/python3.12/site-packages/tqdm/auto.py:21: TqdmWarning: IProgress not found. Please update jupyter and ipywidgets. See https://ipywidgets.readthedocs.io/en/stable/user_install.html\n",
      "  from .autonotebook import tqdm as notebook_tqdm\n"
     ]
    }
   ],
   "source": [
    "import matplotlib.pyplot as plt\n",
    "import jax\n",
    "import jax.numpy as jnp\n",
    "from flax import nnx\n",
    "import optax\n",
    "from optax.contrib import reduce_on_plateau\n",
    "\n",
    "from numpyro import distributions as dist\n",
    "\n",
    "from corner import corner\n",
    "\n",
    "import numpy as np\n",
    "\n",
    "from tqdm.auto import tqdm\n",
    "\n",
    "from functools import partial\n",
    "\n",
    "# Define the mesh for JAX sharding (for model restoration on CPU/GPU)\n",
    "devices = jax.devices()\n",
    "mesh = jax.sharding.Mesh(devices, axis_names=('data',)) # A simple 1D mesh\n"
   ]
  },
  {
   "cell_type": "markdown",
   "metadata": {},
   "source": [
    "## 3. Optimizer and Learning Rate Schedule Parameters\n",
    "\n",
    "Define optimizer hyperparameters and learning rate scheduling."
   ]
  },
  {
   "cell_type": "code",
   "execution_count": 8,
   "metadata": {},
   "outputs": [],
   "source": [
    "# @markdown Define optimizer and learning rate schedule parameters\n",
    "# @markdown Number of epochs to wait before resuming normal operation after the learning rate reduction:\n",
    "PATIENCE = 10  # @param{type:\"integer\"}\n",
    "# @markdown Factor by which to reduce the learning rate:\n",
    "COOLDOWN = 5  # @param{type:\"integer\"}\n",
    "# @markdown Relative tolerance for measuring the new optimum:\n",
    "FACTOR = 0.5  # @param{type:\"number\"}\n",
    "# @markdown Number of iterations to accumulate an average value:\n",
    "ACCUMULATION_SIZE = 100\n",
    "RTOL = 1e-4  # @param{type:\"number\"}\n",
    "# @markdown learnign rate\n",
    "MAX_LR = 1e-3  # @param{type:\"number\"}\n",
    "MIN_LR = 0  # @param{type:\"number\"}\n",
    "MIN_SCALE = MIN_LR / MAX_LR"
   ]
  },
  {
   "cell_type": "markdown",
   "metadata": {},
   "source": [
    "## 4. Task and Dataset Setup\n",
    "\n",
    "Define the Two Moons task and prepare training and validation datasets."
   ]
  },
  {
   "cell_type": "code",
   "execution_count": 9,
   "metadata": {},
   "outputs": [],
   "source": [
    "# from sbi_utils.sbi_tasks import TwoMoons\n",
    "# from sbi_utils.dataloader import InfiniteDataLoader\n",
    "\n",
    "from gensbi.flow_matching.path.scheduler import CondOTScheduler\n",
    "from gensbi.flow_matching.path import AffineProbPath\n",
    "from gensbi.flow_matching.solver import ODESolver"
   ]
  },
  {
   "cell_type": "markdown",
   "metadata": {},
   "source": [
    "### Define the Task"
   ]
  },
  {
   "cell_type": "code",
   "execution_count": 10,
   "metadata": {},
   "outputs": [
    {
     "name": "stdout",
     "output_type": "stream",
     "text": [
      "./task_data/data_two_moons.npz already exists, skipping download.\n"
     ]
    }
   ],
   "source": [
    "from gensbi_examples.tasks import TwoMoons\n",
    "task = TwoMoons()"
   ]
  },
  {
   "cell_type": "code",
   "execution_count": 11,
   "metadata": {},
   "outputs": [],
   "source": [
    "obs, reference_samples = task.get_reference(num_observation=8)"
   ]
  },
  {
   "cell_type": "markdown",
   "metadata": {},
   "source": [
    "#### Visualize Reference Samples\n",
    "\n",
    "Plot the reference samples from the Two Moons task."
   ]
  },
  {
   "cell_type": "code",
   "execution_count": 12,
   "metadata": {},
   "outputs": [
    {
     "data": {
      "image/png": "[encoded data removed]",
      "text/plain": [
       "<Figure size 640x480 with 1 Axes>"
      ]
     },
     "metadata": {},
     "output_type": "display_data"
    }
   ],
   "source": [
    "plt.hist2d(reference_samples[:, 0], reference_samples[:, 1], bins=(200,200), range=[(-1, 1), (-1, 1)], density=True)\n",
    "plt.xlim((-1,1))\n",
    "plt.ylim((-1,1))\n",
    "plt.gca().set_aspect('equal', adjustable='box')\n",
    "plt.show()"
   ]
  },
  {
   "cell_type": "markdown",
   "metadata": {},
   "source": [
    "## 5. Dataset Preparation\n",
    "\n",
    "Create training and validation datasets for the model."
   ]
  },
  {
   "cell_type": "code",
   "execution_count": 13,
   "metadata": {},
   "outputs": [],
   "source": [
    "# make a dataset\n",
    "nsamples = int(1e5)"
   ]
  },
  {
   "cell_type": "code",
   "execution_count": 14,
   "metadata": {},
   "outputs": [],
   "source": [
    "batch_size = 4*1024 # the model greatly benefits from larger batch sizes to avoid overfitting, but this is limited by the GPU memory\n",
    "train_dataset = task.get_train_dataset(batch_size)\n",
    "val_dataset = task.get_val_dataset()\n",
    "\n",
    "dataset_iter = iter(train_dataset)\n",
    "val_dataset_iter = iter(val_dataset)"
   ]
  },
  {
   "cell_type": "code",
   "execution_count": 15,
   "metadata": {},
   "outputs": [
    {
     "data": {
      "text/plain": [
       "((4096, 4), (512, 4))"
      ]
     },
     "execution_count": 15,
     "metadata": {},
     "output_type": "execute_result"
    }
   ],
   "source": [
    "next(dataset_iter).shape, next(val_dataset_iter).shape"
   ]
  },
  {
   "cell_type": "markdown",
   "metadata": {},
   "source": [
    "## 6. Model Definition\n",
    "\n",
    "Define the Simformer model and the conditional flow-matching loss.\n",
    "\n",
    "**Note:**  \n",
    "- The model uses *edge masks* as attention masks, which are crucial for controlling which variables are attended to during training and inference. These masks enable both posterior estimation (conditioning on observed data) and unconditional density estimation (no conditioning).\n",
    "- The *marginalization* function is used to construct edge masks that marginalize out arbitrary variables, allowing the model to learn and evaluate arbitrary marginal distributions."
   ]
  },
  {
   "cell_type": "code",
   "execution_count": 16,
   "metadata": {},
   "outputs": [],
   "source": [
    "from gensbi.models import Simformer, SimformerParams, SimformerCFMLoss, SimformerConditioner"
   ]
  },
  {
   "cell_type": "code",
   "execution_count": 17,
   "metadata": {},
   "outputs": [],
   "source": [
    "path = AffineProbPath(scheduler=CondOTScheduler()) # define the probability path"
   ]
  },
  {
   "cell_type": "code",
   "execution_count": 18,
   "metadata": {},
   "outputs": [],
   "source": [
    "dim_theta = task.dim_theta\n",
    "dim_data = task.dim_data\n",
    "\n",
    "dim_joint = task.dim_joint\n",
    "node_ids = jnp.arange(dim_joint)"
   ]
  },
  {
   "cell_type": "code",
   "execution_count": 19,
   "metadata": {},
   "outputs": [],
   "source": [
    "params = SimformerParams(\n",
    "    rngs = nnx.Rngs(0),\n",
    "    dim_value = 40,\n",
    "    dim_id = 40, \n",
    "    dim_condition = 12, \n",
    "    dim_joint= dim_joint,\n",
    "    fourier_features = 128,\n",
    "    num_heads = 4,\n",
    "    num_layers = 6,\n",
    "    widening_factor = 3,\n",
    "    qkv_features = 40, # this bottlenecks the transformer features to 40, instead of the token dimension\n",
    "    num_hidden_layers = 1,\n",
    "    dropout_rate = 0.0)"
   ]
  },
  {
   "cell_type": "code",
   "execution_count": 20,
   "metadata": {},
   "outputs": [],
   "source": [
    "loss_fn_cfm = SimformerCFMLoss(path)"
   ]
  },
  {
   "cell_type": "code",
   "execution_count": null,
   "metadata": {},
   "outputs": [],
   "source": [
    "def marginalize(rng: jax.random.PRNGKey, edge_mask: jax.Array):\n",
    "    # This function creates an edge mask that marginalizes out a single node from the adjacency matrix.\n",
    "    # By setting the corresponding row and column to False (except the diagonal), we can compute arbitrary marginals.\n",
    "    idx = jax.random.choice(rng, jnp.arange(edge_mask.shape[0]), shape=(1,), replace=False)\n",
    "    edge_mask = edge_mask.at[idx, :].set(False)\n",
    "    edge_mask = edge_mask.at[:, idx].set(False)\n",
    "    edge_mask = edge_mask.at[idx, idx].set(True)\n",
    "    return edge_mask"
   ]
  },
  {
   "cell_type": "code",
   "execution_count": null,
   "metadata": {},
   "outputs": [],
   "source": [
    "# Edge masks are attention masks that control which variables are attended to.\n",
    "# - undirected_edge_mask: all variables attend to each other (for unconditional density estimation)\n",
    "# - posterior_faithfull: mask for posterior estimation (conditioning on observed data)\n",
    "undirected_edge_mask = jnp.ones((dim_joint, dim_joint), dtype=jnp.bool_)\n",
    "posterior_faithfull = task.get_edge_mask_fn(\"faithfull\")(node_ids, condition_mask=jnp.array([0,0,1,1]))"
   ]
  },
  {
   "cell_type": "code",
   "execution_count": 23,
   "metadata": {},
   "outputs": [],
   "source": [
    "@partial(jax.jit, static_argnames=[\"nsamples\"])\n",
    "def get_random_condition_mask(rng: jax.random.PRNGKey, nsamples):\n",
    "    mask_joint = jnp.zeros((5*nsamples, dim_joint ), dtype=jnp.bool_)\n",
    "    mask_posterior = jnp.concatenate([jnp.zeros((nsamples, dim_theta), dtype=jnp.bool_), jnp.ones((nsamples, dim_data), dtype=jnp.bool_)], axis=-1)\n",
    "    \n",
    "    mask1 = jax.random.bernoulli(rng, p=0.3, shape=(nsamples, dim_joint))\n",
    "    filter = ~jnp.all(mask1, axis=-1)\n",
    "    mask1 = jnp.logical_and(mask1, filter.reshape(-1,1))\n",
    "\n",
    "    # masks = jnp.concatenate([mask_joint, mask1, mask_posterior, mask_likelihood], axis=0)\n",
    "    masks = jnp.concatenate([mask_joint, mask1, mask_posterior], axis=0)\n",
    "    return  jax.random.choice(rng, masks, shape=(nsamples,), replace=False, axis=0)\n",
    "    "
   ]
  },
  {
   "cell_type": "code",
   "execution_count": 24,
   "metadata": {},
   "outputs": [],
   "source": [
    "p0_dist_model = dist.Independent(\n",
    "    dist.Normal(loc=jnp.zeros((4,)), scale=jnp.ones((4,))),\n",
    "    reinterpreted_batch_ndims=1\n",
    ")"
   ]
  },
  {
   "cell_type": "code",
   "execution_count": null,
   "metadata": {},
   "outputs": [],
   "source": [
    "def loss_fn_(vf_model, x_1, key: jax.random.PRNGKey):\n",
    "\n",
    "    batch_size = x_1.shape[0]\n",
    "\n",
    "    rng_x0, rng_t, rng_condition, rng_edge_mask1, rng_edge_mask2 = jax.random.split(key, 5)\n",
    "    \n",
    "    # Generate data and random times\n",
    "    x_0 = p0_dist_model.sample(rng_x0, (batch_size,)) # n, T_max, 1\n",
    "    \n",
    "    t = jax.random.uniform(rng_t, x_1.shape[0])\n",
    "\n",
    "    batch = (x_0, x_1, t)\n",
    "    \n",
    "    # Condition mask -> randomly condition on some data. Here you can choose between the different condition masks, and you should specify the conditionals you may want to compute afterwards.\n",
    "    condition_mask = get_random_condition_mask(rng_condition, batch_size)\n",
    "\n",
    "    # undirected_edge_mask \n",
    "    undirected_edge_mask_ = jnp.repeat(undirected_edge_mask[None,...], 3*batch_size, axis=0) # Dense default mask\n",
    "    \n",
    "    # faithfull posterior mask\n",
    "    faithfull_edge_mask_ = jnp.repeat(posterior_faithfull[None,...], 3*batch_size, axis=0) # Dense default mask\n",
    "    \n",
    "    # Include marginal consistency by generating edge masks that marginalize out random nodes.\n",
    "    # This allows the model to learn arbitrary marginal distributions.\n",
    "    marginal_mask = jax.vmap(marginalize, in_axes=(0,None))(jax.random.split(rng_edge_mask1, (batch_size,)), undirected_edge_mask)\n",
    "    edge_masks = jnp.concatenate([undirected_edge_mask_, faithfull_edge_mask_, marginal_mask], axis=0)\n",
    "    # Randomly choose between dense, posterior, and marginal edge masks for each batch element.\n",
    "    edge_masks = jax.random.choice(rng_edge_mask2, edge_masks, shape=(batch_size,), axis=0) # Randomly choose between dense and marginal mask\n",
    "    \n",
    "    loss = loss_fn_cfm(vf_model, batch, node_ids=node_ids, edge_mask=edge_masks,condition_mask=condition_mask, )\n",
    "\n",
    "    return loss"
   ]
  },
  {
   "cell_type": "code",
   "execution_count": 26,
   "metadata": {},
   "outputs": [],
   "source": [
    "@nnx.jit\n",
    "def train_loss(vf_model, key: jax.random.PRNGKey):\n",
    "    x_1 = next(dataset_iter) # n, T_max, 1\n",
    "    return loss_fn_(vf_model, x_1, key)"
   ]
  },
  {
   "cell_type": "code",
   "execution_count": 27,
   "metadata": {},
   "outputs": [],
   "source": [
    "@nnx.jit\n",
    "def val_loss(vf_model, key):\n",
    "    x_1 = next(val_dataset_iter)\n",
    "    return loss_fn_(vf_model, x_1, key)"
   ]
  },
  {
   "cell_type": "code",
   "execution_count": 28,
   "metadata": {},
   "outputs": [],
   "source": [
    "@nnx.jit\n",
    "def train_step(model, optimizer, rng):\n",
    "    loss_fn = lambda model: train_loss(model, rng)\n",
    "    loss, grads = nnx.value_and_grad(loss_fn)(model)\n",
    "    optimizer.update(grads, value=loss)  # In place updates.\n",
    "    return loss"
   ]
  },
  {
   "cell_type": "code",
   "execution_count": 29,
   "metadata": {},
   "outputs": [],
   "source": [
    "vf_model = Simformer(params)"
   ]
  },
  {
   "cell_type": "markdown",
   "metadata": {},
   "source": [
    "## 7. Model Restoration\n",
    "\n",
    "Restore the model from checkpoint if requested."
   ]
  },
  {
   "cell_type": "code",
   "execution_count": 35,
   "metadata": {},
   "outputs": [
    {
     "name": "stderr",
     "output_type": "stream",
     "text": [
      "WARNING:absl:CheckpointManagerOptions.read_only=True, setting save_interval_steps=0.\n",
      "WARNING:absl:CheckpointManagerOptions.read_only=True, setting create=False.\n",
      "WARNING:absl:Given directory is read only=/lustre/ific.uv.es/ml/ific088/github/GenSBI-examples/examples/sbi-benchmarks/two_moons/checkpoints/two_moons_simformer\n"
     ]
    },
    {
     "name": "stdout",
     "output_type": "stream",
     "text": [
      "Restored model from checkpoint\n"
     ]
    },
    {
     "name": "stderr",
     "output_type": "stream",
     "text": [
      "/lhome/ific/a/aamerio/miniforge3/envs/gensbi/lib/python3.12/site-packages/orbax/checkpoint/_src/serialization/type_handlers.py:1256: UserWarning: Sharding info not provided when restoring. Populating sharding info from sharding file. Please note restoration time will be slightly increased due to reading from file. Note also that this option is unsafe when restoring on a different topology than the checkpoint was saved with.\n",
      "  warnings.warn(\n"
     ]
    }
   ],
   "source": [
    "if restore_model:\n",
    "    model_state = nnx.state(vf_model)\n",
    "    graphdef, abstract_state = nnx.split(vf_model)\n",
    "\n",
    "    with ocp.CheckpointManager(\n",
    "        checkpoint_dir, options=ocp.CheckpointManagerOptions(read_only=True)\n",
    "    ) as read_mgr:\n",
    "        restored = read_mgr.restore(\n",
    "            2,\n",
    "            # pass in the model_state to restore the exact same State type\n",
    "            args=ocp.args.Composite(state=ocp.args.PyTreeRestore(item=model_state))\n",
    "        )\n",
    "\n",
    "    vf_model= nnx.merge(graphdef, restored[\"state\"])\n",
    "    print(\"Restored model from checkpoint\")"
   ]
  },
  {
   "cell_type": "markdown",
   "metadata": {},
   "source": [
    "## 8. Optimizer Setup\n",
    "\n",
    "Set up the optimizer and learning rate schedule."
   ]
  },
  {
   "cell_type": "code",
   "execution_count": 36,
   "metadata": {},
   "outputs": [],
   "source": [
    "# reduce on plateau schedule\n",
    "nsteps = 10_000\n",
    "nepochs = 5\n",
    "\n",
    "multistep = 1 # if the GPU cannot support batch sizes of at least 4k, adjust this value accordingly to get the desired effective batch size\n",
    "\n",
    "opt = optax.chain(\n",
    "    optax.adaptive_grad_clip(10.0),\n",
    "    optax.adamw(MAX_LR),\n",
    "    reduce_on_plateau(\n",
    "        patience=PATIENCE,\n",
    "        cooldown=COOLDOWN,\n",
    "        factor=FACTOR,\n",
    "        rtol=RTOL,\n",
    "        accumulation_size=ACCUMULATION_SIZE,\n",
    "        min_scale=MIN_SCALE,\n",
    "    ),\n",
    ")\n",
    "if multistep > 1:\n",
    "    opt = optax.MultiSteps(opt, multistep)\n",
    "optimizer = nnx.Optimizer(vf_model, opt)"
   ]
  },
  {
   "cell_type": "code",
   "execution_count": 37,
   "metadata": {},
   "outputs": [],
   "source": [
    "rngs = nnx.Rngs(0)"
   ]
  },
  {
   "cell_type": "code",
   "execution_count": 38,
   "metadata": {},
   "outputs": [],
   "source": [
    "best_state = nnx.state(vf_model)\n",
    "best_val_loss_value = val_loss(vf_model, jax.random.PRNGKey(0))\n",
    "val_error_ratio = 1.1\n",
    "counter = 0\n",
    "cmax = 10\n",
    "print_every = 100\n",
    "\n",
    "loss_array = []\n",
    "val_loss_array = []\n",
    "\n",
    "early_stopping = True"
   ]
  },
  {
   "cell_type": "markdown",
   "metadata": {},
   "source": [
    "## 9. Training Loop\n",
    "\n",
    "Train the model using the defined optimizer and loss function. Early stopping and learning rate scheduling are used for efficient training."
   ]
  },
  {
   "cell_type": "code",
   "execution_count": 39,
   "metadata": {},
   "outputs": [
    {
     "name": "stderr",
     "output_type": "stream",
     "text": [
      "  0%|          | 0/10000 [00:00<?, ?it/s]"
     ]
    },
    {
     "name": "stderr",
     "output_type": "stream",
     "text": [
      "100%|██████████| 10000/10000 [05:31<00:00, 30.16it/s, counter=0, loss=0.5173, ratio=1.0220, val_loss=0.5286]\n",
      "100%|██████████| 10000/10000 [05:03<00:00, 33.00it/s, counter=0, loss=0.5177, ratio=1.0213, val_loss=0.5287]\n",
      "100%|██████████| 10000/10000 [05:02<00:00, 33.03it/s, counter=0, loss=0.5151, ratio=1.0204, val_loss=0.5257]\n",
      "100%|██████████| 10000/10000 [05:03<00:00, 32.99it/s, counter=0, loss=0.5171, ratio=1.0129, val_loss=0.5238]\n",
      "100%|██████████| 10000/10000 [05:01<00:00, 33.20it/s, counter=0, loss=0.5150, ratio=1.0219, val_loss=0.5263]\n"
     ]
    }
   ],
   "source": [
    "if train_model:\n",
    "    vf_model.train()\n",
    "\n",
    "    for ep in range(nepochs):\n",
    "        pbar = tqdm(range(nsteps))\n",
    "        l = 0\n",
    "        v_l = 0\n",
    "        for j in pbar:\n",
    "            if counter > cmax and early_stopping:\n",
    "                print(\"Early stopping\")\n",
    "                # restore the model state\n",
    "                graphdef, abstract_state = nnx.split(vf_model)\n",
    "\n",
    "                vf_model = nnx.merge(graphdef, best_state)\n",
    "                break\n",
    "\n",
    "            loss = train_step(vf_model, optimizer, rngs.train_step())\n",
    "            l += loss.item()\n",
    "            \n",
    "            v_loss = val_loss(vf_model, rngs.val_step())\n",
    "            v_l += v_loss.item()\n",
    "\n",
    "            if j > 0 and j % 100 == 0:\n",
    "                loss_ = l / 100\n",
    "                val_ = v_l / 100\n",
    "\n",
    "                ratio1 = val_ / loss_\n",
    "                ratio2 = val_ / best_val_loss_value\n",
    "\n",
    "                # if ratio1 < val_error_ratio and ratio2 < 1.05:\n",
    "                if ratio1 < val_error_ratio:\n",
    "                    if val_ < best_val_loss_value:\n",
    "                        best_val_loss_value = val_\n",
    "                        best_state = nnx.state(vf_model)\n",
    "                    counter = 0\n",
    "                else:\n",
    "                    counter += 1\n",
    "\n",
    "                # scale = tree_get(optimizer.opt_state, \"ReduceLROnPlateauState\").scale.value\n",
    "                # pbar.set_postfix(loss=f\"{l/(100):.4f}\", ratio=f\"{ratio:.4f}\", counter=counter, lr_scale=scale, val_loss = f\"{val_:.4f}\" )\n",
    "                pbar.set_postfix(\n",
    "                    loss=f\"{loss_:.4f}\",\n",
    "                    ratio=f\"{ratio1:.4f}\",\n",
    "                    counter=counter,\n",
    "                    val_loss=f\"{val_:.4f}\",\n",
    "                )\n",
    "                loss_array.append(loss_)\n",
    "                val_loss_array.append(val_)\n",
    "                l = 0\n",
    "                v_l = 0\n",
    "\n",
    "            # if j>0 and j%3000 == 0:\n",
    "            #     idx = 8\n",
    "            #     vf_wrapped = FluxWrapper(vf_model)\n",
    "            #     samples, true_param, reference_samples = get_samples(vf_wrapped, idx)\n",
    "            #     plot_samples(samples, true_param)\n",
    "        # print(l)\n",
    "\n",
    "    vf_model.eval()"
   ]
  },
  {
   "cell_type": "markdown",
   "metadata": {},
   "source": [
    "## 10. Save Model Checkpoint\n",
    "\n",
    "Save the trained model to a checkpoint for future restoration."
   ]
  },
  {
   "cell_type": "code",
   "execution_count": 42,
   "metadata": {},
   "outputs": [],
   "source": [
    "# save the model\n",
    "if train_model:\n",
    "    checkpoint_manager = ocp.CheckpointManager(checkpoint_dir,\n",
    "        options=ocp.CheckpointManagerOptions(\n",
    "            max_to_keep=2,\n",
    "            keep_checkpoints_without_metrics=True,\n",
    "            create=True,\n",
    "        ),\n",
    "    )\n",
    "    model_state = nnx.state(vf_model)\n",
    "    checkpoint_manager.save(\n",
    "        2, args=ocp.args.Composite(state=ocp.args.PyTreeSave(model_state))\n",
    "    )\n",
    "\n",
    "    checkpoint_manager.close()\n"
   ]
  },
  {
   "cell_type": "markdown",
   "metadata": {},
   "source": [
    "## 11. Training and Validation Loss Visualization\n",
    "\n",
    "Plot the training and validation loss curves."
   ]
  },
  {
   "cell_type": "code",
   "execution_count": 43,
   "metadata": {},
   "outputs": [
    {
     "data": {
      "image/png": "[encoded data removed]",
      "text/plain": [
       "<Figure size 640x480 with 1 Axes>"
      ]
     },
     "metadata": {},
     "output_type": "display_data"
    }
   ],
   "source": [
    "if train_model:\n",
    "    plt.plot(loss_array, label=\"train loss\")\n",
    "    plt.plot(val_loss_array, label=\"val loss\")\n",
    "    plt.xlabel(\"steps\")\n",
    "    plt.ylabel(\"loss\")\n",
    "    plt.legend()\n",
    "    plt.show()"
   ]
  },
  {
   "cell_type": "markdown",
   "metadata": {},
   "source": [
    "<!-- Optionally, you can display a sample image here if desired -->"
   ]
  },
  {
   "cell_type": "markdown",
   "metadata": {},
   "source": [
    "## 12. Posterior Sampling\n",
    "\n",
    "Sample from the posterior distribution using the trained model and visualize the results."
   ]
  },
  {
   "cell_type": "code",
   "execution_count": 78,
   "metadata": {},
   "outputs": [],
   "source": [
    "from gensbi.utils.model_wrapping import ModelWrapper\n",
    "class SimWrapper(ModelWrapper):\n",
    "    def __init__(self, model):\n",
    "        super().__init__(model)\n",
    "\n",
    "    def _call_model(self, x, t, args, **kwargs):\n",
    "        return self.model(obs=x, timesteps=t, **kwargs)"
   ]
  },
  {
   "cell_type": "code",
   "execution_count": 79,
   "metadata": {},
   "outputs": [],
   "source": [
    "obs_ids = jnp.array([0, 1])\n",
    "cond_ids = jnp.array([2, 3])\n",
    "step_size = 0.01\n",
    "\n",
    "# conditional sampling\n",
    "def get_samples(vf_wrapped, idx, nsamples=10_000, edge_mask=undirected_edge_mask):\n",
    "    observation, reference_samples =  task.get_reference(idx)\n",
    "    true_param = jnp.array(task.get_true_parameters(idx))\n",
    "\n",
    "    rng = jax.random.PRNGKey(45)\n",
    "\n",
    "    key1,key2 = jax.random.split(rng, 2)\n",
    "\n",
    "    x_init = jax.random.normal(key1,(nsamples, dim_theta)) # n, T_max, 1\n",
    "    cond = jnp.broadcast_to(observation[...,None], (1, dim_data, 1)) # n, dim_theta, 1\n",
    "\n",
    "    solver = ODESolver(velocity_model=vf_wrapped)  # create an ODESolver class\n",
    "    model_extras = {\"cond\": cond, \"obs_ids\": obs_ids, \"cond_ids\": cond_ids, \"edge_mask\": edge_mask}\n",
    "\n",
    "    sampler_ = solver.get_sampler(method='Dopri5', step_size=step_size, return_intermediates=False, model_extras=model_extras)\n",
    "    samples = sampler_(x_init)  # sample from the model\n",
    "\n",
    "    return samples, true_param, reference_samples\n",
    "\n",
    "def plot_samples(samples, true_param):\n",
    "    plt.hist2d(samples[:,0], samples[:,1], bins=(200,200), range=[(-1, 1), (-1, 1)], density=True)\n",
    "    # same ratio on axis \n",
    "    plt.scatter(true_param[0,0], true_param[0,1], s=100, color='red', alpha=0.5, marker='x')\n",
    "    plt.gca().set_aspect('equal', adjustable='box')\n",
    "    plt.xlim((-1,1))\n",
    "    plt.ylim((-1,1))\n",
    "    plt.show()"
   ]
  },
  {
   "cell_type": "code",
   "execution_count": 80,
   "metadata": {},
   "outputs": [],
   "source": [
    "vf_cond = SimformerConditioner(vf_model)\n",
    "vf_wrapped = SimWrapper(vf_cond)"
   ]
  },
  {
   "cell_type": "code",
   "execution_count": 104,
   "metadata": {},
   "outputs": [],
   "source": [
    "# we want to do conditional inference. We need an observation for which we want to ocmpute the posterior\n",
    "idx=8\n",
    "observation, reference_samples = task.get_reference(idx)"
   ]
  },
  {
   "cell_type": "code",
   "execution_count": 105,
   "metadata": {},
   "outputs": [],
   "source": [
    "samples = get_samples(vf_wrapped, idx, nsamples=100_000)[0]\n",
    "# samples, true_param, reference_samples = get_samples(vf_wrapped, idx, nsamples=10)"
   ]
  },
  {
   "cell_type": "markdown",
   "metadata": {},
   "source": [
    "### Visualize Posterior Samples\n",
    "\n",
    "Plot the posterior samples as a 2D histogram."
   ]
  },
  {
   "cell_type": "code",
   "execution_count": null,
   "metadata": {},
   "outputs": [],
   "source": [
    "from gensbi.utils.plotting import plot_marginals"
   ]
  },
  {
   "cell_type": "code",
   "execution_count": 148,
   "metadata": {},
   "outputs": [
    {
     "data": {
      "image/png": "[encoded data removed]",
      "text/plain": [
       "<Figure size 600x600 with 3 Axes>"
      ]
     },
     "metadata": {},
     "output_type": "display_data"
    }
   ],
   "source": [
    "plot_marginals(samples, plot_levels=False, gridsize=50)\n",
    "plt.show()"
   ]
  },
  {
   "cell_type": "markdown",
   "metadata": {},
   "source": [
    "## 13. Posterior Evaluation\n",
    "\n",
    "Evaluate the posterior by computing the likelihood on a grid and visualizing the results."
   ]
  },
  {
   "cell_type": "markdown",
   "metadata": {},
   "source": [
    "# evaluate the posterior"
   ]
  },
  {
   "cell_type": "code",
   "execution_count": 86,
   "metadata": {},
   "outputs": [],
   "source": [
    "idx = 8\n",
    "observation, reference_samples = task.get_reference(idx)\n",
    "solver = ODESolver(velocity_model=vf_wrapped)  # create an ODESolver class"
   ]
  },
  {
   "cell_type": "code",
   "execution_count": 87,
   "metadata": {},
   "outputs": [],
   "source": [
    "p0_cond = dist.Independent(\n",
    "    dist.Normal(loc=jnp.zeros((2,)), scale=jnp.ones((2,))),\n",
    "    reinterpreted_batch_ndims=1\n",
    ")"
   ]
  },
  {
   "cell_type": "code",
   "execution_count": 88,
   "metadata": {},
   "outputs": [],
   "source": [
    "grid_size = 200\n",
    "x_1 = jnp.meshgrid(jnp.linspace(-1, 1, grid_size), jnp.linspace(-1, 1, grid_size))\n",
    "x_1 = jnp.stack([x_1[0].flatten(), x_1[1].flatten()], axis=1)\n",
    "\n",
    "# cond = jnp.broadcast_to(observation[...,None], (x_1.shape[0], dim_theta,1)) # n, dim_theta, 1\n",
    "# cond = jnp.broadcast_to(observation, (x_1.shape[0], dim_theta, 1)) # n, dim_theta, 1\n",
    "cond = jnp.broadcast_to(observation, (1, dim_data)) # n, dim_theta, 1\n",
    "\n",
    "obs_ids = jnp.array([0, 1])\n",
    "cond_ids = jnp.array([2, 3])\n",
    "model_extras = {\"cond\": cond, \"obs_ids\": obs_ids, \"cond_ids\": cond_ids, \"edge_mask\": undirected_edge_mask}"
   ]
  },
  {
   "cell_type": "code",
   "execution_count": 89,
   "metadata": {},
   "outputs": [],
   "source": [
    "# get the logprob\n",
    "# logp_sampler = solver.get_unnormalized_logprob(condition_mask=condition_mask, time_grid=[1.0,0.0],method='Dopri5', step_size=step_size, log_p0=p0_dist_model.log_prob, model_extras=model_extras)\n",
    "logp_sampler = solver.get_unnormalized_logprob(time_grid=[1.0,0.0],method='Dopri5', step_size=step_size, log_p0=p0_cond.log_prob, model_extras=model_extras)\n",
    "# create an y_init which has theta on the first position and x1,x2 on the second and third position\n",
    "\n",
    "# y_init = p0_cond.sample(jax.random.PRNGKey(0), (x_1.shape[0],))  # n, dim_theta\n",
    "y_init = x_1\n",
    "\n",
    "exact_log_p = logp_sampler(y_init)\n",
    "p = jnp.exp(exact_log_p)[-1]\n"
   ]
  },
  {
   "cell_type": "code",
   "execution_count": 90,
   "metadata": {},
   "outputs": [
    {
     "data": {
      "image/png": "[encoded data removed]",
      "text/plain": [
       "<Figure size 640x480 with 2 Axes>"
      ]
     },
     "metadata": {},
     "output_type": "display_data"
    }
   ],
   "source": [
    "p_grid = p.reshape((grid_size, grid_size))\n",
    "plt.imshow(p_grid, origin='lower', aspect='auto', extent=(-1, 1, -1, 1), cmap='viridis')\n",
    "plt.xlim((-1,1))\n",
    "plt.ylim((-1,1))\n",
    "plt.colorbar()\n",
    "plt.grid(False)\n",
    "plt.show()"
   ]
  },
  {
   "cell_type": "markdown",
   "metadata": {},
   "source": [
    "## 14. Classifier Two-Sample Test (C2ST)\n",
    "\n",
    "Evaluate the quality of the posterior samples using the C2ST metric. Values closer to 0.5 are better."
   ]
  },
  {
   "cell_type": "code",
   "execution_count": 91,
   "metadata": {},
   "outputs": [],
   "source": [
    "from gensbi_examples.c2st import c2st"
   ]
  },
  {
   "cell_type": "code",
   "execution_count": 92,
   "metadata": {},
   "outputs": [],
   "source": [
    "idx = 1\n",
    "observation, reference_samples = task.get_reference(idx)\n",
    "samples = get_samples(vf_wrapped, idx, nsamples=reference_samples.shape[0])[0]\n"
   ]
  },
  {
   "cell_type": "code",
   "execution_count": 93,
   "metadata": {},
   "outputs": [],
   "source": [
    "c2st_accuracy = c2st(reference_samples, samples)"
   ]
  },
  {
   "cell_type": "code",
   "execution_count": 94,
   "metadata": {},
   "outputs": [
    {
     "data": {
      "text/plain": [
       "array([0.5313], dtype=float32)"
      ]
     },
     "execution_count": 94,
     "metadata": {},
     "output_type": "execute_result"
    }
   ],
   "source": [
    "c2st_accuracy"
   ]
  }
 ],
 "metadata": {
  "kernelspec": {
   "display_name": "gensbi",
   "language": "python",
   "name": "python3"
  },
  "language_info": {
   "codemirror_mode": {
    "name": "ipython",
    "version": 3
   },
   "file_extension": ".py",
   "mimetype": "text/x-python",
   "name": "python",
   "nbconvert_exporter": "python",
   "pygments_lexer": "ipython3",
   "version": "3.12.0"
  }
 },
 "nbformat": 4,
 "nbformat_minor": 2
}
