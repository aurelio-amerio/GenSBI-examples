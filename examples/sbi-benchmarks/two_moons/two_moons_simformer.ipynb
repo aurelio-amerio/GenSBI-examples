{
 "cells": [
  {
   "cell_type": "markdown",
   "metadata": {},
   "source": [
    "# Two Moons Simformer Conditional Flow Matching Example\n",
    "---\n",
    "This notebook demonstrates conditional flow-matching on the Two Moons task using JAX and Flax. \n",
    "\n",
    "**About Simulation-Based Inference (SBI):** SBI refers to a class of methods for inferring parameters of complex models when the likelihood function is intractable, but simulation is possible. SBI algorithms learn to approximate the posterior distribution over parameters given observed data, enabling inference in scientific and engineering domains where traditional methods fail.\n",
    "\n",
    "**The Two Moons Dataset:**\n",
    "The Two Moons dataset is a two-dimensional simulation-based inference benchmark designed to test an algorithm's ability to handle complex posterior distributions. Its posterior is both bimodal (two distinct peaks) and locally crescent-shaped, making it a challenging task for inference algorithms. The primary purpose of this benchmark is to evaluate how well different methods can capture and represent multimodality and intricate structure in the posterior.\n",
    "\n",
    "**Purpose of This Notebook:**\n",
    "This notebook trains and evaluates a Simformer flow-matching model on the Two Moons task. The goal is to assess the model's ability to learn and represent a non-trivial posterior distribution with both global (bimodal) and local (crescent-shaped) complexity.\n",
    "\n",
    "## Table of Contents\n",
    "| Section | Description |\n",
    "|---|---|\n",
    "| [1. Introduction & Setup](#1-introduction--setup) | Overview, environment, device, autoreload |\n",
    "| [2. Task & Data Preparation](#2-task--data-preparation) | Define task, visualize data, create datasets |\n",
    "| [3. Model Configuration & Definition](#3-model-configuration--definition) | Load config, set parameters, instantiate model |\n",
    "| [4. Training](#4-training) | Train or restore model, manage checkpoints |\n",
    "| [5. Evaluation & Visualization](#5-evaluation--visualization) | Visualize loss, sample posterior, compute log prob |\n",
    "| [6. Animations](#6-animations) | Create and display GIFs of results |\n",
    "\n",
    "## 1. Introduction & Setup\n",
    "---\n",
    "In this section, we introduce the problem, set up the computational environment, import required libraries, configure JAX for CPU or GPU usage, and enable autoreload for iterative development. Compatibility with Google Colab is also ensured."
   ]
  },
  {
   "cell_type": "code",
   "execution_count": 1,
   "metadata": {},
   "outputs": [],
   "source": [
    "# Check if running on Colab and install dependencies if needed\n",
    "try:\n",
    "    import google.colab\n",
    "    colab = True\n",
    "except ImportError:\n",
    "    colab = False\n",
    "\n",
    "if colab:\n",
    "    # Install required packages and clone the repository\n",
    "    %pip install \"gensbi_examples[cuda12] @ git+https://github.com/aurelio-amerio/GenSBI-examples\"\n",
    "    !git clone https://github.com/aurelio-amerio/GenSBI-examples\n",
    "    %cd GenSBI-examples/examples/sbi-benchmarks/two_moons"
   ]
  },
  {
   "cell_type": "code",
   "execution_count": 2,
   "metadata": {},
   "outputs": [],
   "source": [
    "# load autoreload extension\n",
    "%load_ext autoreload\n",
    "%autoreload 2"
   ]
  },
  {
   "cell_type": "code",
   "execution_count": null,
   "metadata": {},
   "outputs": [],
   "source": [
    "import os\n",
    "# select device\n",
    "\n",
    "# os.environ[\"JAX_PLATFORMS\"] = \"cuda\" \n",
    "os.environ[\"JAX_PLATFORMS\"] = \"cpu\" "
   ]
  },
  {
   "cell_type": "markdown",
   "metadata": {},
   "source": [
    "## 2. Task & Data Preparation\n",
    "---\n",
    "In this section, we define the Two Moons task, visualize reference samples, and create the training and validation datasets required for model learning. Batch size and sample count are set for reproducibility and performance."
   ]
  },
  {
   "cell_type": "code",
   "execution_count": 4,
   "metadata": {},
   "outputs": [],
   "source": [
    "restore_model=True\n",
    "train_model=False"
   ]
  },
  {
   "cell_type": "code",
   "execution_count": 5,
   "metadata": {},
   "outputs": [],
   "source": [
    "import orbax.checkpoint as ocp\n",
    "# get the current notebook path\n",
    "notebook_path = os.getcwd()\n",
    "checkpoint_dir = os.path.join(notebook_path, \"checkpoints\", f\"two_moons_flow_simformer\")\n",
    "os.makedirs(checkpoint_dir, exist_ok=True)"
   ]
  },
  {
   "cell_type": "code",
   "execution_count": 6,
   "metadata": {},
   "outputs": [],
   "source": [
    "import matplotlib.pyplot as plt\n",
    "import jax\n",
    "import jax.numpy as jnp\n",
    "from flax import nnx\n",
    "\n",
    "from numpyro import distributions as dist\n",
    "import numpy as np\n"
   ]
  },
  {
   "cell_type": "code",
   "execution_count": 7,
   "metadata": {},
   "outputs": [],
   "source": [
    "from gensbi.utils.plotting import plot_marginals"
   ]
  },
  {
   "cell_type": "code",
   "execution_count": 8,
   "metadata": {},
   "outputs": [
    {
     "name": "stderr",
     "output_type": "stream",
     "text": [
      "/lhome/ific/a/aamerio/miniforge3/envs/gensbi/lib/python3.12/site-packages/google/protobuf/runtime_version.py:98: UserWarning: Protobuf gencode version 5.28.3 is exactly one major version older than the runtime version 6.31.1 at grain/proto/execution_summary.proto. Please update the gencode to avoid compatibility violations in the next runtime release.\n",
      "  warnings.warn(\n"
     ]
    },
    {
     "name": "stdout",
     "output_type": "stream",
     "text": [
      "./task_data/data_two_moons.npz already exists, skipping download.\n"
     ]
    }
   ],
   "source": [
    "from gensbi_examples.tasks import TwoMoons\n",
    "task = TwoMoons()"
   ]
  },
  {
   "cell_type": "code",
   "execution_count": null,
   "metadata": {},
   "outputs": [],
   "source": [
    "# reference posterior for an observation\n",
    "obs, reference_samples = task.get_reference(num_observation=8)"
   ]
  },
  {
   "cell_type": "code",
   "execution_count": null,
   "metadata": {},
   "outputs": [
    {
     "data": {
      "image/png": "[encoded data removed]",
      "text/plain": [
       "<Figure size 600x600 with 3 Axes>"
      ]
     },
     "metadata": {},
     "output_type": "display_data"
    }
   ],
   "source": [
    "# plot the 2D posterior \n",
    "plot_marginals(np.asarray(reference_samples, dtype=np.float32), gridsize=50,range=[(-1,0),(0,1)], plot_levels=False, backend=\"seaborn\")\n",
    "plt.show()"
   ]
  },
  {
   "cell_type": "code",
   "execution_count": 11,
   "metadata": {},
   "outputs": [],
   "source": [
    "# make a dataset\n",
    "nsamples = int(1e5)"
   ]
  },
  {
   "cell_type": "code",
   "execution_count": null,
   "metadata": {},
   "outputs": [],
   "source": [
    "# Set batch size for training. Larger batch sizes help prevent overfitting, but are limited by available GPU memory.\n",
    "batch_size = 4096\n",
    "# Create training and validation datasets using the Two Moons task object.\n",
    "train_dataset = task.get_train_dataset(batch_size)\n",
    "val_dataset = task.get_val_dataset()\n",
    "\n",
    "# Create iterators for the training and validation datasets.\n",
    "dataset_iter = iter(train_dataset)\n",
    "val_dataset_iter = iter(val_dataset)"
   ]
  },
  {
   "cell_type": "markdown",
   "metadata": {},
   "source": [
    "## 3. Model Configuration & Definition\n",
    "---\n",
    "In this section, we load the model and optimizer configuration, set all relevant parameters, and instantiate the Simformer model. Edge masks and marginalization functions are used for flexible inference and posterior estimation."
   ]
  },
  {
   "cell_type": "code",
   "execution_count": 13,
   "metadata": {},
   "outputs": [],
   "source": [
    "from gensbi.models import SimformerParams, Flux1Params\n",
    "from gensbi.recipes import SimformerFlowPipeline, SimformerDiffusionPipeline, Flux1FlowPipeline, Flux1DiffusionPipeline"
   ]
  },
  {
   "cell_type": "code",
   "execution_count": null,
   "metadata": {},
   "outputs": [],
   "source": [
    "import yaml\n",
    "\n",
    "# Path to the Simformer flow-matching configuration file.\n",
    "config = f\"{notebook_path}/config/config_flow_simformer.yaml\"\n",
    "\n",
    "# Load configuration parameters from YAML file.\n",
    "with open(config, \"r\") as f:\n",
    "    config = yaml.safe_load(f)"
   ]
  },
  {
   "cell_type": "code",
   "execution_count": null,
   "metadata": {},
   "outputs": [],
   "source": [
    "# Extract dimensionality information from the task object.\n",
    "dim_theta = task.dim_theta.item()  # Number of parameters to infer\n",
    "dim_data = task.dim_data.item()    # Number of observed data dimensions\n",
    "\n",
    "dim_joint = task.dim_joint.item()  # Joint dimension (for model input)\n",
    "node_ids = jnp.arange(dim_joint)   # Node indices for model graph"
   ]
  },
  {
   "cell_type": "code",
   "execution_count": null,
   "metadata": {},
   "outputs": [],
   "source": [
    "# Extract training configuration from loaded config.\n",
    "train_params = config.get(\"training\", {})\n",
    "experiment_id = train_params.get(\"experiment_id\", 1)  # Unique ID for experiment tracking\n",
    "# restore_model = train_params.get(\"restore_model\", False)\n",
    "# train_model = train_params.get(\"train_model\", True)\n",
    "batch_size = train_params.get(\"batch_size\", 4096)      # Training batch size\n",
    "nsteps = train_params.get(\"nsteps\", 10000)              # Number of training steps\n",
    "nepochs = train_params.get(\"nepochs\", 3)                # Number of training epochs\n",
    "multistep = train_params.get(\"multistep\", 1)            # Multistep training flag\n",
    "early_stopping = train_params.get(\"early_stopping\", True) # Enable early stopping\n",
    "print_every = train_params.get(\"print_every\", 100)       # Print loss every N steps"
   ]
  },
  {
   "cell_type": "code",
   "execution_count": null,
   "metadata": {},
   "outputs": [],
   "source": [
    "# Extract optimizer configuration from loaded config.\n",
    "opt_params = config.get(\"optimizer\", {})\n",
    "PATIENCE = opt_params.get(\"patience\", 10)           # Early stopping patience\n",
    "COOLDOWN = opt_params.get(\"cooldown\", 2)            # Cooldown period for LR scheduler\n",
    "FACTOR = opt_params.get(\"factor\", 0.5)              # LR reduction factor\n",
    "ACCUMULATION_SIZE = opt_params.get(\"accumulation_size\", 100) # Gradient accumulation steps\n",
    "RTOL = opt_params.get(\"rtol\", 1e-4)                 # Relative tolerance for stopping\n",
    "MAX_LR = opt_params.get(\"max_lr\", 1e-3)              # Maximum learning rate\n",
    "MIN_LR = opt_params.get(\"min_lr\", 0.0)               # Minimum learning rate\n",
    "MIN_SCALE = MIN_LR / MAX_LR if MAX_LR > 0 else 0.0   # Minimum LR scale"
   ]
  },
  {
   "cell_type": "code",
   "execution_count": null,
   "metadata": {},
   "outputs": [],
   "source": [
    "# Define the model parameters. In general, it is better to define a deeper model with more layers and heads, and a smaller dimension per head.\n",
    "model_params = config.get(\"model\", {})\n",
    "params = SimformerParams(\n",
    "    rngs=nnx.Rngs(0),\n",
    "    dim_value=model_params.get(\"dim_value\", 40),\n",
    "    dim_id=model_params.get(\"dim_id\", 40),\n",
    "    dim_condition=model_params.get(\"dim_condition\", 10),\n",
    "    dim_joint=dim_joint,\n",
    "    fourier_features=model_params.get(\"fourier_features\", 128),\n",
    "    num_heads=model_params.get(\"num_heads\", 6),\n",
    "    num_layers=model_params.get(\"num_layers\", 8),\n",
    "    widening_factor=model_params.get(\"widening_factor\", 3),\n",
    "    qkv_features=model_params.get(\"qkv_features\", 90),\n",
    "    num_hidden_layers=model_params.get(\"num_hidden_layers\", 1),\n",
    ")"
   ]
  },
  {
   "cell_type": "code",
   "execution_count": null,
   "metadata": {},
   "outputs": [],
   "source": [
    "# We adopt the default training config, and modify some parameters according to the configuration file\n",
    "training_config = SimformerFlowPipeline._get_default_training_config()\n",
    "\n",
    "# overwrite the defaults with the config file values\n",
    "training_config[\"num_steps\"] = nsteps\n",
    "training_config[\"ema_decay\"] = 0.999\n",
    "training_config[\"patience\"] = PATIENCE\n",
    "training_config[\"cooldown\"] = COOLDOWN\n",
    "training_config[\"factor\"] = FACTOR\n",
    "training_config[\"accumulation_size\"] = ACCUMULATION_SIZE\n",
    "training_config[\"rtol\"] = RTOL\n",
    "training_config[\"max_lr\"] = MAX_LR\n",
    "training_config[\"min_lr\"] = MIN_LR\n",
    "training_config[\"min_scale\"] = MIN_SCALE\n",
    "training_config[\"val_every\"] = 100\n",
    "training_config[\"early_stopping\"] = early_stopping\n",
    "training_config[\"experiment_id\"] = experiment_id\n",
    "training_config[\"multistep\"] = multistep\n",
    "training_config[\"checkpoint_dir\"] = checkpoint_dir"
   ]
  },
  {
   "cell_type": "code",
   "execution_count": null,
   "metadata": {},
   "outputs": [],
   "source": [
    "pipeline = SimformerFlowPipeline(train_dataset, val_dataset, dim_theta, dim_data, params=params, training_config=training_config)"
   ]
  },
  {
   "cell_type": "markdown",
   "metadata": {},
   "source": [
    "## 4. Training\n",
    "---\n",
    "In this section, we train the Simformer model using the defined optimizer and loss function, or restore a pretrained model from disk if available. Training is managed with early stopping and learning rate scheduling to improve efficiency and prevent overfitting. Checkpoints are saved for reproducibility and future evaluation."
   ]
  },
  {
   "cell_type": "code",
   "execution_count": 24,
   "metadata": {},
   "outputs": [
    {
     "name": "stderr",
     "output_type": "stream",
     "text": [
      "WARNING:absl:CheckpointManagerOptions.read_only=True, setting save_interval_steps=0.\n",
      "WARNING:absl:CheckpointManagerOptions.read_only=True, setting create=False.\n",
      "WARNING:absl:Given directory is read only=/lustre/ific.uv.es/ml/ific088/github/GenSBI-examples/examples/sbi-benchmarks/two_moons/checkpoints/two_moons_flow_simformer\n"
     ]
    },
    {
     "name": "stdout",
     "output_type": "stream",
     "text": [
      "Restoring model from /lustre/ific.uv.es/ml/ific088/github/GenSBI-examples/examples/sbi-benchmarks/two_moons/checkpoints/two_moons_flow_simformer\n"
     ]
    },
    {
     "name": "stderr",
     "output_type": "stream",
     "text": [
      "WARNING:absl:CheckpointManagerOptions.read_only=True, setting save_interval_steps=0.\n",
      "WARNING:absl:CheckpointManagerOptions.read_only=True, setting create=False.\n",
      "WARNING:absl:Given directory is read only=/lustre/ific.uv.es/ml/ific088/github/GenSBI-examples/examples/sbi-benchmarks/two_moons/checkpoints/two_moons_flow_simformer/ema\n"
     ]
    },
    {
     "name": "stdout",
     "output_type": "stream",
     "text": [
      "Restored model from checkpoint\n"
     ]
    }
   ],
   "source": [
    "if restore_model:\n",
    "    print(f\"Restoring model from {checkpoint_dir}\")\n",
    "    pipeline.restore_model(experiment_id=experiment_id)\n",
    "if train_model:\n",
    "    print(f\"Training model...\")\n",
    "    loss_array, val_loss_array = pipeline.train(rngs=nnx.Rngs(0))\n"
   ]
  },
  {
   "cell_type": "markdown",
   "metadata": {},
   "source": [
    "## 5. Evaluation & Visualization\n",
    "---\n",
    "In this section, we evaluate the trained Simformer model by visualizing training and validation loss curves, sampling from the posterior, and comparing results to reference data. We also compute and visualize the unnormalized log probability over a grid to assess model calibration and density estimation. These analyses provide insight into model performance and reliability."
   ]
  },
  {
   "cell_type": "code",
   "execution_count": 23,
   "metadata": {},
   "outputs": [],
   "source": [
    "if train_model:\n",
    "    plt.plot(loss_array, label=\"train loss\")\n",
    "    plt.plot(val_loss_array, label=\"val loss\")\n",
    "    plt.xlabel(\"steps\")\n",
    "    plt.ylabel(\"loss\")\n",
    "    plt.legend()\n",
    "    plt.show()"
   ]
  },
  {
   "cell_type": "markdown",
   "metadata": {},
   "source": [
    "## Section 8: Posterior Sampling\n",
    "---\n",
    "In this section, we sample from the posterior distribution using the trained model and visualize the results. Posterior samples are generated for a selected observation and compared to reference samples to assess model accuracy."
   ]
  },
  {
   "cell_type": "code",
   "execution_count": 24,
   "metadata": {},
   "outputs": [],
   "source": [
    "# we want to do conditional inference. We need an observation for which we want to ocmpute the posterior\n",
    "def get_samples(idx, nsamples=10_000, use_ema=False, rng=None):\n",
    "    observation, reference_samples = task.get_reference(idx)\n",
    "    true_param = jnp.array(task.get_true_parameters(idx))\n",
    "\n",
    "    if rng is None:\n",
    "        rng = jax.random.PRNGKey(42)\n",
    "\n",
    "    time_grid = jnp.linspace(0,1,100)\n",
    "\n",
    "    samples = pipeline.sample(rng, observation, nsamples, use_ema=use_ema, time_grid=time_grid)\n",
    "    return samples, true_param, reference_samples"
   ]
  },
  {
   "cell_type": "code",
   "execution_count": 25,
   "metadata": {},
   "outputs": [],
   "source": [
    "samples, true_param, reference_samples =  get_samples(8)"
   ]
  },
  {
   "cell_type": "code",
   "execution_count": 26,
   "metadata": {},
   "outputs": [
    {
     "data": {
      "text/plain": [
       "(100, 10000, 2)"
      ]
     },
     "execution_count": 26,
     "metadata": {},
     "output_type": "execute_result"
    }
   ],
   "source": [
    "samples.shape"
   ]
  },
  {
   "cell_type": "markdown",
   "metadata": {},
   "source": [
    "### Section 8.1: Visualize Posterior Samples\n",
    "---\n",
    "In this section, we plot the posterior samples as a 2D histogram to visualize the learned distribution and compare it to the ground truth."
   ]
  },
  {
   "cell_type": "code",
   "execution_count": 35,
   "metadata": {},
   "outputs": [],
   "source": [
    "from gensbi.utils.plotting import plot_marginals, plot_2d_dist_contour"
   ]
  },
  {
   "cell_type": "code",
   "execution_count": 28,
   "metadata": {},
   "outputs": [
    {
     "data": {
      "text/plain": [
       "<Figure size 640x480 with 0 Axes>"
      ]
     },
     "metadata": {},
     "output_type": "display_data"
    },
    {
     "data": {
      "image/png": "[encoded data removed]",
      "text/plain": [
       "<Figure size 550x550 with 4 Axes>"
      ]
     },
     "metadata": {},
     "output_type": "display_data"
    },
    {
     "data": {
      "image/png": "[encoded data removed]",
      "text/plain": [
       "<Figure size 600x600 with 3 Axes>"
      ]
     },
     "metadata": {},
     "output_type": "display_data"
    }
   ],
   "source": [
    "plot_marginals(samples[-1], plot_levels=False, gridsize=50, range=[(-1., 0), (0, 1.)])\n",
    "plt.show()\n",
    "\n",
    "# check how we set the ranges in the seaborn plot, it seems wrong\n",
    "plot_marginals(samples[-1], plot_levels=False, backend=\"seaborn\", gridsize=50, range =[(-1., 0), (0, 1.)])\n",
    "plt.text(1.05, 1.05, f\"t = {1.0}\", transform=plt.gca().transAxes)\n",
    "plt.show()"
   ]
  },
  {
   "cell_type": "markdown",
   "metadata": {},
   "source": [
    "## Section 9: Compute Unnormalized Log Probability\n",
    "---\n",
    "In this section, we compute the unnormalized log probability of the posterior over a grid of parameter values. This allows us to visualize the density and evaluate the calibration of the model."
   ]
  },
  {
   "cell_type": "code",
   "execution_count": 56,
   "metadata": {},
   "outputs": [],
   "source": [
    "grid_size = 200\n",
    "\n",
    "theta1 = jnp.linspace(-1, 0, grid_size)\n",
    "theta2 = jnp.linspace(0, 1, grid_size)\n",
    "x_1 = jnp.meshgrid(theta1, theta2)\n",
    "\n",
    "x_1 = jnp.stack([x_1[0].flatten(), x_1[1].flatten()], axis=1)\n",
    "\n",
    "observation, reference_samples = task.get_reference(8)"
   ]
  },
  {
   "cell_type": "code",
   "execution_count": 57,
   "metadata": {},
   "outputs": [],
   "source": [
    "time_grid = jnp.linspace(1,0,100)\n",
    "p_ = pipeline.compute_unnorm_logprob(x_1, observation, step_size=0.01, use_ema=True, time_grid=time_grid)"
   ]
  },
  {
   "cell_type": "code",
   "execution_count": 58,
   "metadata": {},
   "outputs": [],
   "source": [
    "x = theta1\n",
    "y = theta2\n",
    "Z = np.array(p_.reshape((p_.shape[0], grid_size, grid_size)))"
   ]
  },
  {
   "cell_type": "code",
   "execution_count": 60,
   "metadata": {},
   "outputs": [
    {
     "data": {
      "image/png": "[encoded data removed]",
      "text/plain": [
       "<Figure size 800x600 with 1 Axes>"
      ]
     },
     "metadata": {},
     "output_type": "display_data"
    }
   ],
   "source": [
    "plot_2d_dist_contour(x,y,Z[-1], levels=None)\n",
    "plt.title(\"Posterior Density, t = 1.0\")\n",
    "plt.xlabel(r\"$\\theta_0$\", fontsize=12)\n",
    "plt.ylabel(r\"$\\theta_1$\", fontsize=12)\n",
    "plt.show()"
   ]
  },
  {
   "cell_type": "markdown",
   "metadata": {},
   "source": [
    "## 6. Animations\n",
    "---\n",
    "In this section, we create and display animations of posterior samples and density contours over time. These visualizations illustrate the evolution of the learned distribution during the sampling process, providing dynamic insight into model behavior and convergence."
   ]
  },
  {
   "cell_type": "code",
   "execution_count": 46,
   "metadata": {},
   "outputs": [],
   "source": [
    "import imageio.v3 as imageio\n",
    "import io\n",
    "from tqdm import tqdm"
   ]
  },
  {
   "cell_type": "code",
   "execution_count": 47,
   "metadata": {},
   "outputs": [
    {
     "name": "stderr",
     "output_type": "stream",
     "text": [
      "100%|██████████| 100/100 [00:32<00:00,  3.10it/s]\n"
     ]
    }
   ],
   "source": [
    "# samples\n",
    "\n",
    "images = []\n",
    "\n",
    "for i in tqdm(range(len(samples))):\n",
    "    plot_marginals(\n",
    "        samples[i],\n",
    "        plot_levels=False,\n",
    "        gridsize=50,\n",
    "        range=[(-1.0, 0), (0, 1.0)],\n",
    "        backend=\"seaborn\",\n",
    "    )\n",
    "\n",
    "    plt.text(1.05, 1.05, f\"t = {(i+1)/len(samples):.2f}\", transform=plt.gca().transAxes)\n",
    "\n",
    "    buf = io.BytesIO()\n",
    "    plt.savefig(buf, format=\"png\", bbox_inches='tight', dpi=300)\n",
    "    buf.seek(0)\n",
    "    image = imageio.imread(buf)\n",
    "    buf.close()\n",
    "    if i == 0:\n",
    "        images = []\n",
    "    images.append(image)\n",
    "    plt.close()"
   ]
  },
  {
   "cell_type": "code",
   "execution_count": 48,
   "metadata": {},
   "outputs": [],
   "source": [
    "# repeat the last frame 10 times to make the gif pause at the end\n",
    "images += [images[-1]] * 20"
   ]
  },
  {
   "cell_type": "code",
   "execution_count": null,
   "metadata": {},
   "outputs": [],
   "source": [
    "imageio.imwrite(\n",
    "    'animated_plot_samples_simformer.gif', \n",
    "    images, \n",
    "    duration=5000/len(images), \n",
    "    loop=0  # 0 means loop indefinitely\n",
    ")"
   ]
  },
  {
   "cell_type": "markdown",
   "metadata": {},
   "source": [
    "<img src=\"./animated_plot_samples.gif\" alt=\"two-moons posterior sampling\" width=\"500\">"
   ]
  },
  {
   "cell_type": "code",
   "execution_count": 61,
   "metadata": {},
   "outputs": [
    {
     "name": "stderr",
     "output_type": "stream",
     "text": [
      "100%|██████████| 100/100 [00:16<00:00,  6.23it/s]\n"
     ]
    }
   ],
   "source": [
    "images = []\n",
    "\n",
    "for i in tqdm(range(len(samples))):\n",
    "    plot_2d_dist_contour(x,y,Z[i], levels=None)\n",
    "    plt.title(f\"Posterior Density, t = {(i+1)/len(samples):.2f}\")\n",
    "    plt.xlabel(r\"$\\theta_0$\", fontsize=12)\n",
    "    plt.ylabel(r\"$\\theta_1$\", fontsize=12)\n",
    "\n",
    "    buf = io.BytesIO()\n",
    "    plt.savefig(buf, format=\"png\", bbox_inches='tight', dpi=300)\n",
    "    buf.seek(0)\n",
    "    image = imageio.imread(buf)\n",
    "    buf.close()\n",
    "    if i == 0:\n",
    "        images = []\n",
    "    images.append(image)\n",
    "    plt.close()"
   ]
  },
  {
   "cell_type": "code",
   "execution_count": 62,
   "metadata": {},
   "outputs": [],
   "source": [
    "# repeat the last frame 10 times to make the gif pause at the end\n",
    "images += [images[-1]] * 20"
   ]
  },
  {
   "cell_type": "code",
   "execution_count": null,
   "metadata": {},
   "outputs": [],
   "source": [
    "imageio.imwrite(\n",
    "    'animated_plot_posterior_simformer.gif', \n",
    "    images, \n",
    "    duration=5000/len(images), \n",
    "    loop=0  # 0 means loop indefinitely\n",
    ")"
   ]
  },
  {
   "cell_type": "markdown",
   "metadata": {},
   "source": [
    "<img src=\"./animated_plot_posterior.gif\" alt=\"two-moons posterior\" width=\"500\">"
   ]
  }
 ],
 "metadata": {
  "kernelspec": {
   "display_name": "gensbi",
   "language": "python",
   "name": "python3"
  },
  "language_info": {
   "codemirror_mode": {
    "name": "ipython",
    "version": 3
   },
   "file_extension": ".py",
   "mimetype": "text/x-python",
   "name": "python",
   "nbconvert_exporter": "python",
   "pygments_lexer": "ipython3",
   "version": "3.12.11"
  }
 },
 "nbformat": 4,
 "nbformat_minor": 2
}
