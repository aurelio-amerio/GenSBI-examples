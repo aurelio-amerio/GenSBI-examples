{
 "cells": [
  {
   "cell_type": "code",
   "execution_count": 4,
   "id": "3a981453",
   "metadata": {},
   "outputs": [],
   "source": [
    "import os\n",
    "os.environ[\"JAX_PLATFORMS\"] = \"cpu\"\n",
    "\n",
    "import jax \n",
    "import jax.numpy as jnp\n",
    "\n",
    "from functools import partial"
   ]
  },
  {
   "cell_type": "code",
   "execution_count": 5,
   "id": "f65cfec0",
   "metadata": {},
   "outputs": [],
   "source": [
    "@partial(jax.jit, static_argnames=[\"num_samples\", \"theta_dim\", \"x_dim\",\"p_joint\", \"p_posterior\", \"p_likelihood\", \"p_rnd1\", \"p_rnd2\", \"rnd1_prob\", \"rnd2_prob\"])\n",
    "def sample_strutured_conditional_mask(\n",
    "    key,\n",
    "    num_samples,\n",
    "    theta_dim,\n",
    "    x_dim,\n",
    "    p_joint=0.2,\n",
    "    p_posterior=0.2,\n",
    "    p_likelihood=0.2,\n",
    "    p_rnd1=0.2,\n",
    "    p_rnd2=0.2,\n",
    "    rnd1_prob=0.3,\n",
    "    rnd2_prob=0.7,\n",
    "):\n",
    "    # Joint, posterior, likelihood, random1_mask, random2_mask\n",
    "    key1, key2, key3 = jax.random.split(key, 3)\n",
    "    joint_mask = jnp.array([False] * (theta_dim + x_dim), dtype=jnp.bool_)\n",
    "    posterior_mask = jnp.array([False] * theta_dim + [True] * x_dim, dtype=jnp.bool_)\n",
    "    likelihood_mask = jnp.array([True] * theta_dim + [False] * x_dim, dtype=jnp.bool_)\n",
    "    random1_mask = jax.random.bernoulli(\n",
    "        key2, rnd1_prob, shape=(theta_dim + x_dim,)\n",
    "    ).astype(jnp.bool_)\n",
    "    random2_mask = jax.random.bernoulli(\n",
    "        key3, rnd2_prob, shape=(theta_dim + x_dim,)\n",
    "    ).astype(jnp.bool_)\n",
    "    mask_options = jnp.stack(\n",
    "        [joint_mask, posterior_mask, likelihood_mask, random1_mask, random2_mask],\n",
    "        axis=0,\n",
    "    )  # (5, theta_dim + x_dim)\n",
    "    idx = jax.random.choice(\n",
    "        key1,\n",
    "        5,\n",
    "        shape=(num_samples,),\n",
    "        p=jnp.array([p_joint, p_posterior, p_likelihood, p_rnd1, p_rnd2]),\n",
    "    )\n",
    "    condition_mask = mask_options[idx]\n",
    "    all_ones_mask = jnp.all(condition_mask, axis=-1)\n",
    "    # If all are ones, then set to false\n",
    "    condition_mask = jnp.where(all_ones_mask[..., None], False, condition_mask)\n",
    "    return condition_mask"
   ]
  },
  {
   "cell_type": "code",
   "execution_count": 8,
   "id": "b210149f",
   "metadata": {},
   "outputs": [],
   "source": [
    "x = jnp.zeros((2, 10))"
   ]
  },
  {
   "cell_type": "code",
   "execution_count": 10,
   "id": "ea4d648f",
   "metadata": {},
   "outputs": [
    {
     "data": {
      "text/plain": [
       "Array([[False, False, False, False, False],\n",
       "       [False, False,  True,  True,  True],\n",
       "       [ True,  True, False, False,  True],\n",
       "       [False, False,  True,  True,  True],\n",
       "       [False, False,  True,  True,  True],\n",
       "       [False, False,  True,  True,  True],\n",
       "       [False, False,  True,  True,  True],\n",
       "       [False, False,  True,  True,  True],\n",
       "       [False, False, False, False, False],\n",
       "       [False, False,  True,  True,  True]], dtype=bool)"
      ]
     },
     "execution_count": 10,
     "metadata": {},
     "output_type": "execute_result"
    }
   ],
   "source": [
    "sample_strutured_conditional_mask(jax.random.PRNGKey(0), x.shape[1], 2, 3)"
   ]
  },
  {
   "cell_type": "code",
   "execution_count": null,
   "id": "b5e11eaf",
   "metadata": {},
   "outputs": [],
   "source": []
  }
 ],
 "metadata": {
  "kernelspec": {
   "display_name": "gensbi",
   "language": "python",
   "name": "python3"
  },
  "language_info": {
   "codemirror_mode": {
    "name": "ipython",
    "version": 3
   },
   "file_extension": ".py",
   "mimetype": "text/x-python",
   "name": "python",
   "nbconvert_exporter": "python",
   "pygments_lexer": "ipython3",
   "version": "3.12.11"
  }
 },
 "nbformat": 4,
 "nbformat_minor": 5
}
