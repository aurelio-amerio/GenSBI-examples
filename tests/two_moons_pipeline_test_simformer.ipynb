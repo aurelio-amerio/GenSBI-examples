{
 "cells": [
  {
   "cell_type": "markdown",
   "metadata": {},
   "source": [
    "# Two Moons Simformer Conditional Flow Matching Example\n",
    "\n",
    "This notebook demonstrates how to train and sample from a conditional flow-matching model on the Two Moons task using JAX and Flax. We cover environment setup, data generation, model definition, training, sampling, and evaluation."
   ]
  },
  {
   "cell_type": "markdown",
   "metadata": {},
   "source": [
    "## 1. Environment Setup\n",
    "\n",
    "We set up the notebook environment, import required libraries, and configure JAX for CPU or GPU usage. This section also ensures compatibility with Google Colab."
   ]
  },
  {
   "cell_type": "code",
   "execution_count": 1,
   "metadata": {},
   "outputs": [],
   "source": [
    "# Check if running on Colab and install dependencies if needed\n",
    "try:\n",
    "    import google.colab\n",
    "    colab = True\n",
    "except ImportError:\n",
    "    colab = False\n",
    "\n",
    "if colab:\n",
    "    # Install required packages and clone the repository\n",
    "    %pip install \"gensbi_examples[cuda12] @ git+https://github.com/aurelio-amerio/GenSBI-examples\"\n",
    "    !git clone https://github.com/aurelio-amerio/GenSBI-examples\n",
    "    %cd GenSBI-examples/examples/sbi-benchmarks/two_moons"
   ]
  },
  {
   "cell_type": "code",
   "execution_count": 2,
   "metadata": {},
   "outputs": [],
   "source": [
    "# load autoreload extension\n",
    "%load_ext autoreload\n",
    "%autoreload 2"
   ]
  },
  {
   "cell_type": "code",
   "execution_count": 3,
   "metadata": {},
   "outputs": [],
   "source": [
    "# Set JAX backend (use 'cuda' for GPU, 'cpu' otherwise)\n",
    "import os\n",
    "# os.environ['JAX_PLATFORMS']=\"cuda\"\n",
    "os.environ['JAX_PLATFORMS']=\"cpu\""
   ]
  },
  {
   "cell_type": "code",
   "execution_count": 4,
   "metadata": {},
   "outputs": [],
   "source": [
    "experiment_id = 2"
   ]
  },
  {
   "cell_type": "markdown",
   "metadata": {},
   "source": [
    "### Set Training and Model Restoration Flags\n",
    "\n",
    "Configure whether to restore a pretrained model or train from scratch."
   ]
  },
  {
   "cell_type": "code",
   "execution_count": 5,
   "metadata": {},
   "outputs": [],
   "source": [
    "restore_model=True\n",
    "train_model=False"
   ]
  },
  {
   "cell_type": "markdown",
   "metadata": {},
   "source": [
    "### Set Checkpoint Directory\n",
    "\n",
    "Specify the directory for saving and restoring model checkpoints."
   ]
  },
  {
   "cell_type": "code",
   "execution_count": 6,
   "metadata": {},
   "outputs": [],
   "source": [
    "import orbax.checkpoint as ocp\n",
    "# get the current notebook path\n",
    "notebook_path = os.getcwd()\n",
    "# checkpoint_dir = f\"/home/zaldivar/symlinks/aure/Github/GenSBI-examples/examples/sbi-benchmarks/two_moons/checkpoints/two_moons_flow_simformer\"\n",
    "checkpoint_dir = f\"/home/zaldivar/symlinks/aure/Github/GenSBI-examples/examples/sbi-benchmarks/two_moons/old/checkpoints/two_moons_simformer\"\n",
    "os.makedirs(checkpoint_dir, exist_ok=True)"
   ]
  },
  {
   "cell_type": "markdown",
   "metadata": {},
   "source": [
    "## 2. Library Imports and JAX Mesh Setup\n",
    "\n",
    "Import required libraries and set up the JAX mesh for sharding."
   ]
  },
  {
   "cell_type": "code",
   "execution_count": 7,
   "metadata": {},
   "outputs": [
    {
     "name": "stderr",
     "output_type": "stream",
     "text": [
      "/home/zaldivar/miniforge3/envs/gensbi/lib/python3.12/site-packages/tqdm/auto.py:21: TqdmWarning: IProgress not found. Please update jupyter and ipywidgets. See https://ipywidgets.readthedocs.io/en/stable/user_install.html\n",
      "  from .autonotebook import tqdm as notebook_tqdm\n"
     ]
    }
   ],
   "source": [
    "import matplotlib.pyplot as plt\n",
    "import jax\n",
    "import jax.numpy as jnp\n",
    "from flax import nnx\n",
    "\n",
    "from numpyro import distributions as dist\n",
    "import numpy as np\n"
   ]
  },
  {
   "cell_type": "markdown",
   "metadata": {},
   "source": [
    "## 3. Optimizer and Learning Rate Schedule Parameters\n",
    "\n",
    "Define optimizer hyperparameters and learning rate scheduling."
   ]
  },
  {
   "cell_type": "markdown",
   "metadata": {},
   "source": [
    "## 4. Task and Dataset Setup\n",
    "\n",
    "Define the Two Moons task and prepare training and validation datasets."
   ]
  },
  {
   "cell_type": "code",
   "execution_count": 8,
   "metadata": {},
   "outputs": [],
   "source": [
    "from gensbi.utils.plotting import plot_marginals"
   ]
  },
  {
   "cell_type": "markdown",
   "metadata": {},
   "source": [
    "### Define the Task"
   ]
  },
  {
   "cell_type": "code",
   "execution_count": 9,
   "metadata": {},
   "outputs": [
    {
     "name": "stdout",
     "output_type": "stream",
     "text": [
      "./task_data/data_two_moons.npz already exists, skipping download.\n"
     ]
    }
   ],
   "source": [
    "from gensbi_examples.tasks import TwoMoons\n",
    "task = TwoMoons()"
   ]
  },
  {
   "cell_type": "code",
   "execution_count": 10,
   "metadata": {},
   "outputs": [],
   "source": [
    "obs, reference_samples = task.get_reference(num_observation=8)"
   ]
  },
  {
   "cell_type": "markdown",
   "metadata": {},
   "source": [
    "#### Visualize Reference Samples\n",
    "\n",
    "Plot the reference samples from the Two Moons task."
   ]
  },
  {
   "cell_type": "code",
   "execution_count": 11,
   "metadata": {},
   "outputs": [
    {
     "data": {
      "image/png": "[encoded data removed]",
      "text/plain": [
       "<Figure size 600x600 with 3 Axes>"
      ]
     },
     "metadata": {},
     "output_type": "display_data"
    }
   ],
   "source": [
    "plot_marginals(np.asarray(reference_samples, dtype=np.float32), gridsize=100,range=[(-1.,1.),(-1.,1.)], backend=\"seaborn\", plot_levels=False)\n",
    "plt.show()"
   ]
  },
  {
   "cell_type": "markdown",
   "metadata": {},
   "source": [
    "## 5. Dataset Preparation\n",
    "\n",
    "Create training and validation datasets for the model."
   ]
  },
  {
   "cell_type": "code",
   "execution_count": 12,
   "metadata": {},
   "outputs": [],
   "source": [
    "# make a dataset\n",
    "nsamples = int(1e5)"
   ]
  },
  {
   "cell_type": "code",
   "execution_count": 13,
   "metadata": {},
   "outputs": [],
   "source": [
    "batch_size = 32 # the model greatly benefits from larger batch sizes to avoid overfitting, but this is limited by the GPU memory\n",
    "train_dataset = task.get_train_dataset(batch_size)\n",
    "val_dataset = task.get_val_dataset()\n",
    "\n",
    "dataset_iter = iter(train_dataset)\n",
    "val_dataset_iter = iter(val_dataset)"
   ]
  },
  {
   "cell_type": "code",
   "execution_count": 14,
   "metadata": {},
   "outputs": [
    {
     "data": {
      "text/plain": [
       "((32, 4, 1), (512, 4, 1))"
      ]
     },
     "execution_count": 14,
     "metadata": {},
     "output_type": "execute_result"
    }
   ],
   "source": [
    "next(dataset_iter).shape, next(val_dataset_iter).shape"
   ]
  },
  {
   "cell_type": "markdown",
   "metadata": {},
   "source": [
    "## 6. Model Definition\n",
    "\n",
    "Define the Simformer model and the conditional flow-matching loss.\n",
    "\n",
    "**Note:**  \n",
    "- The model uses *edge masks* as attention masks, which are crucial for controlling which variables are attended to during training and inference. These masks enable both posterior estimation (conditioning on observed data) and unconditional density estimation (no conditioning).\n",
    "- The *marginalization* function is used to construct edge masks that marginalize out arbitrary variables, allowing the model to learn and evaluate arbitrary marginal distributions."
   ]
  },
  {
   "cell_type": "code",
   "execution_count": 15,
   "metadata": {},
   "outputs": [],
   "source": [
    "from gensbi.models import SimformerParams, Flux1Params\n",
    "from gensbi.recipes import SimformerFlowPipeline, SimformerDiffusionPipeline, Flux1FlowPipeline, Flux1DiffusionPipeline"
   ]
  },
  {
   "cell_type": "code",
   "execution_count": 16,
   "metadata": {},
   "outputs": [],
   "source": [
    "import yaml\n",
    "\n",
    "config = \"/home/zaldivar/symlinks/aure/Github/GenSBI-examples/examples/sbi-benchmarks/two_moons/config_flow_simformer.yaml\"\n",
    "\n",
    "# Load config\n",
    "with open(config, \"r\") as f:\n",
    "    config = yaml.safe_load(f)"
   ]
  },
  {
   "cell_type": "code",
   "execution_count": 17,
   "metadata": {},
   "outputs": [],
   "source": [
    "dim_theta = task.dim_theta.item()\n",
    "dim_data = task.dim_data.item()\n",
    "\n",
    "dim_joint = task.dim_joint.item()\n",
    "node_ids = jnp.arange(dim_joint)"
   ]
  },
  {
   "cell_type": "code",
   "execution_count": 18,
   "metadata": {},
   "outputs": [],
   "source": [
    "train_params = config.get(\"training\", {})\n",
    "experiment_id = train_params.get(\"experiment_id\", 3)\n",
    "restore_model = train_params.get(\"restore_model\", False)\n",
    "train_model = train_params.get(\"train_model\", True)\n",
    "batch_size = train_params.get(\"batch_size\", 4096)\n",
    "nsteps = train_params.get(\"nsteps\", 10000)\n",
    "nepochs = train_params.get(\"nepochs\", 3)\n",
    "multistep = train_params.get(\"multistep\", 1)\n",
    "early_stopping = train_params.get(\"early_stopping\", True)\n",
    "print_every = train_params.get(\"print_every\", 100)"
   ]
  },
  {
   "cell_type": "code",
   "execution_count": 19,
   "metadata": {},
   "outputs": [],
   "source": [
    "\n",
    "\n",
    "# Optimizer parameters\n",
    "opt_params = config.get(\"optimizer\", {})\n",
    "PATIENCE = opt_params.get(\"patience\", 10)\n",
    "COOLDOWN = opt_params.get(\"cooldown\", 2)\n",
    "FACTOR = opt_params.get(\"factor\", 0.5)\n",
    "ACCUMULATION_SIZE = opt_params.get(\"accumulation_size\", 100)\n",
    "RTOL = opt_params.get(\"rtol\", 1e-4)\n",
    "MAX_LR = opt_params.get(\"max_lr\", 1e-3)\n",
    "MIN_LR = opt_params.get(\"min_lr\", 0.0)\n",
    "MIN_SCALE = MIN_LR / MAX_LR if MAX_LR > 0 else 0.0"
   ]
  },
  {
   "cell_type": "code",
   "execution_count": 20,
   "metadata": {},
   "outputs": [],
   "source": [
    "model_params = config.get(\"model\", {})\n",
    "params = SimformerParams(\n",
    "    rngs=nnx.Rngs(0),\n",
    "    dim_value=model_params.get(\"dim_value\", 40),\n",
    "    dim_id=model_params.get(\"dim_id\", 40),\n",
    "    dim_condition=model_params.get(\"dim_condition\", 10),\n",
    "    dim_joint=dim_joint,\n",
    "    fourier_features=model_params.get(\"fourier_features\", 128),\n",
    "    num_heads=model_params.get(\"num_heads\", 6),\n",
    "    num_layers=model_params.get(\"num_layers\", 8),\n",
    "    widening_factor=model_params.get(\"widening_factor\", 3),\n",
    "    qkv_features=model_params.get(\"qkv_features\", 90),\n",
    "    num_hidden_layers=model_params.get(\"num_hidden_layers\", 1),\n",
    ")"
   ]
  },
  {
   "cell_type": "code",
   "execution_count": 21,
   "metadata": {},
   "outputs": [],
   "source": [
    "default_training_config = SimformerFlowPipeline._get_default_training_config()"
   ]
  },
  {
   "cell_type": "code",
   "execution_count": 22,
   "metadata": {},
   "outputs": [],
   "source": [
    "# checkpoint_dir = \"/home/zaldivar/symlinks/aure/Github/GenSBI-examples/examples/sbi-benchmarks/two_moons/checkpoints/two_moons_flow_simformer\"\n",
    "# checkpoint_dir = \"/home/zaldivar/symlinks/aure/Github/GenSBI-examples/tests/ckpt-test\"\n",
    "\n",
    "default_training_config[\"checkpoint_dir\"] = checkpoint_dir"
   ]
  },
  {
   "cell_type": "code",
   "execution_count": 23,
   "metadata": {},
   "outputs": [],
   "source": [
    "pipeline = SimformerFlowPipeline(train_dataset, val_dataset, 2, 2, params=params, training_config=default_training_config)"
   ]
  },
  {
   "cell_type": "code",
   "execution_count": 24,
   "metadata": {},
   "outputs": [
    {
     "name": "stderr",
     "output_type": "stream",
     "text": [
      "WARNING:absl:CheckpointManagerOptions.read_only=True, setting save_interval_steps=0.\n",
      "WARNING:absl:CheckpointManagerOptions.read_only=True, setting create=False.\n",
      "WARNING:absl:Given directory is read only=/home/zaldivar/symlinks/aure/Github/GenSBI-examples/examples/sbi-benchmarks/two_moons/old/checkpoints/two_moons_simformer\n",
      "WARNING:absl:CheckpointManagerOptions.read_only=True, setting save_interval_steps=0.\n",
      "WARNING:absl:CheckpointManagerOptions.read_only=True, setting create=False.\n",
      "WARNING:absl:Given directory is read only=/home/zaldivar/symlinks/aure/Github/GenSBI-examples/examples/sbi-benchmarks/two_moons/old/checkpoints/two_moons_simformer/ema\n"
     ]
    },
    {
     "name": "stdout",
     "output_type": "stream",
     "text": [
      "Restored model from checkpoint\n"
     ]
    }
   ],
   "source": [
    "pipeline.restore_model(6)"
   ]
  },
  {
   "cell_type": "markdown",
   "metadata": {},
   "source": [
    "## 9. Training Loop\n",
    "\n",
    "Train the model using the defined optimizer and loss function. Early stopping and learning rate scheduling are used for efficient training."
   ]
  },
  {
   "cell_type": "code",
   "execution_count": 25,
   "metadata": {},
   "outputs": [],
   "source": [
    "# pipeline.train(rngs=nnx.Rngs(0), nsteps=10)"
   ]
  },
  {
   "cell_type": "markdown",
   "metadata": {},
   "source": [
    "## 10. Training and Validation Loss Visualization\n",
    "\n",
    "Plot the training and validation loss curves."
   ]
  },
  {
   "cell_type": "code",
   "execution_count": 26,
   "metadata": {},
   "outputs": [],
   "source": [
    "# if train_model:\n",
    "#     plt.plot(loss_array, label=\"train loss\")\n",
    "#     plt.plot(val_loss_array, label=\"val loss\")\n",
    "#     plt.xlabel(\"steps\")\n",
    "#     plt.ylabel(\"loss\")\n",
    "#     plt.legend()\n",
    "#     plt.show()"
   ]
  },
  {
   "attachments": {
    "image.png": {
     "image/png": "[encoded data removed]"
    }
   },
   "cell_type": "markdown",
   "metadata": {},
   "source": [
    "![image.png](attachment:image.png)"
   ]
  },
  {
   "cell_type": "markdown",
   "metadata": {},
   "source": [
    "<!-- Optionally, you can display a sample image here if desired -->"
   ]
  },
  {
   "cell_type": "markdown",
   "metadata": {},
   "source": [
    "## 12. Posterior Sampling\n",
    "\n",
    "Sample from the posterior distribution using the trained model and visualize the results."
   ]
  },
  {
   "cell_type": "code",
   "execution_count": 27,
   "metadata": {},
   "outputs": [],
   "source": [
    "# we want to do conditional inference. We need an observation for which we want to ocmpute the posterior\n",
    "def get_samples(idx, nsamples=10_000, use_ema=False, rng=None):\n",
    "    observation, reference_samples = task.get_reference(idx)\n",
    "    true_param = jnp.array(task.get_true_parameters(idx))\n",
    "\n",
    "    if rng is None:\n",
    "        rng = jax.random.PRNGKey(42)\n",
    "\n",
    "    samples = pipeline.sample(rng, observation, nsamples, use_ema=use_ema)\n",
    "    return samples, true_param, reference_samples"
   ]
  },
  {
   "cell_type": "code",
   "execution_count": 28,
   "metadata": {},
   "outputs": [],
   "source": [
    "samples, true_param, reference_samples =  get_samples(8)"
   ]
  },
  {
   "cell_type": "markdown",
   "metadata": {},
   "source": [
    "### Visualize Posterior Samples\n",
    "\n",
    "Plot the posterior samples as a 2D histogram."
   ]
  },
  {
   "cell_type": "code",
   "execution_count": 29,
   "metadata": {},
   "outputs": [],
   "source": [
    "from gensbi.utils.plotting import plot_marginals, plot_2d_dist_contour"
   ]
  },
  {
   "cell_type": "code",
   "execution_count": 30,
   "metadata": {},
   "outputs": [
    {
     "data": {
      "text/plain": [
       "<Figure size 640x480 with 0 Axes>"
      ]
     },
     "metadata": {},
     "output_type": "display_data"
    },
    {
     "data": {
      "image/png": "[encoded data removed]",
      "text/plain": [
       "<Figure size 550x550 with 4 Axes>"
      ]
     },
     "metadata": {},
     "output_type": "display_data"
    },
    {
     "data": {
      "image/png": "[encoded data removed]",
      "text/plain": [
       "<Figure size 600x600 with 3 Axes>"
      ]
     },
     "metadata": {},
     "output_type": "display_data"
    }
   ],
   "source": [
    "plot_marginals(samples, plot_levels=False, gridsize=50)\n",
    "plt.show()\n",
    "\n",
    "plot_marginals(samples, plot_levels=False, gridsize=50, backend=\"seaborn\")\n",
    "plt.show()"
   ]
  },
  {
   "attachments": {
    "image.png": {
     "image/png": "[encoded data removed]"
    }
   },
   "cell_type": "markdown",
   "metadata": {},
   "source": [
    "![image.png](attachment:image.png)"
   ]
  },
  {
   "cell_type": "markdown",
   "metadata": {},
   "source": [
    "# manual sampling"
   ]
  },
  {
   "cell_type": "code",
   "execution_count": 26,
   "metadata": {},
   "outputs": [],
   "source": [
    "from gensbi.utils.math import divergence\n",
    "from jax import Array\n",
    "from typing import Callable, Optional\n",
    "\n",
    "from einops import rearrange"
   ]
  },
  {
   "cell_type": "code",
   "execution_count": 27,
   "metadata": {},
   "outputs": [],
   "source": [
    "\n",
    "class ModelWrapper_old(nnx.Module):\n",
    "    \"\"\"\n",
    "    This class is used to wrap around another model. We define a call method which returns the model output. \n",
    "    Furthermore, we define a vector_field method which computes the vector field of the model,\n",
    "    and a divergence method which computes the divergence of the model, in a form useful for diffrax.\n",
    "    This is useful for ODE solvers that require the vector field and divergence of the model.\n",
    "\n",
    "    \"\"\"\n",
    "\n",
    "    def __init__(self, model: nnx.Module):\n",
    "        self.model = model\n",
    "\n",
    "    def _call_model(self, x: Array, t: Array, args, **kwargs) -> Array:\n",
    "        r\"\"\"\n",
    "        This method is a wrapper around the model's call method. It allows us to pass additional arguments\n",
    "        to the model, such as text conditions or other auxiliary information.\n",
    "\n",
    "        Args:\n",
    "            x (Array): input data to the model (batch_size, ...).\n",
    "            t (Array): time (batch_size).\n",
    "            args: additional information forwarded to the model, e.g., text condition.\n",
    "            **kwargs: additional keyword arguments.\n",
    "\n",
    "        Returns:\n",
    "            Array: model output.\n",
    "        \"\"\"\n",
    "        return self.model(x, t, args=args, **kwargs) # type: ignore\n",
    "\n",
    "    def __call__(self, x: Array, t: Array, args=None, **kwargs) -> Array:\n",
    "        r\"\"\"\n",
    "        This method defines how inputs should be passed through the wrapped model.\n",
    "        Here, we're assuming that the wrapped model takes both :math:`x` and :math:`t` as input,\n",
    "        along with any additional keyword arguments.\n",
    "\n",
    "        Optional things to do here:\n",
    "            - check that t is in the dimensions that the model is expecting.\n",
    "            - add a custom forward pass logic.\n",
    "            - call the wrapped model.\n",
    "\n",
    "        | given x, t\n",
    "        | returns the model output for input x at time t, with extra information `extra`.\n",
    "\n",
    "        Args:\n",
    "            x (Array): input data to the model (batch_size, ...).\n",
    "            t (Array): time (batch_size).\n",
    "            **extras: additional information forwarded to the model, e.g., text condition.\n",
    "\n",
    "        Returns:\n",
    "            Array: model output.\n",
    "        \"\"\"\n",
    "        return self._call_model(x, t, args, **kwargs)\n",
    "\n",
    "    def get_vector_field(self, **kwargs) -> Callable:\n",
    "        r\"\"\"Compute the vector field of the model, properly squeezed for the ODE term.\n",
    "\n",
    "        Args:\n",
    "            x (Array): input data to the model (batch_size, ...).\n",
    "            t (Array): time (batch_size).\n",
    "            args: additional information forwarded to the model, e.g., text condition.\n",
    "\n",
    "        Returns:\n",
    "            Array: vector field of the model.\n",
    "        \"\"\"\n",
    "        def vf(t, x, args):\n",
    "            vf = self._call_model(x, t, args, **kwargs)\n",
    "            # squeeze the first dimension of the vector field if it is 1\n",
    "            if vf.shape[0] == 1:\n",
    "                vf = jnp.squeeze(vf, axis=0)\n",
    "            return jnp.squeeze(vf, axis=-1)\n",
    "        return vf\n",
    "    \n",
    "\n",
    "    def get_divergence(self, **kwargs) -> Callable:\n",
    "        r\"\"\"Compute the divergence of the model.\n",
    "\n",
    "        Args:\n",
    "            t (Array): time (batch_size).\n",
    "            x (Array): input data to the model (batch_size, ...).\n",
    "            args: additional information forwarded to the model, e.g., text condition.\n",
    "\n",
    "        Returns:\n",
    "            Array: divergence of the model.\n",
    "        \"\"\"\n",
    "        vf = self.get_vector_field(**kwargs)\n",
    "        def div_(t, x, args):\n",
    "            div = divergence(vf, t, x, args)\n",
    "            # squeeze the first dimension of the divergence if it is 1\n",
    "            if div.shape[0] == 1:\n",
    "                div = jnp.squeeze(div, axis=0)\n",
    "            return div\n",
    "\n",
    "        \n",
    "        return div_\n",
    "        \n",
    "\n",
    "class SimformerConditioner_old(nnx.Module):\n",
    "    \"\"\"\n",
    "    Module to handle conditioning in the Simformer model.\n",
    "\n",
    "    Args:\n",
    "        model (Simformer): Simformer model instance.\n",
    "    \"\"\"\n",
    "    def __init__(self, model, dim_joint):\n",
    "        self.model = model\n",
    "        self.dim_joint = dim_joint\n",
    "\n",
    "    def conditioned(\n",
    "        self, \n",
    "        obs: Array, \n",
    "        obs_ids: Array, \n",
    "        cond: Array, \n",
    "        cond_ids: Array, \n",
    "        t: Array, \n",
    "        edge_mask: Optional[Array] = None\n",
    "    ) -> Array:\n",
    "        \"\"\"\n",
    "        Perform conditioned inference.\n",
    "\n",
    "        Args:\n",
    "            obs (Array): Observations.\n",
    "            obs_ids (Array): Observation identifiers.\n",
    "            cond (Array): Conditioning values.\n",
    "            cond_ids (Array): Conditioning identifiers.\n",
    "            t (Array): Time steps.\n",
    "            edge_mask (Optional[Array]): Mask for edges.\n",
    "\n",
    "        Returns:\n",
    "            Array: Conditioned output.\n",
    "        \"\"\"\n",
    "        obs = jnp.atleast_1d(obs)\n",
    "        cond = jnp.atleast_1d(cond)\n",
    "        t = jnp.atleast_1d(t)\n",
    "\n",
    "        if obs.ndim < 3:\n",
    "            obs = rearrange(obs, \"... -> 1 ... 1\" if obs.ndim == 1 else \"... -> ... 1\")\n",
    "\n",
    "        if cond.ndim < 3:\n",
    "            cond = rearrange(\n",
    "                cond, \"... -> 1 ... 1\" if cond.ndim == 1 else \"... -> ... 1\"\n",
    "            )\n",
    "        \n",
    "        # repeat cond on the first dimension to match obs\n",
    "        cond = jnp.broadcast_to(\n",
    "            cond, (obs.shape[0], *cond.shape[1:])\n",
    "        )\n",
    "\n",
    "        condition_mask_dim = len(obs_ids) + len(cond_ids)\n",
    "\n",
    "        condition_mask = jnp.zeros((condition_mask_dim,), dtype=jnp.bool_)\n",
    "        condition_mask = condition_mask.at[cond_ids].set(True)\n",
    "\n",
    "        x = jnp.concatenate([obs, cond], axis=1)\n",
    "        node_ids = jnp.concatenate([obs_ids, cond_ids])\n",
    "\n",
    "        # Sort the nodes and the corresponding values\n",
    "        # nodes_sort = jnp.argsort(node_ids)\n",
    "        # x = x[:, nodes_sort]\n",
    "        # node_ids = node_ids[nodes_sort]\n",
    "\n",
    "        res = self.model(\n",
    "            obs=x,\n",
    "            t=t,\n",
    "            node_ids=node_ids,\n",
    "            condition_mask=condition_mask,\n",
    "            edge_mask=edge_mask,\n",
    "        )\n",
    "        # now return only the values on which we are not conditioning\n",
    "        res = res[:, :len(obs_ids)]\n",
    "        # res = jnp.take_along_axis(res, obs_ids, axis=1)\n",
    "        return res\n",
    "\n",
    "    def unconditioned(\n",
    "        self, \n",
    "        obs: Array, \n",
    "        obs_ids: Array, \n",
    "        t: Array, \n",
    "        edge_mask: Optional[Array] = None\n",
    "    ) -> Array:\n",
    "        \"\"\"\n",
    "        Perform unconditioned inference.\n",
    "\n",
    "        Args:\n",
    "            obs (Array): Observations.\n",
    "            obs_ids (Array): Observation identifiers.\n",
    "            t (Array): Time steps.\n",
    "            edge_mask (Optional[Array]): Mask for edges.\n",
    "\n",
    "        Returns:\n",
    "            Array: Unconditioned output.\n",
    "        \"\"\"\n",
    "        obs = jnp.atleast_1d(obs)\n",
    "        t = jnp.atleast_1d(t)\n",
    "\n",
    "        if obs.ndim < 3:\n",
    "            obs = rearrange(obs, \"... -> 1 ... 1\" if obs.ndim == 1 else \"... -> ... 1\")\n",
    "\n",
    "        condition_mask = jnp.zeros((obs.shape[1],), dtype=jnp.bool_)\n",
    "\n",
    "        node_ids = obs_ids\n",
    "\n",
    "        res = self.model(\n",
    "            obs=obs,\n",
    "            t=t,\n",
    "            node_ids=node_ids,\n",
    "            condition_mask=condition_mask,\n",
    "            edge_mask=edge_mask,\n",
    "        )\n",
    "\n",
    "        return res\n",
    "\n",
    "    def __call__(\n",
    "        self, \n",
    "        obs: Array, \n",
    "        obs_ids: Array, \n",
    "        cond: Array, \n",
    "        cond_ids: Array, \n",
    "        t: Array, \n",
    "        conditioned: bool = True, \n",
    "        edge_mask: Optional[Array] = None\n",
    "    ) -> Array:\n",
    "        \"\"\"\n",
    "        Perform inference based on conditioning.\n",
    "\n",
    "        Args:\n",
    "            obs (Array): Observations.\n",
    "            obs_ids (Array): Observation identifiers.\n",
    "            cond (Array): Conditioning values.\n",
    "            cond_ids (Array): Conditioning identifiers.\n",
    "            timesteps (Array): Time steps.\n",
    "            conditioned (bool): Whether to perform conditioned inference.\n",
    "            edge_mask (Optional[Array]): Mask for edges.\n",
    "\n",
    "        Returns:\n",
    "            Array: Model output.\n",
    "        \"\"\"\n",
    "        if conditioned:\n",
    "            return self.conditioned(\n",
    "                obs, obs_ids, cond, cond_ids, t, edge_mask=edge_mask\n",
    "            )\n",
    "        else:\n",
    "            return self.unconditioned(obs, obs_ids, t, edge_mask=edge_mask)\n",
    "\n",
    "\n",
    "class SimformerWrapper_old(ModelWrapper_old):\n",
    "    def __init__(self, model, dim_joint):\n",
    "        model_conditioned = SimformerConditioner_old(model, dim_joint)\n",
    "        super().__init__(model_conditioned)\n",
    "\n",
    "    def _call_model(self, x, t, args, **kwargs):\n",
    "        return self.model(obs=x, t=t, **kwargs)"
   ]
  },
  {
   "cell_type": "code",
   "execution_count": 28,
   "metadata": {},
   "outputs": [],
   "source": [
    "from gensbi.utils.model_wrapping import ModelWrapper\n",
    "\n",
    "@jax.jit\n",
    "def _expand_dims(x: Array) -> Array:\n",
    "    x = jnp.atleast_1d(x)\n",
    "    if x.ndim < 3:\n",
    "        x = rearrange(x, \"... -> 1 ... 1\" if x.ndim == 1 else \"... -> ... 1\")\n",
    "    return x\n",
    "\n",
    "@jax.jit\n",
    "def _expand_time(t: Array) -> Array:\n",
    "    t = jnp.atleast_1d(t)\n",
    "    if t.ndim < 2:\n",
    "        t = t[..., None]\n",
    "    return t\n",
    "\n",
    "# class ModelWrapper_new(nnx.Module):\n",
    "#     \"\"\"\n",
    "#     This class is used to wrap around another model. We define a call method which returns the model output.\n",
    "#     Furthermore, we define a vector_field method which computes the vector field of the model,\n",
    "#     and a divergence method which computes the divergence of the model, in a form useful for diffrax.\n",
    "#     This is useful for ODE solvers that require the vector field and divergence of the model.\n",
    "\n",
    "#     \"\"\"\n",
    "\n",
    "#     def __init__(self, model: nnx.Module):\n",
    "#         self.model = model\n",
    "\n",
    "\n",
    "#     def __call__(self, t: Array, obs: Array, *args, **kwargs) -> Array:\n",
    "#         r\"\"\"\n",
    "#         This method defines how inputs should be passed through the wrapped model.\n",
    "#         Here, we're assuming that the wrapped model takes both :math:`obs` and :math:`t` as input,\n",
    "#         along with any additional keyword arguments.\n",
    "\n",
    "#         Optional things to do here:\n",
    "#             - check that t is in the dimensions that the model is expecting.\n",
    "#             - add a custom forward pass logic.\n",
    "#             - call the wrapped model.\n",
    "\n",
    "#         | given obs, t\n",
    "#         | returns the model output for input obs at time t, with extra information `extra`.\n",
    "\n",
    "#         Args:\n",
    "#             obs (Array): input data to the model (batch_size, ...).\n",
    "#             t (Array): time (batch_size).\n",
    "#             **extras: additional information forwarded to the model, e.g., text condition.\n",
    "\n",
    "#         Returns:\n",
    "#             Array: model output.\n",
    "#         \"\"\"\n",
    "#         obs = _expand_dims(obs)\n",
    "#         # t = self._expand_time(t)\n",
    "\n",
    "#         return self.model(obs, t, *args, **kwargs)\n",
    "\n",
    "#     def get_vector_field(self, **kwargs) -> Callable:\n",
    "#         r\"\"\"Compute the vector field of the model, properly squeezed for the ODE term.\n",
    "\n",
    "#         Args:\n",
    "#             x (Array): input data to the model (batch_size, ...).\n",
    "#             t (Array): time (batch_size).\n",
    "#             args: additional information forwarded to the model, e.g., text condition.\n",
    "\n",
    "#         Returns:\n",
    "#             Array: vector field of the model.\n",
    "#         \"\"\"\n",
    "\n",
    "#         def vf(t, x, args):\n",
    "#             # merge args and kwargs\n",
    "#             args = args if args is not None else {}\n",
    "#             vf = self(t, x, **args, **kwargs)\n",
    "#             # squeeze the first dimension of the vector field if it is 1\n",
    "#             if vf.shape[0] == 1:\n",
    "#                 vf = jnp.squeeze(vf, axis=0)\n",
    "\n",
    "#             vf = jnp.squeeze(vf, axis=-1)\n",
    "#             return vf\n",
    "\n",
    "#         return vf\n",
    "\n",
    "#     def get_divergence(self, **kwargs) -> Callable:\n",
    "#         r\"\"\"Compute the divergence of the model.\n",
    "\n",
    "#         Args:\n",
    "#             t (Array): time (batch_size).\n",
    "#             x (Array): input data to the model (batch_size, ...).\n",
    "#             args: additional information forwarded to the model, e.g., text condition.\n",
    "\n",
    "#         Returns:\n",
    "#             Array: divergence of the model.\n",
    "#         \"\"\"\n",
    "#         vf = self.get_vector_field(**kwargs)\n",
    "\n",
    "#         def div_(t, x, args):\n",
    "#             div = divergence(vf, t, x, args)\n",
    "#             # squeeze the first dimension of the divergence if it is 1\n",
    "#             if div.shape[0] == 1:\n",
    "#                 div = jnp.squeeze(div, axis=0)\n",
    "#             return div\n",
    "\n",
    "#         return div_\n",
    "    \n",
    "    \n",
    "\n",
    "# class SimformerConditioner_new(nnx.Module):\n",
    "#     \"\"\"\n",
    "#     Module to handle conditioning in the Simformer model.\n",
    "\n",
    "#     Args:\n",
    "#         model (Simformer): Simformer model instance.\n",
    "#     \"\"\"\n",
    "#     def __init__(self, model, dim_joint):\n",
    "#         self.model = model\n",
    "#         self.dim_joint = dim_joint\n",
    "\n",
    "#     def conditioned(\n",
    "#         self, \n",
    "#         obs: Array, \n",
    "#         obs_ids: Array, \n",
    "#         cond: Array, \n",
    "#         cond_ids: Array, \n",
    "#         t: Array, \n",
    "#         edge_mask: Optional[Array] = None\n",
    "#     ) -> Array:\n",
    "#         \"\"\"\n",
    "#         Perform conditioned inference.\n",
    "\n",
    "#         Args:\n",
    "#             obs (Array): Observations.\n",
    "#             obs_ids (Array): Observation identifiers.\n",
    "#             cond (Array): Conditioning values.\n",
    "#             cond_ids (Array): Conditioning identifiers.\n",
    "#             t (Array): Time steps.\n",
    "#             edge_mask (Optional[Array]): Mask for edges.\n",
    "\n",
    "#         Returns:\n",
    "#             Array: Conditioned output.\n",
    "#         \"\"\"\n",
    "#         obs = jnp.atleast_1d(obs)\n",
    "#         cond = jnp.atleast_1d(cond)\n",
    "#         t = jnp.atleast_1d(t)\n",
    "\n",
    "#         if obs.ndim < 3:\n",
    "#             obs = rearrange(obs, \"... -> 1 ... 1\" if obs.ndim == 1 else \"... -> ... 1\")\n",
    "\n",
    "#         if cond.ndim < 3:\n",
    "#             cond = rearrange(\n",
    "#                 cond, \"... -> 1 ... 1\" if cond.ndim == 1 else \"... -> ... 1\"\n",
    "#             )\n",
    "        \n",
    "#         # repeat cond on the first dimension to match obs\n",
    "#         cond = jnp.broadcast_to(\n",
    "#             cond, (obs.shape[0], *cond.shape[1:])\n",
    "#         )\n",
    "\n",
    "#         condition_mask_dim = len(obs_ids) + len(cond_ids)\n",
    "\n",
    "#         condition_mask = jnp.zeros((condition_mask_dim,), dtype=jnp.bool_)\n",
    "#         condition_mask = condition_mask.at[cond_ids].set(True)\n",
    "\n",
    "#         x = jnp.concatenate([obs, cond], axis=1)\n",
    "#         node_ids = jnp.concatenate([obs_ids, cond_ids])\n",
    "\n",
    "#         # Sort the nodes and the corresponding values\n",
    "#         # nodes_sort = jnp.argsort(node_ids)\n",
    "#         # x = x[:, nodes_sort]\n",
    "#         # node_ids = node_ids[nodes_sort]\n",
    "\n",
    "#         res = self.model(\n",
    "#             obs=x,\n",
    "#             t=t,\n",
    "#             node_ids=node_ids,\n",
    "#             condition_mask=condition_mask,\n",
    "#             edge_mask=edge_mask,\n",
    "#         )\n",
    "#         # now return only the values on which we are not conditioning\n",
    "#         res = res[:, :len(obs_ids)]\n",
    "#         # res = jnp.take_along_axis(res, obs_ids, axis=1)\n",
    "#         return res\n",
    "\n",
    "#     def unconditioned(\n",
    "#         self, \n",
    "#         obs: Array, \n",
    "#         obs_ids: Array, \n",
    "#         t: Array, \n",
    "#         edge_mask: Optional[Array] = None\n",
    "#     ) -> Array:\n",
    "#         \"\"\"\n",
    "#         Perform unconditioned inference.\n",
    "\n",
    "#         Args:\n",
    "#             obs (Array): Observations.\n",
    "#             obs_ids (Array): Observation identifiers.\n",
    "#             t (Array): Time steps.\n",
    "#             edge_mask (Optional[Array]): Mask for edges.\n",
    "\n",
    "#         Returns:\n",
    "#             Array: Unconditioned output.\n",
    "#         \"\"\"\n",
    "#         obs = jnp.atleast_1d(obs)\n",
    "#         t = jnp.atleast_1d(t)\n",
    "\n",
    "#         if obs.ndim < 3:\n",
    "#             obs = rearrange(obs, \"... -> 1 ... 1\" if obs.ndim == 1 else \"... -> ... 1\")\n",
    "\n",
    "#         condition_mask = jnp.zeros((obs.shape[1],), dtype=jnp.bool_)\n",
    "\n",
    "#         node_ids = obs_ids\n",
    "\n",
    "#         res = self.model(\n",
    "#             obs=obs,\n",
    "#             t=t,\n",
    "#             node_ids=node_ids,\n",
    "#             condition_mask=condition_mask,\n",
    "#             edge_mask=edge_mask,\n",
    "#         )\n",
    "\n",
    "#         return res\n",
    "\n",
    "#     def __call__(\n",
    "#         self, \n",
    "#         t: Array, \n",
    "#         obs: Array, \n",
    "#         obs_ids: Array, \n",
    "#         cond: Array, \n",
    "#         cond_ids: Array, \n",
    "#         conditioned: bool = True, \n",
    "#         edge_mask: Optional[Array] = None\n",
    "#     ) -> Array:\n",
    "#         \"\"\"\n",
    "#         Perform inference based on conditioning.\n",
    "\n",
    "#         Args:\n",
    "#             obs (Array): Observations.\n",
    "#             obs_ids (Array): Observation identifiers.\n",
    "#             cond (Array): Conditioning values.\n",
    "#             cond_ids (Array): Conditioning identifiers.\n",
    "#             timesteps (Array): Time steps.\n",
    "#             conditioned (bool): Whether to perform conditioned inference.\n",
    "#             edge_mask (Optional[Array]): Mask for edges.\n",
    "\n",
    "#         Returns:\n",
    "#             Array: Model output.\n",
    "#         \"\"\"\n",
    "#         if conditioned:\n",
    "#             return self.conditioned(\n",
    "#                 obs, obs_ids, cond, cond_ids, t, edge_mask=edge_mask\n",
    "#             )\n",
    "#         else:\n",
    "#             return self.unconditioned(obs, obs_ids, t, edge_mask=edge_mask)\n",
    "\n",
    "\n",
    "# class SimformerWrapper_new(ModelWrapper_new):\n",
    "#     def __init__(self, model, dim_joint):\n",
    "#         model_conditioned = SimformerConditioner_new(model, dim_joint)\n",
    "#         super().__init__(model_conditioned)\n",
    "    \n",
    "#     def __call__(self, t, obs, **kwargs):\n",
    "#         return self.model(t, obs, **kwargs)\n",
    "\n",
    "class SimformerWrapper_new(ModelWrapper):\n",
    "    \"\"\"\n",
    "    Module to handle conditioning in the Simformer model.\n",
    "\n",
    "    Args:\n",
    "        model (Simformer): Simformer model instance.\n",
    "    \"\"\"\n",
    "    def __init__(self, model, dim_joint):\n",
    "        super().__init__(model)\n",
    "        self.dim_joint = dim_joint\n",
    "\n",
    "    def conditioned(\n",
    "        self, \n",
    "        obs: Array, \n",
    "        obs_ids: Array, \n",
    "        cond: Array, \n",
    "        cond_ids: Array, \n",
    "        t: Array, \n",
    "        edge_mask: Optional[Array] = None\n",
    "    ) -> Array:\n",
    "        \"\"\"\n",
    "        Perform conditioned inference.\n",
    "\n",
    "        Args:\n",
    "            obs (Array): Observations.\n",
    "            obs_ids (Array): Observation identifiers.\n",
    "            cond (Array): Conditioning values.\n",
    "            cond_ids (Array): Conditioning identifiers.\n",
    "            t (Array): Time steps.\n",
    "            edge_mask (Optional[Array]): Mask for edges.\n",
    "\n",
    "        Returns:\n",
    "            Array: Conditioned output.\n",
    "        \"\"\"\n",
    "        \n",
    "        obs_dim = obs.shape[1]\n",
    "        cond_dim = cond.shape[1]\n",
    "        # repeat cond on the first dimension to match obs\n",
    "        cond = jnp.broadcast_to(\n",
    "            cond, (obs.shape[0], *cond.shape[1:])\n",
    "        )\n",
    "\n",
    "        condition_mask_dim = obs_dim + cond_dim\n",
    "\n",
    "        condition_mask = jnp.zeros((condition_mask_dim,), dtype=jnp.bool_)\n",
    "        condition_mask = condition_mask.at[obs_dim:].set(True)\n",
    "\n",
    "        x = jnp.concatenate([obs, cond], axis=1)\n",
    "        node_ids = jnp.concatenate([obs_ids, cond_ids])\n",
    "\n",
    "        res = self.model(\n",
    "            obs=x,\n",
    "            t=t,\n",
    "            node_ids=node_ids,\n",
    "            condition_mask=condition_mask,\n",
    "            edge_mask=edge_mask,\n",
    "        )\n",
    "        # now return only the values on which we are not conditioning\n",
    "        res = res[:, :obs_dim]\n",
    "        return res\n",
    "\n",
    "    def unconditioned(\n",
    "        self, \n",
    "        obs: Array, \n",
    "        obs_ids: Array, \n",
    "        t: Array, \n",
    "        edge_mask: Optional[Array] = None\n",
    "    ) -> Array:\n",
    "        \"\"\"\n",
    "        Perform unconditioned inference.\n",
    "\n",
    "        Args:\n",
    "            obs (Array): Observations.\n",
    "            obs_ids (Array): Observation identifiers.\n",
    "            t (Array): Time steps.\n",
    "            edge_mask (Optional[Array]): Mask for edges.\n",
    "\n",
    "        Returns:\n",
    "            Array: Unconditioned output.\n",
    "        \"\"\"\n",
    "\n",
    "        condition_mask = jnp.zeros((obs.shape[1],), dtype=jnp.bool_)\n",
    "\n",
    "        node_ids = obs_ids\n",
    "\n",
    "        res = self.model(\n",
    "            obs=obs,\n",
    "            t=t,\n",
    "            node_ids=node_ids,\n",
    "            condition_mask=condition_mask,\n",
    "            edge_mask=edge_mask,\n",
    "        )\n",
    "\n",
    "        return res\n",
    "\n",
    "    def __call__(\n",
    "        self, \n",
    "        t: Array, \n",
    "        obs: Array, \n",
    "        obs_ids: Array, \n",
    "        cond: Array, \n",
    "        cond_ids: Array, \n",
    "        conditioned: bool = True, \n",
    "        edge_mask: Optional[Array] = None\n",
    "    ) -> Array:\n",
    "        \"\"\"\n",
    "        Perform inference based on conditioning.\n",
    "\n",
    "        Args:\n",
    "            obs (Array): Observations.\n",
    "            obs_ids (Array): Observation identifiers.\n",
    "            cond (Array): Conditioning values.\n",
    "            cond_ids (Array): Conditioning identifiers.\n",
    "            timesteps (Array): Time steps.\n",
    "            conditioned (bool): Whether to perform conditioned inference.\n",
    "            edge_mask (Optional[Array]): Mask for edges.\n",
    "\n",
    "        Returns:\n",
    "            Array: Model output.\n",
    "        \"\"\"\n",
    "        t = _expand_time(t)\n",
    "        obs = _expand_dims(obs)\n",
    "        cond = _expand_dims(cond)\n",
    "        \n",
    "        if conditioned:\n",
    "            return self.conditioned(\n",
    "                obs, obs_ids, cond, cond_ids, t, edge_mask=edge_mask\n",
    "            )\n",
    "        else:\n",
    "            return self.unconditioned(obs, obs_ids, t, edge_mask=edge_mask)\n",
    "\n",
    "\n",
    "# class SimformerWrapper_new(ModelWrapper_new):\n",
    "#     def __init__(self, model, dim_joint):\n",
    "#         model_conditioned = SimformerConditioner_new(model, dim_joint)\n",
    "#         super().__init__(model_conditioned)\n",
    "    \n",
    "#     def __call__(self, t, obs, **kwargs):\n",
    "#         return self.model(t, obs, **kwargs)"
   ]
  },
  {
   "cell_type": "code",
   "execution_count": 29,
   "metadata": {},
   "outputs": [],
   "source": [
    "vf_wrapped_old = SimformerWrapper_old(pipeline.model, dim_joint)\n",
    "vf_wrapped_new = SimformerWrapper_new(pipeline.model, dim_joint)"
   ]
  },
  {
   "cell_type": "markdown",
   "metadata": {},
   "source": [
    "## test vector field"
   ]
  },
  {
   "cell_type": "code",
   "execution_count": 30,
   "metadata": {},
   "outputs": [],
   "source": [
    "idx=1\n",
    "observation, reference_samples =  task.get_reference(idx)\n",
    "true_param = jnp.array(task.get_true_parameters(idx))\n",
    "obs_ids = jnp.array([0, 1])\n",
    "cond_ids = jnp.array([2, 3])\n",
    "\n",
    "rng = jax.random.PRNGKey(45)\n",
    "\n",
    "key1,key2 = jax.random.split(rng, 2)\n",
    "\n",
    "x_init = jax.random.normal(key1,(nsamples, dim_theta)) # n, T_max, 1\n",
    "cond = jnp.broadcast_to(observation[...,None], (1, dim_data, 1)) # n, dim_theta, 1\n",
    "\n",
    "model_extras = {\"cond\": cond, \"obs_ids\": obs_ids, \"cond_ids\": cond_ids, \"edge_mask\": None}"
   ]
  },
  {
   "cell_type": "code",
   "execution_count": 31,
   "metadata": {},
   "outputs": [],
   "source": [
    "vf_old = vf_wrapped_old.get_vector_field(**model_extras)"
   ]
  },
  {
   "cell_type": "code",
   "execution_count": 32,
   "metadata": {},
   "outputs": [],
   "source": [
    "x = jax.random.normal(jax.random.PRNGKey(0),(10, dim_theta))\n",
    "t = jnp.ones((10,))*0.5"
   ]
  },
  {
   "cell_type": "code",
   "execution_count": 33,
   "metadata": {},
   "outputs": [],
   "source": [
    "old_val = vf_old(t,x,None)"
   ]
  },
  {
   "cell_type": "code",
   "execution_count": 34,
   "metadata": {},
   "outputs": [],
   "source": [
    "vf_new = vf_wrapped_new.get_vector_field(**model_extras)"
   ]
  },
  {
   "cell_type": "code",
   "execution_count": 35,
   "metadata": {},
   "outputs": [],
   "source": [
    "new_val = vf_new(t,x,None)"
   ]
  },
  {
   "cell_type": "code",
   "execution_count": 36,
   "metadata": {},
   "outputs": [
    {
     "data": {
      "text/plain": [
       "Array(True, dtype=bool)"
      ]
     },
     "execution_count": 36,
     "metadata": {},
     "output_type": "execute_result"
    }
   ],
   "source": [
    "jnp.allclose(old_val, new_val)"
   ]
  },
  {
   "cell_type": "markdown",
   "metadata": {},
   "source": [
    "## test sampling"
   ]
  },
  {
   "cell_type": "code",
   "execution_count": null,
   "metadata": {},
   "outputs": [],
   "source": [
    "\n",
    "from gensbi.flow_matching.path.scheduler import CondOTScheduler\n",
    "from gensbi.flow_matching.path import AffineProbPath\n",
    "from gensbi.flow_matching.solver import ODESolver"
   ]
  },
  {
   "cell_type": "code",
   "execution_count": null,
   "metadata": {},
   "outputs": [],
   "source": [
    "obs_ids = jnp.array([0, 1])\n",
    "cond_ids = jnp.array([2, 3])\n",
    "step_size = 0.01"
   ]
  },
  {
   "cell_type": "code",
   "execution_count": null,
   "metadata": {},
   "outputs": [],
   "source": [
    "def get_samples_old(vf_wrapped, idx, nsamples=10_000, edge_mask=None):\n",
    "    observation, reference_samples =  task.get_reference(idx)\n",
    "    true_param = jnp.array(task.get_true_parameters(idx))\n",
    "\n",
    "    rng = jax.random.PRNGKey(45)\n",
    "\n",
    "    key1,key2 = jax.random.split(rng, 2)\n",
    "\n",
    "    x_init = jax.random.normal(key1,(nsamples, dim_theta)) # n, T_max, 1\n",
    "    cond = jnp.broadcast_to(observation[...,None], (1, dim_data, 1)) # n, dim_theta, 1\n",
    "\n",
    "    solver = ODESolver(velocity_model=vf_wrapped)  # create an ODESolver class\n",
    "    model_extras = {\"cond\": cond, \"obs_ids\": obs_ids, \"cond_ids\": cond_ids, \"edge_mask\": edge_mask}\n",
    "\n",
    "    sampler_ = solver.get_sampler(method='Dopri5', step_size=step_size, return_intermediates=False, model_extras=model_extras)\n",
    "    samples = sampler_(x_init)  # sample from the model\n",
    "\n",
    "    return samples, true_param, reference_samples"
   ]
  },
  {
   "cell_type": "code",
   "execution_count": null,
   "metadata": {},
   "outputs": [],
   "source": [
    "samples_old, true_param, reference_samples = get_samples_old(vf_wrapped_old, 8)"
   ]
  },
  {
   "cell_type": "code",
   "execution_count": null,
   "metadata": {},
   "outputs": [],
   "source": [
    "plot_marginals(samples_old, plot_levels=False, gridsize=100, range=[(-1.,1.),(-1.,1.)], backend=\"seaborn\")\n",
    "plt.show()"
   ]
  },
  {
   "cell_type": "code",
   "execution_count": null,
   "metadata": {},
   "outputs": [],
   "source": []
  }
 ],
 "metadata": {
  "kernelspec": {
   "display_name": "gensbi",
   "language": "python",
   "name": "python3"
  },
  "language_info": {
   "codemirror_mode": {
    "name": "ipython",
    "version": 3
   },
   "file_extension": ".py",
   "mimetype": "text/x-python",
   "name": "python",
   "nbconvert_exporter": "python",
   "pygments_lexer": "ipython3",
   "version": "3.12.11"
  }
 },
 "nbformat": 4,
 "nbformat_minor": 2
}
