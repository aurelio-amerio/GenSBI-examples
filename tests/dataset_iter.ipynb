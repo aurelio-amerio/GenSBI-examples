{
 "cells": [
  {
   "cell_type": "code",
   "execution_count": 1,
   "id": "eeb6b56a",
   "metadata": {},
   "outputs": [
    {
     "name": "stderr",
     "output_type": "stream",
     "text": [
      "/lhome/ific/a/aamerio/miniforge3/envs/gensbi/lib/python3.12/site-packages/google/protobuf/runtime_version.py:98: UserWarning: Protobuf gencode version 5.28.3 is exactly one major version older than the runtime version 6.31.1 at grain/proto/execution_summary.proto. Please update the gencode to avoid compatibility violations in the next runtime release.\n",
      "  warnings.warn(\n"
     ]
    }
   ],
   "source": [
    "import os\n",
    "\n",
    "os.environ[\"JAX_PLATFORMS\"] = \"cpu\" \n",
    "\n",
    "\n",
    "from datasets import Dataset\n",
    "\n",
    "from gensbi_examples.tasks import get_task\n",
    "\n",
    "from jax import numpy as jnp\n",
    "\n",
    "import json\n",
    "from huggingface_hub import upload_file\n",
    "\n",
    "import numpy as np\n",
    "\n",
    "# Your dictionary with metadata\n"
   ]
  },
  {
   "cell_type": "code",
   "execution_count": 2,
   "id": "39aedadd",
   "metadata": {},
   "outputs": [],
   "source": [
    "task = get_task(\"two_moons\")"
   ]
  },
  {
   "cell_type": "code",
   "execution_count": 7,
   "id": "56a555c1",
   "metadata": {},
   "outputs": [],
   "source": [
    "ds_train = task.get_train_dataset(4000)\n",
    "ds_train_itr = iter(ds_train)"
   ]
  },
  {
   "cell_type": "code",
   "execution_count": 10,
   "id": "aad35fd2",
   "metadata": {},
   "outputs": [
    {
     "name": "stdout",
     "output_type": "stream",
     "text": [
      "5.34 ms ± 177 μs per loop (mean ± std. dev. of 7 runs, 1,000 loops each)\n"
     ]
    }
   ],
   "source": [
    "%timeit next(ds_train_itr)"
   ]
  }
 ],
 "metadata": {
  "kernelspec": {
   "display_name": "gensbi",
   "language": "python",
   "name": "python3"
  },
  "language_info": {
   "codemirror_mode": {
    "name": "ipython",
    "version": 3
   },
   "file_extension": ".py",
   "mimetype": "text/x-python",
   "name": "python",
   "nbconvert_exporter": "python",
   "pygments_lexer": "ipython3",
   "version": "3.12.11"
  }
 },
 "nbformat": 4,
 "nbformat_minor": 5
}
