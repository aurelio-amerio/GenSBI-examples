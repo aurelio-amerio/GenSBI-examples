{
 "cells": [
  {
   "cell_type": "code",
   "execution_count": 17,
   "id": "1c03b80b",
   "metadata": {},
   "outputs": [],
   "source": [
    "import os\n",
    "\n",
    "# Set JAX backend (use 'cuda' for GPU, 'cpu' otherwise)\n",
    "os.environ[\"JAX_PLATFORMS\"] = \"cuda\"\n",
    "\n",
    "from datasets import load_dataset\n",
    "\n",
    "import grain\n",
    "\n",
    "import jax \n",
    "from jax import numpy as jnp\n",
    "\n",
    "from flax import nnx\n",
    "\n",
    "from gensbi.models.autoencoders import AutoEncoder1D, AutoEncoderParams, vae_loss_fn\n",
    "\n",
    "import optax\n",
    "\n",
    "from tqdm import tqdm"
   ]
  },
  {
   "cell_type": "code",
   "execution_count": 2,
   "id": "826b707d",
   "metadata": {},
   "outputs": [],
   "source": [
    "repo_name = \"aurelio-amerio/SBI-benchmarks\"\n",
    "\n",
    "task_name = \"gravitational_waves\"\n",
    "\n",
    "# dataset = load_dataset(repo_name, task_name).with_format(\"numpy\")\n",
    "dataset = load_dataset(repo_name, task_name, cache_dir=\"/data/users/.cache\").with_format(\"numpy\")\n"
   ]
  },
  {
   "cell_type": "code",
   "execution_count": 3,
   "id": "168e946f",
   "metadata": {},
   "outputs": [],
   "source": [
    "df_train = dataset[\"train\"]"
   ]
  },
  {
   "cell_type": "code",
   "execution_count": 4,
   "id": "a1f20ccf",
   "metadata": {},
   "outputs": [],
   "source": [
    "def get_obs(batch):\n",
    "    return jnp.array(batch[\"xs\"],dtype=jnp.bfloat16)"
   ]
  },
  {
   "cell_type": "code",
   "execution_count": 5,
   "id": "acf84bc7",
   "metadata": {},
   "outputs": [],
   "source": [
    "dataset_grain = (\n",
    "            grain.MapDataset.source(df_train)\n",
    "            .shuffle(42)\n",
    "            .repeat()\n",
    "            .to_iter_dataset()\n",
    "            .batch(128)\n",
    "            .map(get_obs)\n",
    "        )"
   ]
  },
  {
   "cell_type": "code",
   "execution_count": 6,
   "id": "4172d6f0",
   "metadata": {},
   "outputs": [],
   "source": [
    "dset_iter = iter(dataset_grain)\n",
    "batch=next(dset_iter)"
   ]
  },
  {
   "cell_type": "code",
   "execution_count": 7,
   "id": "ebf7fe29",
   "metadata": {},
   "outputs": [
    {
     "name": "stdout",
     "output_type": "stream",
     "text": [
      "219 ms ± 22.7 ms per loop (mean ± std. dev. of 7 runs, 1 loop each)\n"
     ]
    }
   ],
   "source": [
    "%timeit next(dset_iter)"
   ]
  },
  {
   "cell_type": "code",
   "execution_count": 8,
   "id": "119b4cc4",
   "metadata": {},
   "outputs": [],
   "source": [
    "ae_params = AutoEncoderParams(\n",
    "            resolution=8192,\n",
    "            in_channels=2,\n",
    "            ch=32,\n",
    "            out_ch=2,\n",
    "            ch_mult=[1, # 4096\n",
    "                     2, # 2048\n",
    "                     4, # 1024\n",
    "                     8, # 512\n",
    "                     16, # 256\n",
    "                     16, # 128\n",
    "                    #  16, # 64\n",
    "                    #  16, # 32\n",
    "                    #  16, # 16\n",
    "                    #  16, # 8\n",
    "                    #  16 # 4\n",
    "                     ], \n",
    "            num_res_blocks=1,\n",
    "            z_channels=128,\n",
    "            scale_factor=0.3611,\n",
    "            shift_factor=0.1159,\n",
    "            rngs=nnx.Rngs(42),\n",
    "            param_dtype=jnp.bfloat16,\n",
    "        )"
   ]
  },
  {
   "cell_type": "code",
   "execution_count": 9,
   "id": "eda18b9d",
   "metadata": {},
   "outputs": [],
   "source": [
    "ae_model = AutoEncoder1D(ae_params)"
   ]
  },
  {
   "cell_type": "code",
   "execution_count": 10,
   "id": "70684916",
   "metadata": {},
   "outputs": [],
   "source": [
    "@nnx.jit\n",
    "def train_step(model: AutoEncoder1D, optimizer: nnx.Optimizer, x: jax.Array):\n",
    "\n",
    "  loss, grads = nnx.value_and_grad(vae_loss_fn)(model, x)\n",
    "  optimizer.update(model, grads)\n",
    "\n",
    "  return loss"
   ]
  },
  {
   "cell_type": "code",
   "execution_count": null,
   "id": "4fbf51d7",
   "metadata": {},
   "outputs": [],
   "source": [
    "optimizer = nnx.Optimizer(ae_model, optax.adamw(1e-3), wrt=nnx.Param)\n",
    "\n"
   ]
  },
  {
   "cell_type": "code",
   "execution_count": 19,
   "id": "121e8248",
   "metadata": {},
   "outputs": [
    {
     "name": "stderr",
     "output_type": "stream",
     "text": [
      "  3%|▎         | 317/10000 [03:59<2:01:45,  1.33it/s, loss=-1388.4187]\n"
     ]
    },
    {
     "ename": "KeyboardInterrupt",
     "evalue": "",
     "output_type": "error",
     "traceback": [
      "\u001b[31m---------------------------------------------------------------------------\u001b[39m",
      "\u001b[31mKeyboardInterrupt\u001b[39m                         Traceback (most recent call last)",
      "\u001b[36mCell\u001b[39m\u001b[36m \u001b[39m\u001b[32mIn[19]\u001b[39m\u001b[32m, line 8\u001b[39m\n\u001b[32m      4\u001b[39m \u001b[38;5;28;01mfor\u001b[39;00m j \u001b[38;5;129;01min\u001b[39;00m pbar:\n\u001b[32m      6\u001b[39m     batch=\u001b[38;5;28mnext\u001b[39m(dset_iter)\n\u001b[32m----> \u001b[39m\u001b[32m8\u001b[39m     loss = \u001b[43mtrain_step\u001b[49m\u001b[43m(\u001b[49m\n\u001b[32m      9\u001b[39m \u001b[43m        \u001b[49m\u001b[43mae_model\u001b[49m\u001b[43m,\u001b[49m\u001b[43m \u001b[49m\u001b[43moptimizer\u001b[49m\u001b[43m,\u001b[49m\u001b[43m \u001b[49m\u001b[43mbatch\u001b[49m\n\u001b[32m     10\u001b[39m \u001b[43m    \u001b[49m\u001b[43m)\u001b[49m\n\u001b[32m     12\u001b[39m     \u001b[38;5;28;01mif\u001b[39;00m j == \u001b[32m0\u001b[39m:\n\u001b[32m     13\u001b[39m         l_train = loss\n",
      "\u001b[36mFile \u001b[39m\u001b[32m~/miniforge3/envs/gensbi/lib/python3.12/site-packages/flax/nnx/transforms/compilation.py:433\u001b[39m, in \u001b[36mJitWrapped.__call__\u001b[39m\u001b[34m(self, *args, **kwargs)\u001b[39m\n\u001b[32m    431\u001b[39m \u001b[38;5;28;01mwith\u001b[39;00m graph.update_context(\u001b[38;5;28mself\u001b[39m):\n\u001b[32m    432\u001b[39m   pure_args, pure_kwargs = \u001b[38;5;28mself\u001b[39m._get_pure_args_kwargs(args, kwargs)\n\u001b[32m--> \u001b[39m\u001b[32m433\u001b[39m   pure_args_out, pure_kwargs_out, pure_out = \u001b[38;5;28;43mself\u001b[39;49m\u001b[43m.\u001b[49m\u001b[43mjitted_fn\u001b[49m\u001b[43m(\u001b[49m\n\u001b[32m    434\u001b[39m \u001b[43m    \u001b[49m\u001b[43m*\u001b[49m\u001b[43mpure_args\u001b[49m\u001b[43m,\u001b[49m\u001b[43m \u001b[49m\u001b[43m*\u001b[49m\u001b[43m*\u001b[49m\u001b[43mpure_kwargs\u001b[49m\n\u001b[32m    435\u001b[39m \u001b[43m  \u001b[49m\u001b[43m)\u001b[49m\n\u001b[32m    436\u001b[39m   out = \u001b[38;5;28mself\u001b[39m._get_non_pure_out(pure_args_out, pure_kwargs_out, pure_out)\n\u001b[32m    437\u001b[39m \u001b[38;5;28;01mreturn\u001b[39;00m out\n",
      "\u001b[36mFile \u001b[39m\u001b[32m~/miniforge3/envs/gensbi/lib/python3.12/site-packages/jax/_src/tree_util.py:1158\u001b[39m, in \u001b[36mregister_static.<locals>.<lambda>\u001b[39m\u001b[34m(obj, empty_iter_children)\u001b[39m\n\u001b[32m   1127\u001b[39m \u001b[38;5;250m\u001b[39m\u001b[33;03m\"\"\"Registers `cls` as a pytree with no leaves.\u001b[39;00m\n\u001b[32m   1128\u001b[39m \n\u001b[32m   1129\u001b[39m \u001b[33;03mInstances are treated as static by :func:`jax.jit`, :func:`jax.pmap`, etc. This can\u001b[39;00m\n\u001b[32m   (...)\u001b[39m\u001b[32m   1155\u001b[39m \u001b[33;03m  Array(3, dtype=int32, weak_type=True)\u001b[39;00m\n\u001b[32m   1156\u001b[39m \u001b[33;03m\"\"\"\u001b[39;00m\n\u001b[32m   1157\u001b[39m flatten = \u001b[38;5;28;01mlambda\u001b[39;00m obj: ((), obj)\n\u001b[32m-> \u001b[39m\u001b[32m1158\u001b[39m unflatten = \u001b[38;5;28;01mlambda\u001b[39;00m obj, empty_iter_children: obj\n\u001b[32m   1159\u001b[39m register_pytree_with_keys(\u001b[38;5;28mcls\u001b[39m, flatten, unflatten)\n\u001b[32m   1160\u001b[39m \u001b[38;5;28;01mreturn\u001b[39;00m \u001b[38;5;28mcls\u001b[39m\n",
      "\u001b[31mKeyboardInterrupt\u001b[39m: "
     ]
    }
   ],
   "source": [
    "pbar = tqdm(range(10_000))\n",
    "l_train = None\n",
    "\n",
    "for j in pbar:\n",
    "\n",
    "    batch=next(dset_iter)\n",
    "\n",
    "    loss = train_step(\n",
    "        ae_model, optimizer, batch\n",
    "    )\n",
    "\n",
    "    if j == 0:\n",
    "        l_train = loss\n",
    "    else:\n",
    "        l_train = 0.9 * l_train + 0.1 * loss\n",
    "\n",
    "    if j > 0 and j % 10 == 0:\n",
    "        pbar.set_postfix(\n",
    "            loss=f\"{l_train:.4f}\",\n",
    "        )"
   ]
  },
  {
   "cell_type": "code",
   "execution_count": null,
   "id": "1949d1bb",
   "metadata": {},
   "outputs": [],
   "source": []
  }
 ],
 "metadata": {
  "kernelspec": {
   "display_name": "gensbi",
   "language": "python",
   "name": "python3"
  },
  "language_info": {
   "codemirror_mode": {
    "name": "ipython",
    "version": 3
   },
   "file_extension": ".py",
   "mimetype": "text/x-python",
   "name": "python",
   "nbconvert_exporter": "python",
   "pygments_lexer": "ipython3",
   "version": "3.12.11"
  }
 },
 "nbformat": 4,
 "nbformat_minor": 5
}
