{
 "cells": [
  {
   "cell_type": "code",
   "execution_count": 3,
   "id": "1c03b80b",
   "metadata": {},
   "outputs": [],
   "source": [
    "import os\n",
    "\n",
    "# Set JAX backend (use 'cuda' for GPU, 'cpu' otherwise)\n",
    "os.environ[\"JAX_PLATFORMS\"] = \"cpu\"\n",
    "\n",
    "from datasets import load_dataset\n",
    "\n",
    "import grain\n",
    "\n",
    "import jax \n",
    "from jax import numpy as jnp\n",
    "\n",
    "from flax import nnx\n",
    "\n",
    "from gensbi.models.autoencoders import AutoEncoder1D, AutoEncoderParams, vae_loss_fn\n",
    "\n",
    "import optax"
   ]
  },
  {
   "cell_type": "code",
   "execution_count": 4,
   "id": "826b707d",
   "metadata": {},
   "outputs": [
    {
     "data": {
      "application/vnd.jupyter.widget-view+json": {
       "model_id": "c5f3f06213544dee895d9cb2f74730b7",
       "version_major": 2,
       "version_minor": 0
      },
      "text/plain": [
       "Resolving data files:   0%|          | 0/18 [00:00<?, ?it/s]"
      ]
     },
     "metadata": {},
     "output_type": "display_data"
    }
   ],
   "source": [
    "repo_name = \"aurelio-amerio/SBI-benchmarks\"\n",
    "\n",
    "task_name = \"gravitational_waves\"\n",
    "\n",
    "dataset = load_dataset(repo_name, task_name).with_format(\"numpy\")"
   ]
  },
  {
   "cell_type": "code",
   "execution_count": 5,
   "id": "168e946f",
   "metadata": {},
   "outputs": [],
   "source": [
    "df_train = dataset[\"train\"]"
   ]
  },
  {
   "cell_type": "code",
   "execution_count": 6,
   "id": "a1f20ccf",
   "metadata": {},
   "outputs": [],
   "source": [
    "def get_obs(batch):\n",
    "    return batch[\"xs\"]"
   ]
  },
  {
   "cell_type": "code",
   "execution_count": 7,
   "id": "acf84bc7",
   "metadata": {},
   "outputs": [],
   "source": [
    "dataset_grain = (\n",
    "            grain.MapDataset.source(df_train)\n",
    "            .shuffle(42)\n",
    "            .repeat()\n",
    "            .to_iter_dataset()\n",
    "            .batch(128)\n",
    "            .map(get_obs)\n",
    "        )"
   ]
  },
  {
   "cell_type": "code",
   "execution_count": 8,
   "id": "4172d6f0",
   "metadata": {},
   "outputs": [],
   "source": [
    "dset_iter = iter(dataset_grain)\n",
    "batch=next(dset_iter)"
   ]
  },
  {
   "cell_type": "code",
   "execution_count": 9,
   "id": "119b4cc4",
   "metadata": {},
   "outputs": [],
   "source": [
    "ae_params = AutoEncoderParams(\n",
    "            resolution=8192,\n",
    "            in_channels=2,\n",
    "            ch=128,\n",
    "            out_ch=2,\n",
    "            ch_mult=[1, 2, 2, 2, 4],\n",
    "            num_res_blocks=2,\n",
    "            z_channels=32,\n",
    "            scale_factor=0.3611,\n",
    "            shift_factor=0.1159,\n",
    "            rngs=nnx.Rngs(42),\n",
    "            param_dtype=jnp.float32,\n",
    "        )"
   ]
  },
  {
   "cell_type": "code",
   "execution_count": 10,
   "id": "eda18b9d",
   "metadata": {},
   "outputs": [],
   "source": [
    "ae_model = AutoEncoder1D(ae_params)"
   ]
  },
  {
   "cell_type": "code",
   "execution_count": 12,
   "id": "70684916",
   "metadata": {},
   "outputs": [],
   "source": [
    "@nnx.jit\n",
    "def train_step(model: AutoEncoder1D, optimizer: nnx.Optimizer, x: jax.Array):\n",
    "\n",
    "  loss, grads = nnx.value_and_grad(vae_loss_fn)(model, x)\n",
    "  optimizer.update(model, grads)\n",
    "\n",
    "  return loss"
   ]
  },
  {
   "cell_type": "code",
   "execution_count": 13,
   "id": "4fbf51d7",
   "metadata": {},
   "outputs": [],
   "source": [
    "optimizer = nnx.Optimizer(ae_model, optax.adamw(1e-3), wrt=nnx.Param)\n",
    "\n"
   ]
  },
  {
   "cell_type": "code",
   "execution_count": null,
   "id": "5e951183",
   "metadata": {},
   "outputs": [],
   "source": [
    "train_step(ae_model, optimizer, next(dset_iter))"
   ]
  },
  {
   "cell_type": "code",
   "execution_count": null,
   "id": "76ecdd49",
   "metadata": {},
   "outputs": [],
   "source": []
  }
 ],
 "metadata": {
  "kernelspec": {
   "display_name": "gensbi",
   "language": "python",
   "name": "python3"
  },
  "language_info": {
   "codemirror_mode": {
    "name": "ipython",
    "version": 3
   },
   "file_extension": ".py",
   "mimetype": "text/x-python",
   "name": "python",
   "nbconvert_exporter": "python",
   "pygments_lexer": "ipython3",
   "version": "3.12.11"
  }
 },
 "nbformat": 4,
 "nbformat_minor": 5
}
