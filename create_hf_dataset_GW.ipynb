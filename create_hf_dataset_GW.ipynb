{
 "cells": [
  {
   "cell_type": "code",
   "execution_count": 1,
   "id": "2614b8c9",
   "metadata": {},
   "outputs": [
    {
     "name": "stderr",
     "output_type": "stream",
     "text": [
      "/lhome/ific/a/aamerio/miniforge3/envs/gensbi/lib/python3.12/site-packages/google/protobuf/runtime_version.py:98: UserWarning: Protobuf gencode version 5.28.3 is exactly one major version older than the runtime version 6.31.1 at grain/proto/execution_summary.proto. Please update the gencode to avoid compatibility violations in the next runtime release.\n",
      "  warnings.warn(\n"
     ]
    }
   ],
   "source": [
    "import os\n",
    "\n",
    "os.environ[\"JAX_PLATFORMS\"] = \"cpu\" \n",
    "\n",
    "\n",
    "from datasets import Dataset\n",
    "\n",
    "from gensbi_examples.tasks import get_task\n",
    "\n",
    "from jax import numpy as jnp\n",
    "\n",
    "import json\n",
    "from huggingface_hub import upload_file\n",
    "\n",
    "import numpy as np\n",
    "\n",
    "# Your dictionary with metadata\n"
   ]
  },
  {
   "cell_type": "code",
   "execution_count": 2,
   "id": "182a4e6c",
   "metadata": {},
   "outputs": [],
   "source": [
    "import torch"
   ]
  },
  {
   "cell_type": "code",
   "execution_count": 3,
   "id": "1879d71f",
   "metadata": {},
   "outputs": [],
   "source": [
    "tasks = [\"two_moons\", \"slcp\", \"gaussian_linear\", \"gaussian_mixture\"]\n",
    "repo_name = \"aurelio-amerio/SBI-benchmarks\""
   ]
  },
  {
   "cell_type": "code",
   "execution_count": 3,
   "id": "52089a26",
   "metadata": {},
   "outputs": [
    {
     "name": "stdout",
     "output_type": "stream",
     "text": [
      "./task_data/data_two_moons.npz already exists, skipping download.\n",
      "./task_data/data_slcp.npz already exists, skipping download.\n",
      "./task_data/data_gaussian_linear_uniform.npz already exists, skipping download.\n",
      "./task_data/data_gaussian_linear.npz already exists, skipping download.\n",
      "./task_data/data_gaussian_mixture.npz already exists, skipping download.\n"
     ]
    }
   ],
   "source": [
    "metadata = {}\n",
    "\n",
    "for task_name in tasks:\n",
    "    task = get_task(task_name)\n",
    "    dim_data = task.data[\"dim_data\"].item()\n",
    "    dim_theta = task.data[\"dim_theta\"].item()\n",
    "\n",
    "    metadata[task_name] = {\"dim_data\": dim_data, \"dim_theta\": dim_theta}\n",
    "\n",
    "file_path = \"metadata.json\"\n",
    "with open(file_path, 'w') as f:\n",
    "    json.dump(metadata, f, indent=4)"
   ]
  },
  {
   "cell_type": "code",
   "execution_count": 4,
   "id": "b59107fd",
   "metadata": {},
   "outputs": [
    {
     "data": {
      "text/plain": [
       "CommitInfo(commit_url='https://huggingface.co/datasets/aurelio-amerio/SBI-benchmarks/commit/907cb05a9fbc842761e77c2a037cc9bc8efd0b52', commit_message='Upload metadata.json with huggingface_hub', commit_description='', oid='907cb05a9fbc842761e77c2a037cc9bc8efd0b52', pr_url=None, repo_url=RepoUrl('https://huggingface.co/datasets/aurelio-amerio/SBI-benchmarks', endpoint='https://huggingface.co', repo_type='dataset', repo_id='aurelio-amerio/SBI-benchmarks'), pr_revision=None, pr_num=None)"
      ]
     },
     "execution_count": 4,
     "metadata": {},
     "output_type": "execute_result"
    }
   ],
   "source": [
    "upload_file(\n",
    "    path_or_fileobj=file_path,\n",
    "    path_in_repo=\"metadata.json\",  # The name of the file in the repo\n",
    "    repo_id=repo_name,\n",
    "    repo_type=\"dataset\",\n",
    ")"
   ]
  },
  {
   "cell_type": "code",
   "execution_count": null,
   "id": "87eff394",
   "metadata": {},
   "outputs": [],
   "source": [
    "# upload dataset function\n",
    "\n",
    "def upload_dataset(task_name: str, repo_name: str):\n",
    "    task = get_task(task_name)\n",
    "    data_dict = dict(task.data)\n",
    "\n",
    "    max_samples = int(1e6)\n",
    "    dtype = jnp.float32\n",
    "\n",
    "    xs = data_dict[\"xs\"][: max_samples]\n",
    "    xs = xs.astype(dtype)\n",
    "    thetas = data_dict[\"thetas\"][: max_samples]\n",
    "    thetas = thetas.astype(dtype)\n",
    "\n",
    "    xs_val = data_dict[\"xs\"][max_samples :]\n",
    "    xs_val = xs_val.astype(dtype)\n",
    "    thetas_val = data_dict[\"thetas\"][max_samples :]\n",
    "    thetas_val = thetas_val.astype(dtype)\n",
    "\n",
    "    observations = data_dict[\"observations\"]\n",
    "    observations = observations.astype(dtype)\n",
    "\n",
    "    reference_samples = data_dict[\"reference_samples\"]\n",
    "    reference_samples = reference_samples.astype(dtype)\n",
    "\n",
    "    true_parameters = data_dict[\"true_parameters\"]\n",
    "    true_parameters = true_parameters.astype(dtype)\n",
    "\n",
    "    # dim_data = data_dict[\"dim_data\"]\n",
    "    # dim_theta = data_dict[\"dim_theta\"]\n",
    "    # dim_joint = dim_data + dim_theta\n",
    "    # num_observations = data_dict[\"num_observations\"]\n",
    "\n",
    "    dataset_train = Dataset.from_dict({\"xs\": xs, \"thetas\": thetas})\n",
    "    dataset_val = Dataset.from_dict({\"xs\": xs_val, \"thetas\": thetas_val})\n",
    "    dataset_reference_posterior = Dataset.from_dict(\n",
    "        {\"reference_samples\": reference_samples, \"observations\": observations, \"true_parameters\": true_parameters}\n",
    "    )\n",
    "\n",
    "    dataset_train.push_to_hub(repo_name, config_name=task_name, split=\"train\", private=False)\n",
    "    dataset_val.push_to_hub(repo_name, config_name=task_name, split=\"validation\", private=False)\n",
    "    dataset_reference_posterior.push_to_hub(repo_name, config_name=f\"{task_name}_posterior\", split=\"reference_posterior\", private=False)\n",
    "\n",
    "    return"
   ]
  },
  {
   "cell_type": "code",
   "execution_count": 3,
   "id": "83077f7b",
   "metadata": {},
   "outputs": [],
   "source": [
    "dir_GW = \"/lhome/ific/a/aamerio/data/GW\""
   ]
  },
  {
   "cell_type": "code",
   "execution_count": 4,
   "id": "75a3c703",
   "metadata": {},
   "outputs": [],
   "source": [
    "thetas = torch.load(f\"{dir_GW}/thetas_0.pt\")\n",
    "theta1 = torch.load(f\"{dir_GW}/thetas_1.pt\")\n",
    "theta2 = torch.load(f\"{dir_GW}/thetas_2.pt\")\n",
    "theta3 = torch.load(f\"{dir_GW}/thetas_3.pt\")\n",
    "theta4 = torch.load(f\"{dir_GW}/thetas_4.pt\")\n",
    "theta5 = torch.load(f\"{dir_GW}/thetas_5.pt\")\n",
    "theta6 = torch.load(f\"{dir_GW}/thetas_6.pt\")\n",
    "theta7 = torch.load(f\"{dir_GW}/thetas_7.pt\")\n",
    "theta8 = torch.load(f\"{dir_GW}/thetas_8.pt\")\n",
    "theta9 = torch.load(f\"{dir_GW}/thetas_9.pt\")\n",
    "\n",
    "xs_raw = torch.load(f\"{dir_GW}/xs_0.pt\")\n",
    "xs_raw1 = torch.load(f\"{dir_GW}/xs_1.pt\")\n",
    "xs_raw2 = torch.load(f\"{dir_GW}/xs_2.pt\")\n",
    "xs_raw3 = torch.load(f\"{dir_GW}/xs_3.pt\")\n",
    "xs_raw4 = torch.load(f\"{dir_GW}/xs_4.pt\")\n",
    "xs_raw5 = torch.load(f\"{dir_GW}/xs_5.pt\")\n",
    "xs_raw6 = torch.load(f\"{dir_GW}/xs_6.pt\")\n",
    "xs_raw7 = torch.load(f\"{dir_GW}/xs_7.pt\")\n",
    "xs_raw8 = torch.load(f\"{dir_GW}/xs_8.pt\")\n",
    "xs_raw9 = torch.load(f\"{dir_GW}/xs_9.pt\")"
   ]
  },
  {
   "cell_type": "code",
   "execution_count": 5,
   "id": "22a93496",
   "metadata": {},
   "outputs": [],
   "source": [
    "thetas = torch.cat([thetas, theta1, theta2, theta3, theta4, theta5, theta6, theta7, theta8, theta9], dim=0)\n",
    "xs_raw = torch.cat([xs_raw, xs_raw1, xs_raw2, xs_raw3, xs_raw4, xs_raw5, xs_raw6, xs_raw7, xs_raw8, xs_raw9], dim=0)"
   ]
  },
  {
   "cell_type": "code",
   "execution_count": 6,
   "id": "32f3652f",
   "metadata": {},
   "outputs": [],
   "source": [
    "thetas = thetas.numpy()\n",
    "xs_raw = xs_raw.numpy()"
   ]
  },
  {
   "cell_type": "code",
   "execution_count": 7,
   "id": "bddaef0a",
   "metadata": {},
   "outputs": [],
   "source": [
    "xs_train = xs_raw[:-512]\n",
    "xs_val = xs_raw[-512:]\n",
    "thetas_train = thetas[:-512]\n",
    "thetas_val = thetas[-512:]"
   ]
  },
  {
   "cell_type": "code",
   "execution_count": 9,
   "id": "6952a346",
   "metadata": {},
   "outputs": [
    {
     "ename": "",
     "evalue": "",
     "output_type": "error",
     "traceback": [
      "\u001b[1;31mThe Kernel crashed while executing code in the current cell or a previous cell. \n",
      "\u001b[1;31mPlease review the code in the cell(s) to identify a possible cause of the failure. \n",
      "\u001b[1;31mClick <a href='https://aka.ms/vscodeJupyterKernelCrash'>here</a> for more info. \n",
      "\u001b[1;31mView Jupyter <a href='command:jupyter.viewOutput'>log</a> for further details."
     ]
    }
   ],
   "source": [
    "dataset_train = Dataset.from_dict({\"xs\": xs_train, \"thetas\": thetas_train})\n",
    "dataset_val = Dataset.from_dict({\"xs\": xs_val, \"thetas\": thetas_val})"
   ]
  },
  {
   "cell_type": "code",
   "execution_count": null,
   "id": "07b8d7be",
   "metadata": {},
   "outputs": [],
   "source": [
    "dataset_train.push_to_hub(repo_name, config_name=\"gravitational_waves\", split=\"train\", private=False)\n",
    "dataset_val.push_to_hub(repo_name, config_name=\"gravitational_waves\", split=\"validation\", private=False)"
   ]
  }
 ],
 "metadata": {
  "kernelspec": {
   "display_name": "gensbi",
   "language": "python",
   "name": "python3"
  },
  "language_info": {
   "codemirror_mode": {
    "name": "ipython",
    "version": 3
   },
   "file_extension": ".py",
   "mimetype": "text/x-python",
   "name": "python",
   "nbconvert_exporter": "python",
   "pygments_lexer": "ipython3",
   "version": "3.12.11"
  }
 },
 "nbformat": 4,
 "nbformat_minor": 5
}
